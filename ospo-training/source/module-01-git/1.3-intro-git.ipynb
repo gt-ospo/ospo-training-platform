{
 "cells": [
  {
   "cell_type": "markdown",
   "id": "9f8f080a-89fd-4493-8a4d-3cf83269c551",
   "metadata": {
    "nbgrader": {
     "grade": false,
     "grade_id": "cell-152d851423deb89d",
     "locked": true,
     "schema_version": 3,
     "solution": false,
     "task": false
    }
   },
   "source": [
    "# 3: About Git\n",
    "\n",
    "<img src=\"../../img/icon-spill.png\" width=\"200\" />\n",
    "\n",
    "## What is Git?\n",
    "\n",
    "Git is the most widely used **version control system (VCS)** today.  Any VCS uses a database to record changes to a set of files over time, such as the source files in a software project.  The changes over time are called the history **history**.  Using the database, you can retrieve specific **versions** of files from any point in history.\n",
    "\n",
    "## Why is Git?\n",
    "\n",
    "<img src=\"../../img/it-worked-yesterday.png\" width=\"200\" />\n",
    "\n",
    "One of Git's biggest advantages is to make **collaboration** easier.  By using a branching workflow (which we'll discuss below), multiple developers can work independently on the same codebase.  \n",
    "\n",
    "Another advantage of any VCS is the ability to **respond to bugs**.  If your app is in production, and a bug is discovered, then you can revert the app to a previous stable while you investigate the cause.  The VCS also helps you discover which **specific change and developer** instroduced the bug.  The intent is not to blame or shame anyone.  Rather, the idea is that the developer who introduced the bug is the one who is most likely to know that part of the codebase and respond to that bug quickly.\n",
    "\n",
    "## Parts of a Git Project Directory\n",
    "\n",
    "The contents of a Git repo are stored on your computer as normal files in a normal directory.  In Git terminology, these files are the **working tree**.  You can edit these files freely with your usual text editors and IDEs.  \n",
    "\n",
    "On your computer, changes to the files are stored in the **local repository** (or local **database**).  Soon, we will learn how to store (or **commit**) new versions of the files; and how to retrieve (or **checkout**) previous versions of the files.  \n",
    "\n",
    "A small project directory is shown below. \n",
    "* The database and metadata are stored in the hidden `.git/` directory.  You can treat this as a black box, and your only interaction with the database and metadata should be via `git` commands.\n",
    "* `my_program.py` and `README.md` are files you are actively working on.  You definitely want to record these in the local repo.\n",
    "* `__pycache__` contains intermediate bytecode from running your Python program.  You probably do *not* want to record these in the local repo...\n",
    "\n",
    "``` Console\n",
    "~/my_git_project$ ls -la\n",
    "total 95\n",
    "drwxr-xr-x  4 gburdell  staff   6 Jan 25 12:33 .\n",
    "drwx--x--x 43 gburdell  staff  97 Jan 25 12:33 ..\n",
    "drwxr-xr-x  7 gburdell  staff  10 Jan 25 12:33 .git\n",
    "-rw-r--r--  1 gburdell  staff  69 Jan 25 12:32 my_program.py\n",
    "drwxr-xr-x  2 gburdell  staff   3 Jan 25 12:33 __pycache__\n",
    "-rw-r--r--  1 gburdell  staff  51 Jan 25 12:33 README.md\n",
    "```\n",
    "\n",
    "## Tracked vs. Untracked Files\n",
    "\n",
    "Git does not automatically add files from the working tree to the repo.  Instead, the user must explicitly specify which files are stored in the repo (**tracked**) and which are not (**untracked**).  It's important to consider which files to *not* track.  \n",
    "\n",
    "In a Python project, you should not track byte code (`*.pyc` and `*.pyo` in `__pycache__` directories) since they will be automatically regenerated whenever someone else runs it with a different operating system or Python version.  Tracking them will just take up unnecessary space in the database. \n",
    "\n",
    "For C/C++ and other compiled languages, you should not track build artifacts (`*.o` files, libraries, executables) for a simlar reason.  These artifacts will usually not work on a different operating system."
   ]
  },
  {
   "cell_type": "markdown",
   "id": "a4a8a858-9f24-4dbd-8b22-cad789fecbec",
   "metadata": {
    "nbgrader": {
     "grade": false,
     "grade_id": "cell-133bede9ae23aab2",
     "locked": true,
     "schema_version": 3,
     "solution": false,
     "task": false
    }
   },
   "source": [
    "## Quiz"
   ]
  },
  {
   "cell_type": "markdown",
   "id": "1aa07d63-e872-40b6-925d-66ab92ff7696",
   "metadata": {
    "nbgrader": {
     "grade": false,
     "grade_id": "cell-4cc8211ee6a8ef71",
     "locked": true,
     "schema_version": 3,
     "solution": false,
     "task": false
    }
   },
   "source": [
    "1. How can you check if a directory in your local machine is a Git repository?\n",
    "    1. You can see the `.` and `..` directories when you do `ls -la` in your terminal.\n",
    "    2. There exists a `README.md` file, which is a sign that this is a folder necessarily for collaborative work.\n",
    "    3. A `.git` repository exists, which stores the database and metadata of the Git repo.\n",
    "    4. You have to download a terminal plugin to see if your current directory is a Git repo. "
   ]
  },
  {
   "cell_type": "code",
   "execution_count": 3,
   "id": "128812dc-ec8f-49e8-98d6-47622ca32ede",
   "metadata": {
    "nbgrader": {
     "grade": false,
     "grade_id": "cell-b4952fb1f0ed112d",
     "locked": false,
     "schema_version": 3,
     "solution": true,
     "task": false
    }
   },
   "outputs": [],
   "source": [
    "# Input the answer below as a string, such as 'A', 'B', 'C', ...\n",
    "### BEGIN SOLUTION\n",
    "a1 = 'C'\n",
    "### END SOLUTION"
   ]
  },
  {
   "cell_type": "markdown",
   "id": "27fd7b05-5795-4090-b6a6-c53f9474c2e1",
   "metadata": {
    "nbgrader": {
     "grade": false,
     "grade_id": "cell-7d969256053b2dd3",
     "locked": true,
     "schema_version": 3,
     "solution": false,
     "task": false
    }
   },
   "source": [
    "2. It is considered good practice to track all kinds of files in your Git repo so that your collaborators will have the same access to all the files you have when they want to work on the project further"
   ]
  },
  {
   "cell_type": "code",
   "execution_count": 4,
   "id": "4d552254-108f-4e7d-a50f-4698849fe477",
   "metadata": {
    "nbgrader": {
     "grade": false,
     "grade_id": "cell-c45a153b9b97b6ca",
     "locked": false,
     "schema_version": 3,
     "solution": true,
     "task": false
    }
   },
   "outputs": [],
   "source": [
    "# Input the answer below as a Python boolean.\n",
    "### BEGIN SOLUTION\n",
    "a2 = False\n",
    "### END SOLUTION"
   ]
  },
  {
   "cell_type": "code",
   "execution_count": 5,
   "id": "7062abcc-0e50-41e9-a1be-4d40a86e8c5d",
   "metadata": {
    "nbgrader": {
     "grade": true,
     "grade_id": "cell-97451499bd882d4e",
     "locked": true,
     "points": 2,
     "schema_version": 3,
     "solution": false,
     "task": false
    }
   },
   "outputs": [],
   "source": [
    "### BEGIN HIDDEN TESTS\n",
    "assert a1 == 'C'\n",
    "assert a2 == False\n",
    "### END HIDDEN TESTS"
   ]
  }
 ],
 "metadata": {
  "kernelspec": {
   "display_name": "Python 3 (ipykernel)",
   "language": "python",
   "name": "python3"
  },
  "language_info": {
   "codemirror_mode": {
    "name": "ipython",
    "version": 3
   },
   "file_extension": ".py",
   "mimetype": "text/x-python",
   "name": "python",
   "nbconvert_exporter": "python",
   "pygments_lexer": "ipython3",
   "version": "3.12.10"
  }
 },
 "nbformat": 4,
 "nbformat_minor": 5
}
