{
 "cells": [
  {
   "cell_type": "markdown",
   "id": "59a10729-6d6b-409b-87b8-c7481b62d966",
   "metadata": {
    "nbgrader": {
     "grade": false,
     "grade_id": "cell-87d57c202a35668e",
     "locked": true,
     "schema_version": 3,
     "solution": false,
     "task": false
    }
   },
   "source": [
    "# 4: Working with a Git repo\n",
    "\n",
    "<img src=\"../../img/icon-plates.png\" width=\"200\" />\n",
    "\n",
    "In this section, we will create a local repo, add files, and work remote repo on GitHub\n",
    "\n",
    "## 4.1: Creating a repo and committing files\n",
    "\n",
    "### `git init`: Creating a local repo\n",
    "\n",
    "The `git init` command creates a local repo in the current directory.  Let's create a new directory, `~/git-workflow` and initialize a repo inside it.  \n",
    "\n",
    "(You can use a directory with a different name and location, if you like.)"
   ]
  },
  {
   "cell_type": "code",
   "execution_count": 1,
   "id": "0406f2b9-08dc-419a-8451-72777aeac9c4",
   "metadata": {
    "nbgrader": {
     "grade": false,
     "grade_id": "cell-5778a1a63fae062a",
     "locked": true,
     "schema_version": 3,
     "solution": false,
     "task": false
    }
   },
   "outputs": [
    {
     "name": "stdout",
     "output_type": "stream",
     "text": [
      "Initialized empty Git repository in /Users/minlu/git-workflow/.git/\n"
     ]
    }
   ],
   "source": [
    "%%bash\n",
    "\n",
    "mkdir ~/git-workflow\n",
    "cd ~/git-workflow\n",
    "git init"
   ]
  },
  {
   "cell_type": "markdown",
   "id": "c5de9032-a497-4bfc-a8d1-0417bf48b48b",
   "metadata": {
    "nbgrader": {
     "grade": false,
     "grade_id": "cell-9af61598ac3365c0",
     "locked": true,
     "schema_version": 3,
     "solution": false,
     "task": false
    }
   },
   "source": [
    "You can see the `.git/` directory was created for the database and metadata.  "
   ]
  },
  {
   "cell_type": "code",
   "execution_count": 4,
   "id": "538bfcc9-2c63-44f7-9d21-20e9f1f8ae06",
   "metadata": {
    "nbgrader": {
     "grade": false,
     "grade_id": "cell-8315a33c7e63a11f",
     "locked": true,
     "schema_version": 3,
     "solution": false,
     "task": false
    }
   },
   "outputs": [
    {
     "name": "stdout",
     "output_type": "stream",
     "text": [
      "total 0\n",
      "drwxr-xr-x@  3 minlu  staff    96B Jun 13 07:53 \u001b[1m\u001b[36m.\u001b[m\u001b[m\n",
      "drwxr-x---+ 66 minlu  staff   2.1K Jun 13 07:53 \u001b[1m\u001b[36m..\u001b[m\u001b[m\n",
      "drwxr-xr-x@  9 minlu  staff   288B Jun 13 07:53 \u001b[1m\u001b[36m.git\u001b[m\u001b[m\n"
     ]
    }
   ],
   "source": [
    "%%bash\n",
    "\n",
    "cd ~/git-workflow\n",
    "ls -lha"
   ]
  },
  {
   "cell_type": "markdown",
   "id": "62a587e2-22a2-421d-bf9b-4bb646aa183f",
   "metadata": {
    "nbgrader": {
     "grade": false,
     "grade_id": "cell-fc677f7553cd2612",
     "locked": true,
     "schema_version": 3,
     "solution": false,
     "task": false
    }
   },
   "source": [
    "#### Q1: In your $HOME directory, create a new directory named \"git-workflow2\" and initialize it as a Git repository."
   ]
  },
  {
   "cell_type": "code",
   "execution_count": null,
   "id": "f96e22c1-4698-4cb6-b89b-08732d7deb73",
   "metadata": {
    "nbgrader": {
     "grade": false,
     "grade_id": "cell-8950b81c080b55e2",
     "locked": false,
     "schema_version": 3,
     "solution": true,
     "task": false
    }
   },
   "outputs": [],
   "source": [
    "%%bash\n",
    "\n",
    "### BEGIN SOLUTION\n",
    "mkdir ~/git-workflow2\n",
    "cd ~/git-workflow2\n",
    "git init\n",
    "### END SOLUTION\n",
    "ls -al"
   ]
  },
  {
   "cell_type": "code",
   "execution_count": null,
   "id": "9ffad601-a320-4b08-b19a-79a97176d6d0",
   "metadata": {
    "nbgrader": {
     "grade": true,
     "grade_id": "cell-09f7c816539f6de8",
     "locked": true,
     "points": 1,
     "schema_version": 3,
     "solution": false,
     "task": false
    }
   },
   "outputs": [],
   "source": [
    "# Autotest to check if folder is created and is a Git repo"
   ]
  },
  {
   "cell_type": "markdown",
   "id": "a71a3040-9f58-4fdb-831b-7ba24b7cbec6",
   "metadata": {
    "nbgrader": {
     "grade": false,
     "grade_id": "cell-37cb50e1e7ef918d",
     "locked": true,
     "schema_version": 3,
     "solution": false,
     "task": false
    }
   },
   "source": [
    "### `git status`: Show the state of the working tree\n",
    "\n",
    "`git status` shows the state of tracked files, untracked files, and the database. Right now, the working tree is empty, and the database is empty, so there's not much to report.  \n",
    "\n",
    "We already have a **branch** called `main`, which was created when the repo was initialized.  We'll cover branches in detail soon.  For now, you can think of them like branches of a family tree that describe your project's history.  "
   ]
  },
  {
   "cell_type": "code",
   "execution_count": 7,
   "id": "e6e5d913-d1af-43dc-ab0a-368b3c0abdb7",
   "metadata": {
    "nbgrader": {
     "grade": false,
     "grade_id": "cell-e7eed61b6979d04b",
     "locked": true,
     "schema_version": 3,
     "solution": false,
     "task": false
    }
   },
   "outputs": [
    {
     "name": "stdout",
     "output_type": "stream",
     "text": [
      "On branch main\n",
      "\n",
      "No commits yet\n",
      "\n",
      "nothing to commit (create/copy files and use \"git add\" to track)\n"
     ]
    }
   ],
   "source": [
    "%%bash\n",
    "\n",
    "cd ~/git-workflow\n",
    "git status"
   ]
  },
  {
   "cell_type": "markdown",
   "id": "20277404-fcab-48c4-95bb-9c4e266e2827",
   "metadata": {
    "nbgrader": {
     "grade": false,
     "grade_id": "cell-5ef5daf811b0f85c",
     "locked": true,
     "schema_version": 3,
     "solution": false,
     "task": false
    }
   },
   "source": [
    "### Creating new files\n",
    "\n",
    "To create and edit files in your working tree, you can use any text editor.  In `~/git_workflow`, let's create two files.\n",
    "\n",
    "#### Q2: Create a file named `README.md` file with these contents. You might notice a mistake, but don't correct it right now! :)\n",
    "\n",
    "``` text\n",
    "# Git Workflow\n",
    "\n",
    "This is an example repo for the GT OSPO VSIP Spring 2024 Program.  \n",
    "```\n",
    "\n",
    "**Note:** Throughout the entire assignment, you can choose to run the necessary commands in whichever way you prefer, whether it be through the GUI or the terminal with the Jupyter Notebook cells. "
   ]
  },
  {
   "cell_type": "code",
   "execution_count": 10,
   "id": "f7c2fa35-4806-463e-98f9-e678b6edaf22",
   "metadata": {
    "nbgrader": {
     "grade": false,
     "grade_id": "cell-5abc839fe96f5948",
     "locked": false,
     "schema_version": 3,
     "solution": true,
     "task": false
    }
   },
   "outputs": [],
   "source": [
    "%%bash\n",
    "\n",
    "cd ~/git-workflow\n",
    "### BEGIN SOLUTION\n",
    "echo \"# Git Workflow\" > README.md\n",
    "echo \"\" >> README.md\n",
    "echo \"This is an example repo for the GT OSPO VSIP Spring 2024 Program.\" >> README.md\n",
    "### END SOLUTION"
   ]
  },
  {
   "cell_type": "code",
   "execution_count": null,
   "id": "475fc805-70d6-4859-99f3-aa2dd93be066",
   "metadata": {
    "nbgrader": {
     "grade": true,
     "grade_id": "cell-84fa1be175b0d575",
     "locked": true,
     "points": 1,
     "schema_version": 3,
     "solution": false,
     "task": false
    }
   },
   "outputs": [],
   "source": [
    "# Autograded test to check if the file exists"
   ]
  },
  {
   "cell_type": "markdown",
   "id": "0e249e1a-c39e-4881-8028-88c62f120191",
   "metadata": {
    "nbgrader": {
     "grade": false,
     "grade_id": "cell-d1053335dbb67066",
     "locked": true,
     "schema_version": 3,
     "solution": false,
     "task": false
    }
   },
   "source": [
    "#### Q3: Next, create a Python source file within your Git repo named `my_abs.py` with these contents. We will be making changes to `my_abs.py` throughout this demo.\n",
    "\n",
    "``` python\n",
    "def my_abs(x):\n",
    "    if x < 0:\n",
    "        return -x\n",
    "    else:\n",
    "        return x\n",
    "```\n",
    "\n",
    "**Note:** The correct file has also been created for you in the `code` directory under the course assignment folder if you prefer to copy the file over instead."
   ]
  },
  {
   "cell_type": "code",
   "execution_count": 12,
   "id": "42792a84-8d38-45ef-82f5-ba9cda48f338",
   "metadata": {
    "nbgrader": {
     "grade": false,
     "grade_id": "cell-7c525d8cb1bc36e6",
     "locked": false,
     "schema_version": 3,
     "solution": true,
     "task": false
    }
   },
   "outputs": [],
   "source": [
    "%%bash\n",
    "\n",
    "cd ~/git-workflow\n",
    "### BEGIN SOLUTION\n",
    "cp code/my_abs.py ~/git-workflow\n",
    "### END SOLUTION"
   ]
  },
  {
   "cell_type": "code",
   "execution_count": null,
   "id": "d2a214e4-95bb-472a-95db-3bb3e8154ae0",
   "metadata": {
    "nbgrader": {
     "grade": true,
     "grade_id": "cell-51e0929d3d445335",
     "locked": true,
     "points": 7,
     "schema_version": 3,
     "solution": false,
     "task": false
    }
   },
   "outputs": [],
   "source": [
    "# Autograded test to check if the file exists"
   ]
  },
  {
   "cell_type": "markdown",
   "id": "339d3cf3-c35c-4455-a6f0-868f23d0fbb8",
   "metadata": {
    "nbgrader": {
     "grade": false,
     "grade_id": "cell-9393a767933ff323",
     "locked": true,
     "schema_version": 3,
     "solution": false,
     "task": false
    }
   },
   "source": [
    "### Untracked files\n",
    "\n",
    "`git status` reports that the new files are **untracked**.  Recall that untracked files are not recorded in repo's database, and that Git does not automatically track new files.  Git helpfully suggests that we should track them with the `git add` command, and we'll do that soon.  But first let's discuss the possible **states** for files in your working tree.  Knowing these states can help you troubleshoot many issues when you're working with your repo. "
   ]
  },
  {
   "cell_type": "code",
   "execution_count": 14,
   "id": "78412c1c-c010-44c7-9f67-604e0e2326bc",
   "metadata": {
    "nbgrader": {
     "grade": false,
     "grade_id": "cell-9123eabb06830e77",
     "locked": true,
     "schema_version": 3,
     "solution": false,
     "task": false
    }
   },
   "outputs": [
    {
     "name": "stdout",
     "output_type": "stream",
     "text": [
      "On branch main\n",
      "\n",
      "No commits yet\n",
      "\n",
      "Untracked files:\n",
      "  (use \"git add <file>...\" to include in what will be committed)\n",
      "\tREADME.md\n",
      "\tmy_abs.py\n",
      "\n",
      "nothing added to commit but untracked files present (use \"git add\" to track)\n"
     ]
    }
   ],
   "source": [
    "%%bash\n",
    "\n",
    "cd ~/git-workflow\n",
    "git status"
   ]
  },
  {
   "cell_type": "markdown",
   "id": "11c95b02-780c-4f1a-8ee4-bcbea3ad1a21",
   "metadata": {
    "nbgrader": {
     "grade": false,
     "grade_id": "cell-d9fbd7d460b33501",
     "locked": true,
     "schema_version": 3,
     "solution": false,
     "task": false
    }
   },
   "source": [
    "### The state of files in a working tree\n",
    "\n",
    "Files in the working tree are either tracked or untracked:\n",
    "\n",
    "* **Untracked**: No versions of the file are stored in the repo's database\n",
    "* **Tracked**:  One or more versions of the file are in the database\n",
    "\n",
    "Additionally, changes in tracked files are always in one of three states:\n",
    "\n",
    "* **Unmodified**:  The file in the working is tree are up-to-date with the database.  Git sometimes refers to these changes as \"up-to-date\".  \n",
    "* **Modfied**:  The file has changes that have not yet been stored in the database.  Furthermore, the user hasn't specified that these changes will be stored in the next database update.  \n",
    "* **Staged**: The file's changes that will be stored in the next database update.  Git sometimes refers to these as \"to be committed\".  \n",
    "\n",
    "\n",
    "<img src=\"../../img/lifecycle.png\" width=\"800\" />\n",
    "\n",
    "\n",
    "(Image credit:  Scott Chacon and Ben Straub.  Pro Git, [Section 2.2](https://git-scm.com/book/en/v2/Git-Basics-Recording-Changes-to-the-Repository))\n",
    "\n",
    "\n",
    "### `git add`: Stage new changes\n",
    "\n",
    "In our working copy of `git_workflow`, we have two untracked files: `README.md` and `my_abs.py`.  To record their changes, we need two steps (as shown in the [diagram above](#The-state-of-files-in-a-working-tree)):\n",
    "\n",
    "1. **Add the files:**  This changes the files' states from \"Untracked\" to \"Staged\".  At this point, the changes are *ready* to be stored in the database but *are not yet stored*.  \n",
    "2. **Commit**:  This changes their state from \"Staged\" to \"Unmodified\".  At this point, the changes have actually been stored in the database.\n",
    "\n",
    "To accomplish Step 1 (Untracked ➞ Staged), we use `git add`.  Its usage is:\n",
    "\n",
    "```\n",
    "git add <file1> [<file2> ...]\n",
    "```"
   ]
  },
  {
   "cell_type": "code",
   "execution_count": 15,
   "id": "6d487cdd-993e-4dae-92f2-ae23a71028bd",
   "metadata": {
    "nbgrader": {
     "grade": false,
     "grade_id": "cell-d9053890d4cffba5",
     "locked": true,
     "schema_version": 3,
     "solution": false,
     "task": false
    }
   },
   "outputs": [
    {
     "name": "stdout",
     "output_type": "stream",
     "text": [
      "On branch main\n",
      "\n",
      "No commits yet\n",
      "\n",
      "Changes to be committed:\n",
      "  (use \"git rm --cached <file>...\" to unstage)\n",
      "\tnew file:   README.md\n",
      "\n",
      "Untracked files:\n",
      "  (use \"git add <file>...\" to include in what will be committed)\n",
      "\tmy_abs.py\n",
      "\n"
     ]
    }
   ],
   "source": [
    "%%bash\n",
    "\n",
    "cd ~/git-workflow\n",
    "git add README.md\n",
    "git status"
   ]
  },
  {
   "cell_type": "markdown",
   "id": "46383f94-33b7-4c23-8b34-753421d1a580",
   "metadata": {
    "nbgrader": {
     "grade": false,
     "grade_id": "cell-d41e99adac2fad0f",
     "locked": true,
     "schema_version": 3,
     "solution": false,
     "task": false
    }
   },
   "source": [
    "#### Q4: In the above cell, the new changes made to the `README.md` file has been staged. Now, stage the new changes for `my_abs.py`. "
   ]
  },
  {
   "cell_type": "code",
   "execution_count": 16,
   "id": "c3666fb2-291e-41f9-a9bb-e14e7b5d17b9",
   "metadata": {
    "nbgrader": {
     "grade": false,
     "grade_id": "cell-3fd8ac42c4697781",
     "locked": false,
     "schema_version": 3,
     "solution": true,
     "task": false
    }
   },
   "outputs": [],
   "source": [
    "%%bash\n",
    "\n",
    "cd ~/git-workflow\n",
    "### BEGIN SOLUTION\n",
    "git add my_abs.py\n",
    "### END SOLUTION"
   ]
  },
  {
   "cell_type": "code",
   "execution_count": 18,
   "id": "5d541bc5-68aa-45be-a87f-9025eadb8d22",
   "metadata": {
    "nbgrader": {
     "grade": true,
     "grade_id": "cell-f29541cc7dd693a5",
     "locked": true,
     "points": 1,
     "schema_version": 3,
     "solution": false,
     "task": false
    }
   },
   "outputs": [],
   "source": [
    "# Autograded test to check if my_abs.py has been added as a tracked file in the repo."
   ]
  },
  {
   "cell_type": "markdown",
   "id": "d508888a-1223-4c4f-a395-e28c3f330c89",
   "metadata": {
    "nbgrader": {
     "grade": false,
     "grade_id": "cell-58e7c93505ff7e51",
     "locked": true,
     "schema_version": 3,
     "solution": false,
     "task": false
    }
   },
   "source": [
    "### Modifying a staged file\n",
    "\n",
    "What happens when you've staged a file, but before you commit it, you realize you need to fix something?  For example, in `README.md`, we made a typo.  We wrote \"Spring 2024\" instead of \"Summer 2024\".  \n",
    "\n",
    "**Correct the date shown in the first line of `README.md` with our text editor, and then look at the `git status`:**"
   ]
  },
  {
   "cell_type": "code",
   "execution_count": 17,
   "id": "9101871e-4ba6-42ef-91b2-5785bda7f7a4",
   "metadata": {
    "nbgrader": {
     "grade": false,
     "grade_id": "cell-8173853fabe0116d",
     "locked": true,
     "schema_version": 3,
     "solution": false,
     "task": false
    }
   },
   "outputs": [
    {
     "name": "stdout",
     "output_type": "stream",
     "text": [
      "On branch main\n",
      "\n",
      "No commits yet\n",
      "\n",
      "Changes to be committed:\n",
      "  (use \"git rm --cached <file>...\" to unstage)\n",
      "\tnew file:   README.md\n",
      "\tnew file:   my_abs.py\n",
      "\n"
     ]
    }
   ],
   "source": [
    "%%bash\n",
    "\n",
    "cd ~/git-workflow\n",
    "git status"
   ]
  },
  {
   "cell_type": "markdown",
   "id": "f3404c76-b35f-480a-aeff-1365087dd2ff",
   "metadata": {
    "nbgrader": {
     "grade": false,
     "grade_id": "cell-a60ba9971962420e",
     "locked": true,
     "schema_version": 3,
     "solution": false,
     "task": false
    }
   },
   "source": [
    "Git tells us:\n",
    "* `README.md` and `my_abs.py` have changes that are staged (\"to be committed\")\n",
    "* `README.md` also has changes that are not staged\n",
    "\n",
    "How can one file have both staged and unstaged changes?  The reason is that `git add` stages the state of the file **at the exact moment** you run `git add`.  So if you run `git add`, and make additional changes afterwards (like changing \"Spring\" to \"Summer\"), then those additional changes are not automatically staged.  \n",
    "\n",
    "### Staging new content (again)\n",
    "\n",
    "To fix this, we'll run `git add` again to stage the new changes (\"Spring\" to \"Summer\").  You can see that Git suggests this, too, when it says: 'use \"git add <file>...\" to update what will be committed'"
   ]
  },
  {
   "cell_type": "code",
   "execution_count": 20,
   "id": "e98e401f-6081-4661-818a-5024092de626",
   "metadata": {
    "nbgrader": {
     "grade": false,
     "grade_id": "cell-fcad7d52710f1afe",
     "locked": true,
     "schema_version": 3,
     "solution": false,
     "task": false
    }
   },
   "outputs": [],
   "source": [
    "%%bash\n",
    "\n",
    "cd ~/git-workflow\n",
    "git add README.md"
   ]
  },
  {
   "cell_type": "markdown",
   "id": "419d3329-c8c2-42f5-ad77-ba1abe112879",
   "metadata": {
    "nbgrader": {
     "grade": false,
     "grade_id": "cell-832ca621daffaafc",
     "locked": true,
     "schema_version": 3,
     "solution": false,
     "task": false
    }
   },
   "source": [
    "Now we see that all the changes in `README.md` have been staged, since there are no \"Changes not staged for commit\" anymore.  "
   ]
  },
  {
   "cell_type": "code",
   "execution_count": 21,
   "id": "580cdd46-346e-4f57-af4e-3e8f143773a3",
   "metadata": {
    "nbgrader": {
     "grade": false,
     "grade_id": "cell-529221b320dc42db",
     "locked": true,
     "schema_version": 3,
     "solution": false,
     "task": false
    }
   },
   "outputs": [
    {
     "name": "stdout",
     "output_type": "stream",
     "text": [
      "On branch main\n",
      "\n",
      "No commits yet\n",
      "\n",
      "Changes to be committed:\n",
      "  (use \"git rm --cached <file>...\" to unstage)\n",
      "\tnew file:   README.md\n",
      "\tnew file:   my_abs.py\n",
      "\n"
     ]
    }
   ],
   "source": [
    "%%bash\n",
    "\n",
    "cd ~/git-workflow\n",
    "git status"
   ]
  },
  {
   "cell_type": "markdown",
   "id": "c7d88705-2147-4ad9-9efb-8000cd64131d",
   "metadata": {
    "nbgrader": {
     "grade": false,
     "grade_id": "cell-b0aa06f947096f28",
     "locked": true,
     "schema_version": 3,
     "solution": false,
     "task": false
    }
   },
   "source": [
    "### `git commit`: Updating the database\n",
    "\n",
    "Finally, we'll use `git commit` to record the previously-staged changes to the database.  \n",
    "\n",
    "You can use the `-m` option to specify a **commit message** on the command line.  This is a short message that lets other humans know what changes you've made.  Many projects have conventions about what info should go into a commit message.  Ask your project manager for details.  \n",
    "\n",
    "(If you do not use `-m`, a text editor will pop up and prompt you to enter a message.)"
   ]
  },
  {
   "cell_type": "code",
   "execution_count": 22,
   "id": "323cd9a7-a66f-4bd1-94d4-4a470a04b78b",
   "metadata": {
    "nbgrader": {
     "grade": false,
     "grade_id": "cell-07d87ba74affc38e",
     "locked": true,
     "schema_version": 3,
     "solution": false,
     "task": false
    }
   },
   "outputs": [
    {
     "name": "stdout",
     "output_type": "stream",
     "text": [
      "[main (root-commit) f17a6d7] First commit of README and my_abs (no try/except yet)\n",
      " 2 files changed, 8 insertions(+)\n",
      " create mode 100644 README.md\n",
      " create mode 100644 my_abs.py\n"
     ]
    }
   ],
   "source": [
    "%%bash\n",
    "\n",
    "cd ~/git-workflow\n",
    "git commit -m \"First commit of README and my_abs (no try/except yet)\""
   ]
  },
  {
   "cell_type": "markdown",
   "id": "980ba0c3-ddcc-481c-b809-fdccc3534ea3",
   "metadata": {
    "nbgrader": {
     "grade": false,
     "grade_id": "cell-63652cc895956e07",
     "locked": true,
     "schema_version": 3,
     "solution": false,
     "task": false
    }
   },
   "source": [
    "### `git log`:  Showing the repo's history\n",
    "\n",
    "Now that we actually have information in our repo's database, we can use `git log` to show the history.  `git log` has many options to show more or less information about the history.  You can run `git help log` to see all the available options."
   ]
  },
  {
   "cell_type": "code",
   "execution_count": 23,
   "id": "2e1827c0-c53c-44c6-ac32-6f37e7426d39",
   "metadata": {
    "nbgrader": {
     "grade": false,
     "grade_id": "cell-0a24570aa40d61f3",
     "locked": true,
     "schema_version": 3,
     "solution": false,
     "task": false
    }
   },
   "outputs": [
    {
     "name": "stdout",
     "output_type": "stream",
     "text": [
      "commit f17a6d75a3aea6712539bd3f3ee18a731a42fc60\n",
      "Author: Min Lu <luming2k10@gmail.com>\n",
      "Date:   Fri Jun 13 08:20:42 2025 -0400\n",
      "\n",
      "    First commit of README and my_abs (no try/except yet)\n"
     ]
    }
   ],
   "source": [
    "%%bash\n",
    "\n",
    "cd ~/git-workflow\n",
    "git log"
   ]
  },
  {
   "cell_type": "markdown",
   "id": "d0de52b8-254b-4f1c-9add-379cdbc5ad92",
   "metadata": {
    "nbgrader": {
     "grade": false,
     "grade_id": "cell-0f2be147a5a6d484",
     "locked": true,
     "schema_version": 3,
     "solution": false,
     "task": false
    }
   },
   "source": [
    "## 4.2: Working with remotes\n",
    "\n",
    "Up to this point, we've only made changes to the **local** repo on our computer.  We haven't touched GitHub at all.  Now, we are going to create a **remote** repo on GitHub and upload our local repo to it.\n",
    "\n",
    "### Creating a remote repo\n",
    "\n",
    "From the front page of [GitHub](https://github.com), you can create a new repo by clicking on the the \"+\" button on the top menu bar.  You can also go directly to [https://github.com/new](https://github.com/new)\n",
    "\n",
    "<img src=\"../../img/working-with-remote-01.png\" width=\"500\" />\n",
    "\n",
    "You should now see the \"Create a new repository\" page.  Since we are uploading an existing repository (instead of creating a new one), we'll only need a few options.\n",
    "\n",
    "* **Repository template**:  GitHub has starter templates (with directories and some boilerplate code) for common types of projects.  We'll select \"No template\".\n",
    "* **Owner**:  The repo's owner can be an individual account or an organization (a group of accounts).  A GitHub organization is a powerful tool for collaborating and managing permissions, and more likely than not, you'll be working in an organization for your VSIP project.  For this tutorial, let's use your individual GitHub account.\n",
    "* **Repository name**: This will be the last part of the repo's URL.  When someone clones your repo, it will also be the default name for the project directory.  Let's give it the same name as your existing project directory.\n",
    "* **Visibility**: You can make your repo either Public or Private, whichever you prefer\n",
    "* **Initialize this repository** and below:  Since we are uploading an existing repo, we should not create a `README`, `.gitignore`, or license.\n",
    "\n",
    "When you're finished, click the \"Create repository\" button\n",
    "\n",
    "<img src=\"../../img/working-with-remote-02.png\" width=\"500\" />\n",
    "\n",
    "You will now be taken to your repo's webpage, and you should see the following info.  We're going to focus on the section \"...or push an existing repo from the command line.\"  In particular, we will focus on the `git remote add` command and the `git push` command. \n",
    "\n",
    "(*The `git branch -M main` command is intended for legacy Git repos that would like to change their default branch name.  Historically, Git's default branch name was \"master\".  Starting around 2020, the Git community began efforts to change this naming convention to \"main\".  This was widely embraced by stakeholders in the community, such as [Git](https://lore.kernel.org/git/pull.656.v4.git.1593009996.gitgitgadget@gmail.com/) itself, [GitHub](https://github.blog/changelog/2020-10-01-the-default-branch-for-newly-created-repositories-is-now-main/), [GitLab](https://about.gitlab.com/blog/2021/03/10/new-git-default-branch-name/), and [BitBucket](https://bitbucket.org/blog/moving-away-from-master-as-the-default-name-for-branches-in-git).  Today, in recent versions of Git, the default branch name is \"main\", so you will not need to explicitly change the default with `git branch -M main`*)\n",
    "\n",
    "<img src=\"../../img/working-with-remote-03.png\" width=\"600\" />\n",
    "\n",
    "### `git remote`:  Add and manage remotes\n",
    "\n",
    "The `git remote add` command lets you link your local repo to a remote repo.  The syntax is:\n",
    "```\n",
    "git remote add <name> <url>\n",
    "```\n",
    "The `<url>` is the URL of your repo on GitHub.  The `<name>` is a shorter identifier for that URL, which makes life easier for humans.  By convention, humans use \"origin\" as the name for the default remote.  When you are collaborating with a team and have multiple remotes (which is quite common!), there are naming conventions for other remotes (such as \"upstream\").\n",
    "\n",
    "Here, we only have one remote, so we name it **`origin`**.  \n",
    "\n",
    "#### Q5: Link your local repo to your own remote GitHub repo using the following command. Make sure you use the URL from your own GitHub repo!"
   ]
  },
  {
   "cell_type": "code",
   "execution_count": null,
   "id": "a668108e-865a-4c4e-866b-44a803735488",
   "metadata": {
    "nbgrader": {
     "grade": false,
     "grade_id": "cell-f388d4854cf00348",
     "locked": false,
     "schema_version": 3,
     "solution": true,
     "task": false
    }
   },
   "outputs": [],
   "source": [
    "%%bash\n",
    "\n",
    "cd ~/git-workflow\n",
    "### BEGIN SOLUTION\n",
    "git remote add origin git@github.com:GeorgeBurdell/git-workflow.git\n",
    "### END SOLUTION"
   ]
  },
  {
   "cell_type": "code",
   "execution_count": null,
   "id": "5fef6520-7a60-4ff1-b094-9f92cb24d2cd",
   "metadata": {
    "nbgrader": {
     "grade": true,
     "grade_id": "cell-b33299cfa66bd17d",
     "locked": true,
     "points": 1,
     "schema_version": 3,
     "solution": false,
     "task": false
    }
   },
   "outputs": [],
   "source": [
    "# Autotest to see if a remote has been added to the repo."
   ]
  },
  {
   "cell_type": "markdown",
   "id": "2b4b0528-f95c-4bf7-9ddf-e358aa8e6bb8",
   "metadata": {
    "nbgrader": {
     "grade": false,
     "grade_id": "cell-c370b634f5ed731c",
     "locked": true,
     "schema_version": 3,
     "solution": false,
     "task": false
    }
   },
   "source": [
    "Now you can use the `git remote -v` command to see which remotes are defined.  You can see that this remote is setup for both fetching (downloading) and pushing (uploading)."
   ]
  },
  {
   "cell_type": "code",
   "execution_count": 25,
   "id": "d413d285-f893-4b77-b5f4-0b72f7abb330",
   "metadata": {
    "nbgrader": {
     "grade": false,
     "grade_id": "cell-48ba04a2056f070a",
     "locked": true,
     "schema_version": 3,
     "solution": false,
     "task": false
    }
   },
   "outputs": [],
   "source": [
    "%%bash\n",
    "\n",
    "cd ~/git-workflow\n",
    "git remote -v"
   ]
  },
  {
   "cell_type": "markdown",
   "id": "b2c6e600-2f9f-40dc-8138-d69e02cb33a8",
   "metadata": {
    "nbgrader": {
     "grade": false,
     "grade_id": "cell-c3dfc0ee67166963",
     "locked": true,
     "schema_version": 3,
     "solution": false,
     "task": false
    }
   },
   "source": [
    "### `git push`: Upload to the remote repo\n",
    "\n",
    "The `git push` command is used to upload changes from your local repo to a defined remote repo.  The synax is:\n",
    "\n",
    "```\n",
    "git push <remote> <branch>\n",
    "```\n",
    "\n",
    "A useful first-time option is `-u`.  It sets `<remote>` as the default remote for `<branch>`.  We'll use that below.  Th effect is that, in subsequent pushes, we can use `git push` without any extra arguments to push `main` to `origin`"
   ]
  },
  {
   "cell_type": "code",
   "execution_count": null,
   "id": "28b0bb3d-4267-4829-b9c0-9d9db8f8d2d0",
   "metadata": {
    "nbgrader": {
     "grade": false,
     "grade_id": "cell-5bc7390a7aeb1e5b",
     "locked": true,
     "schema_version": 3,
     "solution": false,
     "task": false
    }
   },
   "outputs": [],
   "source": [
    "%%bash\n",
    "\n",
    "cd ~/git-workflow\n",
    "git push -u origin main"
   ]
  },
  {
   "cell_type": "markdown",
   "id": "b13797d8-c91e-4a14-80bd-9717b8a79978",
   "metadata": {
    "nbgrader": {
     "grade": false,
     "grade_id": "cell-cfb1df28ce93b299",
     "locked": true,
     "schema_version": 3,
     "solution": false,
     "task": false
    }
   },
   "source": [
    "### Back to GitHub\n",
    "\n",
    "Now you can go back to your repo's webpage on GitHub and see your repo's contents!  You might need to click the refresh button in your browser to see the updates.  \n",
    "\n",
    "## 4.3: Downloading a repo\n",
    "\n",
    "### `git clone`:  Download a repo\n",
    "\n",
    "Now that your GitHub repo is populated, let's try downloading (or **cloning**) it somewhere else.  It's common to clone your repo on multiple computers depending on where you're working (like your laptop, a remote server, etc.).  For this demo, we'll just create another directory in `~/somewhere-else`\n",
    "\n",
    "(You can use a different name or location, if you like)"
   ]
  },
  {
   "cell_type": "code",
   "execution_count": null,
   "id": "db4aed66-496b-4961-8258-681c97cf7bb9",
   "metadata": {
    "nbgrader": {
     "grade": false,
     "grade_id": "cell-a51615d9e24c4298",
     "locked": true,
     "schema_version": 3,
     "solution": false,
     "task": false
    }
   },
   "outputs": [],
   "source": [
    "%%bash\n",
    "\n",
    "mkdir ~/somewhere-else\n",
    "cd ~/somewhere-else"
   ]
  },
  {
   "cell_type": "markdown",
   "id": "c2055ce0-1b85-4226-99d3-a0c5d3f0f5a1",
   "metadata": {
    "nbgrader": {
     "grade": false,
     "grade_id": "cell-fc3326a2518068b9",
     "locked": true,
     "schema_version": 3,
     "solution": false,
     "task": false
    }
   },
   "source": [
    "To download a remote repository from GitHub onto our local machine, we can either navigate to the GitHub website and download the files directly as zip file, or use the `git clone` command to download the repo. The syntax is:\n",
    "\n",
    "```\n",
    "git clone <url>\n",
    "```\n",
    "\n",
    "The URL is the same one you used with `git remote add`.  This will create a working copy of the local repo in a new directory.  The directory's name is the last part of the URL.  Afterwards,  we can enter the new working copy and see that our files are present.  We can also verify that our repo's history is present."
   ]
  },
  {
   "cell_type": "markdown",
   "id": "243b95cd-731c-4d89-8f72-8b3e4817a14c",
   "metadata": {
    "nbgrader": {
     "grade": false,
     "grade_id": "cell-7232e76f57ea9c1c",
     "locked": true,
     "schema_version": 3,
     "solution": false,
     "task": false
    }
   },
   "source": [
    "#### Q5: Download the remote repository you just created, `git-workflow`, from your GitHub repository into your newly created `~/somewhere-else` directory on your local machine. "
   ]
  },
  {
   "cell_type": "code",
   "execution_count": null,
   "id": "5e12362d-9bd9-4ebd-b18c-d7a5fbb992c0",
   "metadata": {
    "nbgrader": {
     "grade": false,
     "grade_id": "cell-806d9e6627836f63",
     "locked": false,
     "schema_version": 3,
     "solution": true,
     "task": false
    }
   },
   "outputs": [],
   "source": [
    "%%bash\n",
    "\n",
    "### BEGIN SOLUTION\n",
    "cd ~/somewhere-else\n",
    "git clone git@github.com:GeorgeBurdell/git-workflow.git\n",
    "### END SOLUTION"
   ]
  },
  {
   "cell_type": "code",
   "execution_count": null,
   "id": "0d52b1d1-7223-491d-9422-cb96995dcf35",
   "metadata": {
    "nbgrader": {
     "grade": true,
     "grade_id": "cell-80d7f7681d0dcc7d",
     "locked": true,
     "points": 1,
     "schema_version": 3,
     "solution": false,
     "task": false
    }
   },
   "outputs": [],
   "source": [
    "# Autotest to see if clone is successful"
   ]
  },
  {
   "cell_type": "markdown",
   "id": "8189a289-2fa5-4393-8ca6-3c612bad0770",
   "metadata": {
    "nbgrader": {
     "grade": false,
     "grade_id": "cell-a155d07e6901e3a5",
     "locked": true,
     "schema_version": 3,
     "solution": false,
     "task": false
    }
   },
   "source": [
    "To check if your new `~/somewhere-else/git-workflow` is indeed the same directory as your GitHub repo, run the following cells."
   ]
  },
  {
   "cell_type": "code",
   "execution_count": null,
   "id": "ad17a0f1-1064-4dcc-8381-1d9f5aa9e3b6",
   "metadata": {
    "nbgrader": {
     "grade": false,
     "grade_id": "cell-b0a02d9dc75d5cc7",
     "locked": true,
     "schema_version": 3,
     "solution": false,
     "task": false
    }
   },
   "outputs": [],
   "source": [
    "%%bash\n",
    "\n",
    "cd ~/somewhere-else/git-workflow\n",
    "ls -la\n",
    "git log"
   ]
  },
  {
   "cell_type": "markdown",
   "id": "31458d94-8eae-44d4-a68e-bc2d07f6597d",
   "metadata": {
    "nbgrader": {
     "grade": false,
     "grade_id": "cell-b9a3dbe05e4fa587",
     "locked": true,
     "schema_version": 3,
     "solution": false,
     "task": false
    }
   },
   "source": [
    "## 4.4: Adding more changes\n",
    "\n",
    "### Back to our original working copy\n",
    "\n",
    "Let's return to our original working copy and make some more changes.\n",
    "\n",
    "### Making more changes\n",
    "\n",
    "Let's add some new features to `my_abs.py`.  Copy/paste this into my_abs.py\n",
    "\n",
    "``` python\n",
    "import math\n",
    "\n",
    "def my_abs(x):\n",
    "    try:\n",
    "        if x < 0:\n",
    "            return -x\n",
    "        else:\n",
    "            return x\n",
    "    except TypeError:\n",
    "        return math.nan\n",
    "```\n",
    "\n",
    "### `git diff`: Show changes in modified files\n",
    "\n",
    "At this point, `my_abs.py` is the in the \"modified\" state.  It has changes that have not yet been staged.  It can be very useful to see changes before you stage and commit. `git diff` lets you do exactly that.\n",
    "\n",
    "The appearance of a \"diff\" is the same in many places.  GitHub and your IDE will use a very similar appearance when showing you differences in files.  Hence, understanding diffs is a key skill for understanding your code's history.  The meaning is:\n",
    "* Lines that are green and/or begin with a \"+\" have been added to the newer version but are not present in the older vesion.\n",
    "* Lines that are red and/or begin with a \"-\" are present in the older version but have been omitted in the newer version.\n",
    "* Lines that are not colored are the same in both versions"
   ]
  },
  {
   "cell_type": "code",
   "execution_count": null,
   "id": "69fac8fc-d2f0-4d18-b163-986c70a817b0",
   "metadata": {
    "nbgrader": {
     "grade": false,
     "grade_id": "cell-382bc968f111150c",
     "locked": true,
     "schema_version": 3,
     "solution": false,
     "task": false
    }
   },
   "outputs": [],
   "source": [
    "%%bash\n",
    "\n",
    "cd ~/git-workflow\n",
    "git diff"
   ]
  },
  {
   "cell_type": "markdown",
   "id": "27f6a310-e370-4fb5-bd11-dad20f5f7409",
   "metadata": {
    "nbgrader": {
     "grade": false,
     "grade_id": "cell-95f3efeaf7ca8005",
     "locked": true,
     "schema_version": 3,
     "solution": false,
     "task": false
    }
   },
   "source": [
    "### Staging and committing\n",
    "\n",
    "As we mentioned, `my_abs.py` now has unstaged changes.  We can stage and commit them in one shot with the `-a` flag.  This will stage and commit changes to all currently **tracked** files.  \n",
    "\n",
    "After committing, we can verify that there is a new commit in our history.  We'll use some additional options to show a more condensed log.  Logs are, by default, shown from most to least recent.  "
   ]
  },
  {
   "cell_type": "code",
   "execution_count": null,
   "id": "eb3aeb38-d896-4c66-87d6-977decd1e478",
   "metadata": {
    "nbgrader": {
     "grade": false,
     "grade_id": "cell-aab3cd2cd7e7dca7",
     "locked": true,
     "schema_version": 3,
     "solution": false,
     "task": false
    }
   },
   "outputs": [],
   "source": [
    "%%bash\n",
    "\n",
    "cd ~/git-workflow\n",
    "git status\n",
    "git commit -am \"Added try/except\"\n",
    "git log --oneline --graph --branches --remotes "
   ]
  },
  {
   "cell_type": "markdown",
   "id": "f868e7f0-7771-4ba0-894a-197af0cc6341",
   "metadata": {
    "nbgrader": {
     "grade": false,
     "grade_id": "cell-ce894c04de65dc4b",
     "locked": true,
     "schema_version": 3,
     "solution": false,
     "task": false
    }
   },
   "source": [
    "### Pushing to remote\n",
    "\n",
    "Finally, we'll push our updates to GitHub.  Go back to your GitHub webpage and see your updates!  (You might have to click refresh again.)"
   ]
  },
  {
   "cell_type": "code",
   "execution_count": null,
   "id": "a91f9f83-79ba-40e8-b784-41018496b5ba",
   "metadata": {
    "nbgrader": {
     "grade": false,
     "grade_id": "cell-0728ae2e924b32d6",
     "locked": true,
     "schema_version": 3,
     "solution": false,
     "task": false
    }
   },
   "outputs": [],
   "source": [
    "%%bash\n",
    "\n",
    "cd ~/git-workflow\n",
    "git push"
   ]
  },
  {
   "cell_type": "markdown",
   "id": "c227aabe-c7ed-4e0c-8aa1-bf3ae3e008eb",
   "metadata": {
    "nbgrader": {
     "grade": false,
     "grade_id": "cell-f4d3b776738f1131",
     "locked": true,
     "schema_version": 3,
     "solution": false,
     "task": false
    }
   },
   "source": [
    "## 4.5: Getting new changes from the remote\n",
    "\n",
    "Like most things in Git, you have to be extremely explicit about updating your working copies.  If you push changes from one working copy, then other working copies are **not** automatically updated. You must explicitly download the new changes in the other working copies.  \n",
    "\n",
    "### What's happening in our other working copy?\n",
    "\n",
    "Let's go back to other working copy in `~/somewhere-else/git-workflow`.  The log shows that the working copy does *not* have the changes that we just pushed.  And if we look at `my_abs.py`, we'll see it's still at the older version.  "
   ]
  },
  {
   "cell_type": "code",
   "execution_count": null,
   "id": "e52fa7cf-9cbb-4fa5-980b-f62f66822391",
   "metadata": {
    "nbgrader": {
     "grade": false,
     "grade_id": "cell-38a51a879a88cf64",
     "locked": true,
     "schema_version": 3,
     "solution": false,
     "task": false
    }
   },
   "outputs": [],
   "source": [
    "%%bash\n",
    "\n",
    "cd ~/somewhere-else/git-workflow\n",
    "git log\n",
    "cat my_abs.py"
   ]
  },
  {
   "cell_type": "markdown",
   "id": "c766dc30-aa9a-4f72-b3c7-c9099a26f976",
   "metadata": {
    "nbgrader": {
     "grade": false,
     "grade_id": "cell-4ec4dcc5c317c8eb",
     "locked": true,
     "schema_version": 3,
     "solution": false,
     "task": false
    }
   },
   "source": [
    "### `git pull`: Download changes from the remote\n",
    "\n",
    "We will bring this working copy up-to-date with `git pull`.  The syntax is:\n",
    "\n",
    "```\n",
    "git pull [<remote> <branch_name>]\n",
    "```\n",
    "If the branch has a default remote, then we can omit the extra arguments and just run `git pull`.  Now when we look at the log and the contents of `my_abs.py`, we see that everything's up-to-date with the remote."
   ]
  },
  {
   "cell_type": "code",
   "execution_count": null,
   "id": "c0aee872-ed64-41af-8bba-07910f4576d9",
   "metadata": {
    "nbgrader": {
     "grade": false,
     "grade_id": "cell-0d05ef6a92beb4fc",
     "locked": true,
     "schema_version": 3,
     "solution": false,
     "task": false
    }
   },
   "outputs": [],
   "source": [
    "%%bash\n",
    "\n",
    "cd ~/somewhere-else/git-workflow\n",
    "git pull"
   ]
  },
  {
   "cell_type": "code",
   "execution_count": null,
   "id": "098d90cc-920c-44c1-b165-605bcb4a4698",
   "metadata": {
    "nbgrader": {
     "grade": false,
     "grade_id": "cell-9e78f3864cf2c773",
     "locked": true,
     "schema_version": 3,
     "solution": false,
     "task": false
    }
   },
   "outputs": [],
   "source": [
    "%%bash\n",
    "cd ~/somwhere-else/git-workflow\n",
    "git log\n",
    "cat my_abs.py"
   ]
  },
  {
   "cell_type": "markdown",
   "id": "060b3415-dc32-4b9c-9381-8084bb1474f4",
   "metadata": {
    "nbgrader": {
     "grade": false,
     "grade_id": "cell-b75767d82469fbb8",
     "locked": true,
     "schema_version": 3,
     "solution": false,
     "task": false
    }
   },
   "source": [
    "### Back to our first working copy\n",
    "\n",
    "We'll be working with our first working copy in the next section, so be sure to move back to `~/git-workflow` before continuing onto the next section. However, before continuing on with the rest of the lesson make sure to complete the following exercises!"
   ]
  },
  {
   "cell_type": "markdown",
   "id": "ec2cf3b3-9382-429b-9ca4-2aed820d01bd",
   "metadata": {
    "nbgrader": {
     "grade": false,
     "grade_id": "cell-bda1b041fae8bfd6",
     "locked": true,
     "schema_version": 3,
     "solution": false,
     "task": false
    }
   },
   "source": [
    "### Quiz\n",
    "\n",
    "1. The remote repository is not created on the local machine but is instead created by visiting `https://github.com/new`."
   ]
  },
  {
   "cell_type": "code",
   "execution_count": 27,
   "id": "278d2d2c-130d-44c6-a2c4-c7d672c71a3f",
   "metadata": {
    "nbgrader": {
     "grade": false,
     "grade_id": "cell-ab6db1ef58e2e720",
     "locked": false,
     "schema_version": 3,
     "solution": true,
     "task": false
    }
   },
   "outputs": [],
   "source": [
    "# Input the answer below as a Python boolean.\n",
    "### BEGIN SOLUTION\n",
    "a1 = True\n",
    "### END SOLUTION"
   ]
  },
  {
   "cell_type": "markdown",
   "id": "7de9421d-710a-4162-bdf4-8133216d9c33",
   "metadata": {
    "nbgrader": {
     "grade": false,
     "grade_id": "cell-564cba03f2442b73",
     "locked": true,
     "schema_version": 3,
     "solution": false,
     "task": false
    }
   },
   "source": [
    "2. What is the best way to pull the latest changes from a remote Git repo?\n",
    "   1. Visit the remote repo on GitHub and download the entire repository as a zip file.\n",
    "   2. Use `git pull` to pull the new changes from the remote upstream.\n",
    "   3. Use `git diff` to spot the differences between the remote repository and the local repository and manually update the relevant files."
   ]
  },
  {
   "cell_type": "code",
   "execution_count": 28,
   "id": "00cf3c02-6ad9-4868-9b4f-088490ec8469",
   "metadata": {
    "nbgrader": {
     "grade": false,
     "grade_id": "cell-b931f723a25d9d56",
     "locked": false,
     "schema_version": 3,
     "solution": true,
     "task": false
    }
   },
   "outputs": [],
   "source": [
    "# Input the answer below as a string, such as 'A', 'B', 'C', ...\n",
    "### BEGIN SOLUTION\n",
    "a2 = 'B'\n",
    "### END SOLUTION"
   ]
  },
  {
   "cell_type": "markdown",
   "id": "4769dd28-8887-44b5-b654-8669606dcd40",
   "metadata": {
    "nbgrader": {
     "grade": false,
     "grade_id": "cell-03d9f7b8398c3365",
     "locked": true,
     "schema_version": 3,
     "solution": false,
     "task": false
    }
   },
   "source": [
    "3. A Git repo is the same thing as a GitHub repo."
   ]
  },
  {
   "cell_type": "code",
   "execution_count": null,
   "id": "4580f9fb-169d-4b54-bd60-863e961e74e5",
   "metadata": {
    "nbgrader": {
     "grade": false,
     "grade_id": "cell-e4dcbd46b18f21bb",
     "locked": false,
     "schema_version": 3,
     "solution": true,
     "task": false
    }
   },
   "outputs": [],
   "source": [
    "# Input the answer below as a Python boolean.\n",
    "### BEGIN SOLUTION\n",
    "a3 = False\n",
    "### END SOLUTION"
   ]
  },
  {
   "cell_type": "markdown",
   "id": "2557631a-1714-46ef-9b50-bd782917b9eb",
   "metadata": {
    "nbgrader": {
     "grade": false,
     "grade_id": "cell-db495cb8c046bbfa",
     "locked": true,
     "schema_version": 3,
     "solution": false,
     "task": false
    }
   },
   "source": [
    "4. The correct order of commands to ensure that the changes made in the local repository is reflected in the remote repository is:\n",
    "    1. commit, stage, push\n",
    "    2. push, commit, stage\n",
    "    3. add, push, commit\n",
    "    4. add, commit, push"
   ]
  },
  {
   "cell_type": "code",
   "execution_count": 29,
   "id": "f3c87ff4-27d9-4ecf-962d-a6ac6e99baa2",
   "metadata": {
    "nbgrader": {
     "grade": false,
     "grade_id": "cell-6157bdba719cf203",
     "locked": false,
     "schema_version": 3,
     "solution": true,
     "task": false
    }
   },
   "outputs": [],
   "source": [
    "# Input the answer below as a string, such as 'A', 'B', 'C', ...\n",
    "### BEGIN SOLUTION\n",
    "a4 = 'D'\n",
    "### END SOLUTION"
   ]
  },
  {
   "cell_type": "code",
   "execution_count": null,
   "id": "ec50a596-efd4-4c6e-98c2-9ebfd5211b7f",
   "metadata": {
    "nbgrader": {
     "grade": true,
     "grade_id": "cell-9f6099102cbafa8a",
     "locked": true,
     "points": 4,
     "schema_version": 3,
     "solution": false,
     "task": false
    }
   },
   "outputs": [],
   "source": [
    "### BEGIN HIDDEN TESTS\n",
    "assert a1 == True\n",
    "assert a2 == 'B'\n",
    "assert a3 == False\n",
    "assert a4 == 'D'\n",
    "### END HIDDEN TESTS"
   ]
  }
 ],
 "metadata": {
  "kernelspec": {
   "display_name": "Python 3 (ipykernel)",
   "language": "python",
   "name": "python3"
  },
  "language_info": {
   "codemirror_mode": {
    "name": "ipython",
    "version": 3
   },
   "file_extension": ".py",
   "mimetype": "text/x-python",
   "name": "python",
   "nbconvert_exporter": "python",
   "pygments_lexer": "ipython3",
   "version": "3.12.10"
  }
 },
 "nbformat": 4,
 "nbformat_minor": 5
}
