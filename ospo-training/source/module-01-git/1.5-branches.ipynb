{
 "cells": [
  {
   "cell_type": "markdown",
   "id": "406565c1-1800-4591-963f-75170ab4935d",
   "metadata": {
    "nbgrader": {
     "grade": false,
     "grade_id": "cell-af37ff5df853f29a",
     "locked": true,
     "schema_version": 3,
     "solution": false,
     "task": false
    }
   },
   "source": [
    "# 5: Branches\n",
    "\n",
    "<img src=\"../../img/icon-branch.png\" width=\"200\" />\n",
    "\n",
    "At this point, we've been discussing one branch, \"main\".  Now we will consider additional branches, and we'll see how branches can help you in collaborative workflows.\n",
    "\n",
    "## 5.1: About Git branches\n",
    "\n",
    "### Git branches are pointers\n",
    "\n",
    "It's common to think about Git branches like the branches of a family tree.  However, it's more useful to remember that **a Git branch is a pointer to a commit**.  \n",
    "\n",
    "In older VCSs, a \"branch\" was implemented as a complete copy of the files.  This used a large amount of space in the database, and hence, branches were a less common part of workflows.\n",
    "\n",
    "In contrast, Git branches are fast and cheap with very little storage or performance overhead.  They are an integral part of any Git workflow.\n",
    "\n",
    "### Our branches\n",
    "\n",
    "In fact, we already have multiple branches.  If you look at `git log` (make sure you've moved back to `~/git-workflow` !) you'll see:\n",
    "\n",
    "* **HEAD** is a special branch that points to the current state of our working tree.\n",
    "* **main** is the branch we created when we initialized the repo.\n",
    "* **origin/main** is a remote-tracking branch.  It reflects the state of our remote repo \"origin\" on GitHub.  More on this soon...\n",
    "\n",
    "<img src=\"../../img/branches-01.png\" width=\"400\" />\n",
    "\n",
    "## 5.2: Checking-out changes\n",
    "\n",
    "### `git checkout` : Changing the files in the working tree\n",
    "\n",
    "Suppose you want to work with the files from a different point in time.  We use `git checkout`, which has the syntax:\n",
    "\n",
    "```\n",
    "git checkout <branch | commit>\n",
    "```\n",
    "\n",
    "First let's checkout the files from our first commit.  Every commit is uniquely identified by an alphanumeric hash, and we can use this to specify a commit in `git checkout` and other commands.\n",
    "\n",
    "In the repo history from this demo, our first commit has the hash ID `0565d4790146c2efaa59041453e7c7c09baa3cc1`.  You can use abbreviated hashes (as long as the abbreviation still uniquely identifies a commit), and it's common to use the first 7 characters.  So we will use `0565d47` like so.\n",
    "\n",
    "```Console\n",
    "cd ~/git-workflow\n",
    "git checkout 0565d47\n",
    "```\n",
    "\n",
    "(*Your repo will almost certainly have different hashes, so as you're following along, be sure to use your repo's hash.*)"
   ]
  },
  {
   "cell_type": "markdown",
   "id": "94a71445-a346-4fd0-87b1-331db902acb4",
   "metadata": {},
   "source": [
    "### Results of checkout\n",
    "\n",
    "When we look at the log, we can see that the HEAD has moved back to \"First commit\".  Likewise, `my_abs.py` in the working tree is at the state of \"First commit\" -- it does not have the try/except .  However, note that the branches \"main\" and \"origin/main\" are unchanged."
   ]
  },
  {
   "cell_type": "code",
   "execution_count": null,
   "id": "ff86de89-25ec-437c-8631-40fecb06bd19",
   "metadata": {},
   "outputs": [],
   "source": [
    "%%bash\n",
    "\n",
    "cd ~/git-workflow\n",
    "git log --oneline --graph --branches --remotes"
   ]
  },
  {
   "cell_type": "markdown",
   "id": "8fcf12cc-dcd6-484d-9d6c-8be44d99ba9a",
   "metadata": {},
   "source": [
    "<img src=\"../../img/branches-02.png\" width=\"400\" />"
   ]
  },
  {
   "cell_type": "code",
   "execution_count": null,
   "id": "9fe8e86c-3b88-4b0f-8b19-75dc05fba0c0",
   "metadata": {},
   "outputs": [],
   "source": [
    "%%bash\n",
    "\n",
    "cd ~/git-workflow\n",
    "cat my_abs.py"
   ]
  },
  {
   "cell_type": "markdown",
   "id": "a0de20e2-a196-484c-b58b-b5d18f070f51",
   "metadata": {},
   "source": [
    "### Detached HEAD\n",
    "\n",
    "What about the scary message about the detached HEAD?  This is perfectly normal and common!  All it means is that HEAD is not pointing to the same commit as any other branch.  If you're exploring your repo's history, you will encounter this message often.  You can suppress this message with:\n",
    "\n",
    "```\n",
    "git config --global advice.detachedHead false\n",
    "```\n",
    "\n",
    "Or you can learn to ignore it :)\n",
    "\n",
    "### Checking out a branch\n",
    "\n",
    "You can also specify a branch name to `git commit`.  This is probably the more common usage.\n",
    "\n",
    "Let's return our working tree to the state of \"main\".  You will notice that:\n",
    "* The HEAD moves back to \"main\"\n",
    "* The state of the working tree is also back to \"main\". Notices that `my_abs.py` has the try/except as expected."
   ]
  },
  {
   "cell_type": "code",
   "execution_count": null,
   "id": "c11a9512-7272-44f1-988d-80e06b85c99e",
   "metadata": {},
   "outputs": [],
   "source": [
    "%%bash\n",
    "\n",
    "cd ~/git-workflow\n",
    "git checkout main\n",
    "git log --oneline --graph --branches --remotes "
   ]
  },
  {
   "cell_type": "markdown",
   "id": "19d9eab7-1cc3-4313-9be6-ef2711646823",
   "metadata": {},
   "source": [
    "<img src=\"../../img/branches-03.png\" width=\"400\" />"
   ]
  },
  {
   "cell_type": "code",
   "execution_count": null,
   "id": "48e10eb0-76e2-486b-a488-072515d7e4ab",
   "metadata": {},
   "outputs": [],
   "source": [
    "%%bash\n",
    "\n",
    "cd ~/git-workflow\n",
    "cat my_abs.py"
   ]
  },
  {
   "cell_type": "markdown",
   "id": "d5bfbb38-668c-4c2d-ba31-d55bb5a49ea1",
   "metadata": {},
   "source": [
    "## 5.3: Using topic branches\n",
    "\n",
    "## The why and what of topic branches\n",
    "\n",
    "When you are collaborating on a large code base, **topic branches** (or **feature branches**) can be your team's best friend.\n",
    "\n",
    "The idea is that, when you want to develop a new feature or fix a bug, you create a branch specifically for that purpose (or \"topic\").  A topic branch has a very specific purpose and (ideally) touches a limited part of the code base.  It often has a limited lifetime, too; when its changes are merged into the main branch, the topic branch is usally deleted.\n",
    "\n",
    "This has a number of technical benefits, but the greatest benefits are organizational:\n",
    "\n",
    "* Multiple developers can work on the multiple, independent features at the same time without stepping on each others' toes\n",
    "* Maintainers can more-easily understand and approve changes\n",
    "* Topic branches can correspond to tasks or cards in a project management system\n",
    "\n",
    "### `git checkout -b`: Create a new branch\n",
    "\n",
    "Let's create a topic branch to implement some type-specific behavior in `my_abs`.  We will call this branch `types`.  We use the command `git checkout -b <branch_name>` to create a new branch at HEAD's current location.  \n",
    "\n",
    "(*Many projects have naming conventions for topic branches. Please consult your project maintainers for details.*)\n",
    "\n",
    "Notice that by creating the branch, we have just created a new pointer to a commit.  No files have been copied or changed, and no new commits have been made."
   ]
  },
  {
   "cell_type": "code",
   "execution_count": null,
   "id": "372724c7-a88d-4882-8d5d-0e3902224e73",
   "metadata": {},
   "outputs": [],
   "source": [
    "%%bash\n",
    "\n",
    "cd ~/git-workflow\n",
    "git checkout -b types"
   ]
  },
  {
   "cell_type": "markdown",
   "id": "88d92f2e-246e-4005-b374-07c7e1acce36",
   "metadata": {},
   "source": [
    "<img src=\"../../img/branches-04.png\" width=\"400\" />"
   ]
  },
  {
   "cell_type": "code",
   "execution_count": null,
   "id": "7d8c9d5e-ab5d-47ad-9db4-17455bdffb0e",
   "metadata": {},
   "outputs": [],
   "source": [
    "%%bash\n",
    "\n",
    "cd ~/git-workflow\n",
    "git log --oneline --graph --branches --remotes"
   ]
  },
  {
   "cell_type": "markdown",
   "id": "4eeefa2a-dc88-4e6f-bd37-474dff7525c3",
   "metadata": {},
   "source": [
    "### Making new changes\n",
    "\n",
    "Now we are ready to implement our new feature.  Copy this to `my_abs.py`\n",
    "\n",
    "``` python\n",
    "import math\n",
    "import numbers\n",
    "\n",
    "def my_abs(x):\n",
    "    if isinstance(x, numbers.Real):\n",
    "        if x < 0:\n",
    "            return -x\n",
    "        else:\n",
    "            return x\n",
    "    elif isinstance(x, numbers.Complex):\n",
    "        return math.sqrt(\n",
    "            x.real ** 2 + x.imag ** 2)\n",
    "    else:\n",
    "        return math.nan\n",
    "```"
   ]
  },
  {
   "cell_type": "code",
   "execution_count": null,
   "id": "5bfd1932-1e83-450b-b9ad-b588e952de5b",
   "metadata": {},
   "outputs": [],
   "source": []
  }
 ],
 "metadata": {
  "kernelspec": {
   "display_name": "Python 3 (ipykernel)",
   "language": "python",
   "name": "python3"
  },
  "language_info": {
   "codemirror_mode": {
    "name": "ipython",
    "version": 3
   },
   "file_extension": ".py",
   "mimetype": "text/x-python",
   "name": "python",
   "nbconvert_exporter": "python",
   "pygments_lexer": "ipython3",
   "version": "3.12.10"
  }
 },
 "nbformat": 4,
 "nbformat_minor": 5
}
