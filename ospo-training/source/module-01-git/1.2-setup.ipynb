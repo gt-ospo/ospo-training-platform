{
 "cells": [
  {
   "cell_type": "code",
   "execution_count": 11,
   "id": "be63a212-441f-4fcb-9f14-e25732b5443b",
   "metadata": {
    "nbgrader": {
     "grade": false,
     "grade_id": "cell-0d675b8809bdf50b",
     "locked": true,
     "schema_version": 3,
     "solution": false,
     "task": false
    }
   },
   "outputs": [],
   "source": [
    "import datetime\n",
    "\n",
    "class WorkIncompleteError(Exception):\n",
    "    def __init__(self, marks, message=\"Make sure that you have completed your work before submission to pass this test!\"):\n",
    "        self.marks = marks\n",
    "        self.message = message\n",
    "        super().__init__(self.message)\n",
    "\n",
    "currYear = datetime.datetime.now().year"
   ]
  },
  {
   "cell_type": "markdown",
   "id": "eafe8f08-2a83-48cf-94d6-6c5b3536eca3",
   "metadata": {
    "nbgrader": {
     "grade": false,
     "grade_id": "cell-64d3129754b78f10",
     "locked": true,
     "schema_version": 3,
     "solution": false,
     "task": false
    }
   },
   "source": [
    "# 2: Git and GitHub setup\n",
    "\n",
    "<img src=\"../../img/icon-gears.png\" width=\"200\" />\n",
    "\n",
    "## Installing Git\n",
    "\n",
    "GitHub has excellent instructions for installing Git on macOS, Windows, and Linux:  https://github.com/git-guides/install-git\n",
    "\n",
    "If you are on Windows, be sure include the 'Git Bash' terminal during the installation (it should be selected by default).  You can use Git Bash to follow-along with this tutorial.  If you are on macOS or Linux, you can use any terminal to follow-along. **Confirm if you have successfully installed Git by running the following cell!**"
   ]
  },
  {
   "cell_type": "code",
   "execution_count": 5,
   "id": "626bb1fd-22e2-469b-b360-58b88b049beb",
   "metadata": {
    "nbgrader": {
     "grade": true,
     "grade_id": "cell-748b92f078017de7",
     "locked": true,
     "points": 1,
     "schema_version": 3,
     "solution": false,
     "task": false
    }
   },
   "outputs": [
    {
     "name": "stdout",
     "output_type": "stream",
     "text": [
      "You have successfully installed Git!\n"
     ]
    }
   ],
   "source": [
    "git_vers = !git version\n",
    "if \"git version\" in git_vers[0]:\n",
    "    print(\"You have successfully installed Git!\")\n",
    "else:\n",
    "    raise WorkIncompleteError()"
   ]
  },
  {
   "cell_type": "markdown",
   "id": "9e825177-61a9-4550-bdf1-71b6a9fb5df3",
   "metadata": {
    "nbgrader": {
     "grade": false,
     "grade_id": "cell-679ce192ee7cb04d",
     "locked": true,
     "schema_version": 3,
     "solution": false,
     "task": false
    }
   },
   "source": [
    "## First-time Git Setup\n",
    "\n",
    "After installing Git, you should set your username and email.  These will be used to identify changes that you've made to a Git repo.  In the terminal run `git config` with your own name email:\n",
    "\n",
    "```\n",
    "git config --global user.name 'George Burdell'\n",
    "git config --global user.email 'gburdell@gmail.com'\n",
    "```\n",
    "\n",
    "The `user.name` is arbitrary and is only for the benefit of other humans.  However, the `user.email` is quite important when you're working with GitHub, GitLab, or another service.  This email is used to link your GitHub account to any commits in a Git repo.  It's not a bad idea to use a `user.email` that you'll have access to forever, instead of your GT email.  This will ensure that you can always keep your GitHub account linked to commits in Git repos. **Confirm if you have successfully set your username and email for your Git by running the following cell.\"  \n",
    "\n",
    "For more first-time setup options, see here:  https://git-scm.com/book/en/v2/Getting-Started-First-Time-Git-Setup"
   ]
  },
  {
   "cell_type": "code",
   "execution_count": 13,
   "id": "ef8741c8-f05e-4578-89e3-b5370fb49a21",
   "metadata": {
    "nbgrader": {
     "grade": true,
     "grade_id": "cell-2dd7ded94d9e33a2",
     "locked": true,
     "points": 1,
     "schema_version": 3,
     "solution": false,
     "task": false
    }
   },
   "outputs": [
    {
     "name": "stdout",
     "output_type": "stream",
     "text": [
      "Welcome Min Lu to OSPO Training 2025! All your git commits will be registered under the email luming2k10@gmail.com.\n"
     ]
    }
   ],
   "source": [
    "username = !git config --global --get user.name\n",
    "email = !git config --global --get user.email\n",
    "print(f\"Welcome {username[0]} to OSPO Training {currYear}! All your git commits will be registered under the email {email[0]}.\")"
   ]
  },
  {
   "cell_type": "markdown",
   "id": "a6b1fd2b-c69f-4f19-8c40-8177e9373cbd",
   "metadata": {},
   "source": [
    "## Registering for GitHub\n",
    "\n",
    "If you don't already have a GitHub account, go to https://github.com/ and create one.  Again, it's not a bad idea to use an email address that you'll have access to forever, instead of your GT email.  \n",
    "\n",
    "## Setting up authentication with GitHub\n",
    "\n",
    "When using Git, there are several method to authenticate with GitHub.  These days, username/password is *not* one of those methods!  The simplest method is via SSH.  See the GitHub docs section \"Connecting to GitHub with SSH\" (https://docs.github.com/en/authentication/connecting-to-github-with-ssh), which has instructions for every operating system."
   ]
  }
 ],
 "metadata": {
  "kernelspec": {
   "display_name": "Python 3 (ipykernel)",
   "language": "python",
   "name": "python3"
  },
  "language_info": {
   "codemirror_mode": {
    "name": "ipython",
    "version": 3
   },
   "file_extension": ".py",
   "mimetype": "text/x-python",
   "name": "python",
   "nbconvert_exporter": "python",
   "pygments_lexer": "ipython3",
   "version": "3.12.10"
  }
 },
 "nbformat": 4,
 "nbformat_minor": 5
}
