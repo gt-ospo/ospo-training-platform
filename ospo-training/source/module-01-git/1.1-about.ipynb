{
 "cells": [
  {
   "cell_type": "markdown",
   "id": "612e6a04-e8e4-4841-aca3-c7748858a374",
   "metadata": {
    "nbgrader": {
     "grade": false,
     "grade_id": "cell-552461289ffaef96",
     "locked": true,
     "schema_version": 3,
     "solution": false,
     "task": false
    }
   },
   "source": [
    "# OSS Module 01 - Git Basics\n",
    "\n",
    "<img src=\"../../img/icon-git.png\" width=\"200\" />\n",
    "\n",
    "# Contents\n",
    "- [1: About this training module](#1:-About-this-training-module)\n",
    "- [2: Git and GitHub Setup](1.2-setup.ipynb)\n",
    "- [3: About Git](1.3-intro-git.ipynb)\n",
    "- [4: Working with a Git repo](1.4-working-git.ipynb)\n",
    "- [5: Branches](1.5-branches.ipynb)\n",
    "\n",
    "# 1: About this training module\n",
    "\n",
    "Welcome to the GT OSPO VSIP!  This training module will introduce you to concepts of Git, especially related to branching and merging.  Understanding Git branching/merging will be essential to your success in as code contributor.  \n",
    "\n",
    "### How should I use this training module?\n",
    "\n",
    "You'll get the most out of this module if you follow-along interactively.  \n",
    "\n",
    "You can download this Jupyter notebook and work directly inside it.  Make sure you have the `jupyter`, `jupyterlab`, and `bash_kernel` Python modules installed.  **Don't forget the second step with `python -m bash_kernel.install`!**\n",
    "\n",
    "``` Console\n",
    "$ pip install jupyter jupyterlab bash_kernel\n",
    "$ python -m bash_kernel.install\n",
    "```\n",
    "\n",
    "If you are not installing Jupyter or `bash_kernel`, you can also follow-along in any standalone terminal.\n",
    "\n",
    "### Why aren't we learning to use the Git GUI in (VS Code, PyCharm, ...)?\n",
    "\n",
    "Good question!  We love our IDEs, we use Git in our IDEs all the time, and so should you.  **But** it really helps to know how to precisely use Git in the command line, especially if your IDE isn't doing exactly what you want.  Trust us, it can really help you out of a jam.  \n",
    "\n",
    "Another issue is that not everyone uses the same IDE.  All the terms and concepts you learn here will translate directly to whatever IDE you use."
   ]
  }
 ],
 "metadata": {
  "kernelspec": {
   "display_name": "Python 3 (ipykernel)",
   "language": "python",
   "name": "python3"
  },
  "language_info": {
   "codemirror_mode": {
    "name": "ipython",
    "version": 3
   },
   "file_extension": ".py",
   "mimetype": "text/x-python",
   "name": "python",
   "nbconvert_exporter": "python",
   "pygments_lexer": "ipython3",
   "version": "3.12.10"
  }
 },
 "nbformat": 4,
 "nbformat_minor": 5
}
