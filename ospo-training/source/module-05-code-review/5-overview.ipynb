{
 "cells": [
  {
   "cell_type": "markdown",
   "id": "c0e74a54-2c55-48a2-b0a5-2be260cee72a",
   "metadata": {},
   "source": [
    "# Code Review\n",
    "\n",
    "## Lesson Overview\n",
    "\n",
    "By the end of this lesson you should understand:\n",
    "\n",
    "* What is a code review? How do we use them as part of the development and CI/CD process to create high quality code?\n",
    "* What makes a good code review?\n",
    "* How code reviews are compatible with testing infrastructure and tools like code linters.\n",
    "* The process of reviewing code using a related tutorial, [Code Review](https://code-review.org/docs/welcome/introduction/), developed by Helen Kershaw of NCAR.\n",
    "\n",
    "## Related Training Video\n",
    "\n",
    "Video link will be posted after the session.\n",
    "\n",
    "## Important Terminology\n",
    "\n",
    "- Changelist (CL) - a set of code updates a developer is looking to merge into a larger codebase. Can usually be tied to a single commit or patch.\n",
    "  - Sometimes also called a changeset](https://en.wikipedia.org/wiki/Changeset).\n",
    "- Peer review - another name for a code review\n",
    "- LGTM - Looks Good To Me, a typical message used by some code reviewers to approve a changelist / changeset\n",
    "\n",
    "## What is a Code Review?\n",
    "\n",
    "A code review is a manual process whereby a developer and a set of their peers review proposed changes to a codebase. Reviewers examine the changelist for code to be committed and determine (along with output from automated tests) whether the code improves the quality of the codebase.  \n",
    "\n",
    "### When and How do Code Reviews Happen?\n",
    "\n",
    "Code reviews can happen anytime that code is pushed to a production-related branch or repository. Some larger projects have specific rules that require a certain number of code reviews (usually 1-3 reviewers) in addition to automated testing and checks for code style. As an example, some companies might require two reviews for user-facing changes (i.e. to a web app that is publicly available) or even three reviews (e.g., two peer reviews and one manager) for critical internal applications.\n",
    "\n",
    "In general the process is:\n",
    "\n",
    "1. Developer submits a pull request to merge new code. They can request\n",
    "specific reviewers.\n",
    "2. Automated tests check to see if code is functionally correct.\n",
    "3. Linters can check for added errors and style issues\n",
    "4. Reviewers look over the code and possibly test it in their own environment.\n",
    "5. Reviewers suggest any changes for the developer to make.\n",
    "6. Developer updates their PR (if needed)\n",
    "7. Code is merged, or the iterative process goes back to 4).\n",
    "\n",
    "As an example from Open Liberty, we see that two automated tests completed correctly but one manual review is needed to merge the new code.\n",
    "\n",
    "![openliberty_example_review](https://github.com/gt-ospo/oss-training/blob/main/img/lesson-05/openliberty-github-pr-review.png)\n",
    "\n",
    "## Why Do We Need Code Reviews?\n",
    "\n",
    "As discussed in previous lectures, automated testing can be a very valuable tool to check if code is correct before it is merged into a larger project. However, it's very tough to get 100% test coverage, and tests can be flawed and might miss some key corner case that is not covered by a test.\n",
    "\n",
    "**Code review provides an important human element to double-check that updates to a code are valid and useful!**\n",
    "\n",
    "Code Reviews also provide good opportunities for collaboration, mentoring, and team building in addition to the benefits of integrating \"correct\" code.\n",
    "\n",
    "## What Makes a Good Code Review?\n",
    "\n",
    "There are many good resources on how to do a good code review, like Google's [Standard of Code Review](https://google.github.io/eng-practices/review/reviewer/standard.html)\n",
    "\n",
    "In general a good code review process will follow these practices:\n",
    "\n",
    "* A good pull request from the programmer should be complete and easy to parse\n",
    "  * Include a description of what the changes do, testing instructions, and screenshots for GUi-related behaviors\n",
    "* Code reviews should encompass small changelists. That is, a programmer should submit changelists that can be easily reviewed and reviewers should be prompt in their review of submitted code.\n",
    "  * Size of changes varies but many developers suggest a changelist that can be reviewed in less than an hour or 200 lines of code\n",
    "  * Consider splitting CLs along function or file boundaries to make code easier to review.\n",
    "* Automate where possible!\n",
    "  * Automating functionality tests and style checks saves both the developer and reviewer time in the review process.\n",
    "* Communication is important for both authors and reviewers\n",
    "  * Authors should clearly communicate changes and address comments in a timely fashion\n",
    "     * Review guides for [writing good CL descriptions for commits](https://google.github.io/eng-practices/review/developer/cl-descriptions.html)\n",
    "  * Reviewers should review code in a timely fashion and be considerate of the author's effort and time\n",
    "     * Code examples or references to guides can be used to convey how to modify or update CLs\n",
    "* Issues of code style (ie, how many spaces are needed) should be resolved using an agreed upon [style guide](https://en.wikipedia.org/wiki/Style_guide), not by personal preference.\n",
    "  * [Google Style Guides](https://google.github.io/styleguide/)\n",
    "  * [PEP 8 Python Style Guide](https://peps.python.org/pep-0008/)\n",
    "\n",
    "For more information, we suggest that you review the resources below in the `Learn More` section with guides for authors and reviewers.\n",
    "\n",
    "# Hands On Practice\n",
    "\n",
    "Fork the codebase from https://code-review.org/ and follow the `Python` reviewing path.\n",
    "\n",
    "Bonus Question:\n",
    "- Do you see any other issues with the GitHub Action workflows as they run? How might you fix this issue?\n",
    "\n",
    "# Learn More\n",
    "\n",
    "To learn more about the code review process and review best practices, please see the following resources:\n",
    "\n",
    "## Resources for Developers / Code Authors\n",
    "\n",
    "- [How to Make Your Code Reviewer Fall in Love with You](https://mtlynch.io/code-review-love/) - Michael Lynch; 2020\n",
    "- [The Change Authors Guide](https://google.github.io/eng-practices/review/developer/) - Google Engineering Best Practices\n",
    "\n",
    "## Resources for Reviewers\n",
    "\n",
    "- [How to Do Code Reviews Like a Human](https://mtlynch.io/human-code-reviews-1/) [Part 2](https://mtlynch.io/human-code-reviews-2/) - Michael Lynch; 2017\n",
    "- [What to Look For In a Code Review](https://google.github.io/eng-practices/review/reviewer/looking-for.html) - Google Engineering Best Practices\n",
    "\n",
    "## General Code Review Resources\n",
    "\n",
    "- [What is a Code Review?](https://about.gitlab.com/topics/version-control/what-is-code-review/) - Gitlab\n",
    "- [5 Code Review Best Practices](https://www.atlassian.com/blog/add-ons/code-review-best-practices) - Atlassian\n",
    "    - Provides a link to the Cisco study recommending reviewing less than 200 lines of code.\n",
    "- [Code Review Best Practices](https://roadmap.sh/best-practices/code-review)\n",
    "    - A detailed flow chart showing all the possible steps of a code review process. Note that not all of these steps may apply to you!\n",
    "- [30 Proven Code Review Best Practices from Microsoft](https://www.michaelagreiler.com/code-review-best-practices/) - Michaela Greiler\n",
    "    - This site has some additional ideas for authors and reviewers and notes that reviewers should avoid unintentional bias in their reviews.\n",
    "\n",
    "## Videos\n",
    "\n",
    "- [How to Do Code Reviews Like a Human](https://www.youtube.com/watch?v=0t4_MfHgb_A) - Michael Lynch, PyGotham 2018\n",
    "- [Code Review Best Practices](https://www.youtube.com/watch?v=a9_0UUUNt-Y) - Trisha Gee, Upsource Webinars; 2018\n",
    "- [Investing in Code Reviews for Better Research Software](https://ideas-productivity.org/events/hpcbp-068-codereview)\n",
    "    - HPC Best Practices Webinar - Thibault Lestang Dominik Krzemiński, Valerio Maggio; October 2022"
   ]
  },
  {
   "cell_type": "markdown",
   "id": "de9d5da6-63a3-425f-8f5e-4bdffa9731b2",
   "metadata": {},
   "source": [
    "## Quiz\n",
    "\n",
    "1. What does LGTM mean?\n",
    "   1. Please review the following section further.\n",
    "   2. The code can be accepted into the codebase. \n",
    "   3. Currently undergoing autotesting in the CI/CD pipeline.\n",
    "   4. Submitting the following changelist for review."
   ]
  },
  {
   "cell_type": "code",
   "execution_count": null,
   "id": "ccc65023-1baf-4bdd-9081-b8ff664ff7c9",
   "metadata": {},
   "outputs": [],
   "source": [
    "# Input the answer below as a string, such as 'A', 'B', 'C', ...\n",
    "a1 = None\n",
    "### BEGIN SOLUTION\n",
    "a1_sol = 'B'\n",
    "### END SOLUTION"
   ]
  },
  {
   "cell_type": "markdown",
   "id": "f4917d1e-a255-431c-a57d-020b13e62a22",
   "metadata": {},
   "source": [
    "2. When do code reviews happen?\n",
    "   1. Anytime that code is pushed to any branch, including the programmer's own personal topic branch, to make sure that at no point would any code submission to the central repository break the production-ready code.\n",
    "   2. Only after automatic tests have already been done so that programmers' valuable time is not wasted.\n",
    "   3. Anytime that code is pushed to a production-related branch or repository.\n",
    "   4. Immediately after staging a new change to the codebase."
   ]
  },
  {
   "cell_type": "code",
   "execution_count": null,
   "id": "c5760cd6-477f-4732-862d-654674fa5263",
   "metadata": {},
   "outputs": [],
   "source": [
    "# Input the answer below as a string, such as 'A', 'B', 'C', ...\n",
    "a2 = None\n",
    "### BEGIN SOLUTION\n",
    "a2_sol = 'C'\n",
    "### END SOLUTION"
   ]
  },
  {
   "cell_type": "markdown",
   "id": "803c7541-e8db-496e-b740-504365bd0126",
   "metadata": {},
   "source": [
    "3. What does CL stand for?\n",
    "   1. Contributor List\n",
    "   2. Change Line\n",
    "   3. Commit List\n",
    "   4. Changelist"
   ]
  },
  {
   "cell_type": "code",
   "execution_count": null,
   "id": "532b9884-e463-4937-8aa2-a68b9f6dc81a",
   "metadata": {},
   "outputs": [],
   "source": [
    "# Input the answer below as a string, such as 'A', 'B', 'C', ...\n",
    "a3 = None\n",
    "### BEGIN SOLUTION\n",
    "a3_sol = 'D'\n",
    "### END SOLUTION"
   ]
  },
  {
   "cell_type": "markdown",
   "id": "e8a1d8a3-0fec-47c6-aaba-2dbbe0b1ec32",
   "metadata": {},
   "source": [
    "4. If automatic testing is already built into our CI/CD pipeline, code reviews are not necessary."
   ]
  },
  {
   "cell_type": "code",
   "execution_count": null,
   "id": "cea46a1e-ef7f-4604-aa94-37201c683d9d",
   "metadata": {},
   "outputs": [],
   "source": [
    "# Input the answer below as a Python boolean.\n",
    "a4 = None\n",
    "### BEGIN SOLUTION\n",
    "a4_sol = False\n",
    "### END SOLUTION"
   ]
  },
  {
   "cell_type": "markdown",
   "id": "5ff15163-24e9-4b78-8a3c-58fc5ac6a498",
   "metadata": {},
   "source": [
    "5. Which of the following does a good pull request message not need to include?\n",
    "   1. Description of what the changes are.\n",
    "   2. New tests added.\n",
    "   3. Description of what the changes do.\n",
    "   4. Screenshots if changes are made to the GUI."
   ]
  },
  {
   "cell_type": "code",
   "execution_count": null,
   "id": "1af53ea6-c711-4e8f-8fb4-f34049a02aed",
   "metadata": {},
   "outputs": [],
   "source": [
    "# Input the answer below as a Python boolean.\n",
    "a5 = None\n",
    "### BEGIN SOLUTION\n",
    "a5_sol = 'A'\n",
    "### END SOLUTION"
   ]
  },
  {
   "cell_type": "markdown",
   "id": "e154b930-9a4b-4d33-833b-4885c9c4e5fc",
   "metadata": {},
   "source": [
    "6. Review the video [How to Do Code Reviews Like a Human](https://www.youtube.com/watch?v=0t4_MfHgb_A). Which of the following tips are included in the ways to do code reviews like a human?\n",
    "   1. Settle style arguments with a style guide.\n",
    "   2. Make sure to perform manual tests even for code that has automatic tests provided so that a human element is always included.\n",
    "   3. Make sure that code reviews only include relevant criticisms so that the review message is not bloated.\n",
    "   4. Grade the changelist based on a well-defined system and tell the changelist author their grade so that they get feedback about their code efficiently. "
   ]
  },
  {
   "cell_type": "code",
   "execution_count": null,
   "id": "0a96982c-e0c3-447b-9298-a0935567ac4d",
   "metadata": {},
   "outputs": [],
   "source": [
    "# Input the answer below as a Python boolean.\n",
    "a6 = None\n",
    "### BEGIN SOLUTION\n",
    "a6_sol = 'A'\n",
    "### END SOLUTION"
   ]
  },
  {
   "cell_type": "markdown",
   "id": "fe82a2a8-5677-45cc-88a1-c1f86e9a094b",
   "metadata": {},
   "source": [
    "7. Review the video [Code Review Best Practices](https://www.youtube.com/watch?v=a9_0UUUNt-Y). Which of the following are code review anti-patterns (i.e., what you shouldn't do during code review)?\n",
    "   1. Make sure that the code is not over-engineered. \n",
    "   2. Suggesting changes in design patterns.\n",
    "   3. Make sure function names fit the team's style guide. \n",
    "   4. Check if new tests are included to cover the new changes.\n",
    "   5. A and D\n",
    "   6. B and C\n",
    "   7. A, B, and C\n",
    "   8. All of the above"
   ]
  },
  {
   "cell_type": "code",
   "execution_count": 1,
   "id": "92b84f30-8f54-4447-bfd1-8d307b182440",
   "metadata": {},
   "outputs": [],
   "source": [
    "# Input the answer below as a Python boolean.\n",
    "a7 = None\n",
    "### BEGIN SOLUTION\n",
    "a7_sol = 'F'\n",
    "### END SOLUTION"
   ]
  },
  {
   "cell_type": "markdown",
   "id": "d3b761c2-ff53-4f60-af7d-793350c91bd1",
   "metadata": {},
   "source": [
    "8. There is not a one-size-fits-all answer to the code review process, but the team still needs to make sure they are on the same page regarding their code review process."
   ]
  },
  {
   "cell_type": "code",
   "execution_count": null,
   "id": "e8a1ee17-81bd-404b-a8d7-0eec2bf988c5",
   "metadata": {},
   "outputs": [],
   "source": [
    "# Input the answer below as a Python boolean.\n",
    "a8 = None\n",
    "### BEGIN SOLUTION\n",
    "a8_sol = True\n",
    "### END SOLUTION"
   ]
  },
  {
   "cell_type": "markdown",
   "id": "dfbce8d7-4440-4ffc-8baa-ba6edd803d89",
   "metadata": {},
   "source": [
    "9. Review the video [Investing in Code Reviews for Better Research Software](https://ideas-productivity.org/events/hpcbp-068-codereview). Code reviews should not be which of the following?\n",
    "    1. Frequent\n",
    "    2. Follow the rigorous standards of journal peer review\n",
    "    3. Informal\n",
    "    4. Low stakes"
   ]
  },
  {
   "cell_type": "code",
   "execution_count": null,
   "id": "e12a9be5-558c-4744-960b-8b6504b71649",
   "metadata": {},
   "outputs": [],
   "source": [
    "# Input the answer below as a Python boolean.\n",
    "a9 = None\n",
    "### BEGIN SOLUTION\n",
    "a9_sol = 'B'\n",
    "### END SOLUTION"
   ]
  },
  {
   "cell_type": "markdown",
   "id": "b140c53d-8289-4215-83cd-27b4ab7b5934",
   "metadata": {},
   "source": [
    "10. All code reviews are by nature, asynchronous."
   ]
  },
  {
   "cell_type": "code",
   "execution_count": null,
   "id": "66338b0a-9f37-4545-ab32-8c4a10e36f8f",
   "metadata": {},
   "outputs": [],
   "source": [
    "# Input the answer below as a Python boolean.\n",
    "a10 = None\n",
    "### BEGIN SOLUTION\n",
    "a10_sol = False\n",
    "### END SOLUTION"
   ]
  },
  {
   "cell_type": "code",
   "execution_count": null,
   "id": "c110f485-6960-4edd-80d9-8e77c4ca308b",
   "metadata": {},
   "outputs": [],
   "source": [
    "### BEGIN HASHED AUTOTEST\n",
    "assert a1 == a1_sol\n",
    "assert a2 == a2_sol\n",
    "assert a3 == a3_sol\n",
    "assert a4 == a4_sol\n",
    "assert a5 == a5_sol\n",
    "assert a6 == a6_sol\n",
    "assert a7 == a7_sol\n",
    "assert a8 == a8_sol\n",
    "assert a9 == a9_sol\n",
    "assert a10 == a10_sol\n",
    "### END HASHED AUTOTEST"
   ]
  }
 ],
 "metadata": {
  "kernelspec": {
   "display_name": "Python 3 (ipykernel)",
   "language": "python",
   "name": "python3"
  },
  "language_info": {
   "codemirror_mode": {
    "name": "ipython",
    "version": 3
   },
   "file_extension": ".py",
   "mimetype": "text/x-python",
   "name": "python",
   "nbconvert_exporter": "python",
   "pygments_lexer": "ipython3",
   "version": "3.12.10"
  }
 },
 "nbformat": 4,
 "nbformat_minor": 5
}
