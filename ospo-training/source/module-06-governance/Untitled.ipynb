{
 "cells": [
  {
   "cell_type": "markdown",
   "id": "c099315f-72a8-4009-9ba2-6f3163bf2bbd",
   "metadata": {
    "nbgrader": {
     "grade": false,
     "grade_id": "cell-714196ffb91ec0f9",
     "locked": true,
     "schema_version": 3,
     "solution": false,
     "task": false
    }
   },
   "source": [
    "# OSS Module 01 - Git Basics\n",
    "\n",
    "<img src=\"../../img/icon-git.png\" width=\"200\" />\n",
    "\n",
    "# Contents\n",
    "- [1: About this training module](#1:-About-this-training-module)\n",
    "- [2: Git and GitHub Setup](#2:-Git-and-GitHub-setup)\n",
    "- [3: About Git](#3:-About-Git)\n",
    "- [4: Working with a Git repo](#4:-Working-with-a-Git-repo)\n",
    "  * [4.1: Creating a repo and committing files](#4.1:-Creating-a-repo-and-committing-files)\n",
    "  * [4.2: Working with remotes](#4.2:-Working-with-remotes)\n",
    "  * [4.3: Downloading a repo](#4.3:-Downloading-a-repo)\n",
    "  * [4.4: Adding more changes](#4.4:-Adding-more-changes)\n",
    "  * [4.5: Getting new changes from the remote](#4.5:-Getting-new-changes-from-the-remote)\n",
    "- [5: Branches](#5:-Branches)\n",
    "  * [5.1: About Git branches](#5.1:-About-Git-branches)\n",
    "  * [5.2: Checking-out changes](#5.2:-Checking-out-changes)\n",
    "  * [5.3: Using topic branches](#5.3:-Using-topic-branches)\n",
    "  * [5.4: Merging branches](#5.4:-Merging-branches)\n",
    "\n",
    "# 1: About this training module\n",
    "\n",
    "Welcome to the GT OSPO VSIP!  This training module will introduce you to concepts of Git, especially related to branching and merging.  Understanding Git branching/merging will be essential to your success in as code contributor.  \n",
    "\n",
    "### How should I use this training module?\n",
    "\n",
    "You'll get the most out of this module if you follow-along interactively.  \n",
    "\n",
    "You can download this Jupyter notebook and work directly inside it.  Make sure you have the `jupyter`, `jupyterlab`, and `bash_kernel` Python modules installed.  **Don't forget the second step with `python -m bash_kernel.install`!**\n",
    "\n",
    "``` Console\n",
    "$ pip install jupyter jupyterlab bash_kernel\n",
    "$ python -m bash_kernel.install\n",
    "```\n",
    "\n",
    "If you are not installing Jupyter or `bash_kernel`, you can also follow-along in any standalone terminal.\n",
    "\n",
    "### Why aren't we learning to use the Git GUI in (VS Code, PyCharm, ...)?\n",
    "\n",
    "Good question!  We love our IDEs, we use Git in our IDEs all the time, and so should you.  **But** it really helps to know how to precisely use Git in the command line, especially if your IDE isn't doing exactly what you want.  Trust us, it can really help you out of a jam.  \n",
    "\n",
    "Another issue is that not everyone uses the same IDE.  All the terms and concepts you learn here will translate directly to whatever IDE you use."
   ]
  }
 ],
 "metadata": {
  "kernelspec": {
   "display_name": "Python 3 (ipykernel)",
   "language": "python",
   "name": "python3"
  },
  "language_info": {
   "codemirror_mode": {
    "name": "ipython",
    "version": 3
   },
   "file_extension": ".py",
   "mimetype": "text/x-python",
   "name": "python",
   "nbconvert_exporter": "python",
   "pygments_lexer": "ipython3",
   "version": "3.12.10"
  }
 },
 "nbformat": 4,
 "nbformat_minor": 5
}
