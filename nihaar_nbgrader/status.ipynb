{
 "cells": [
  {
   "cell_type": "markdown",
   "id": "433f677b-7135-4785-b222-19cf112d1690",
   "metadata": {
    "editable": true,
    "slideshow": {
     "slide_type": ""
    },
    "tags": []
   },
   "source": [
    "Check the status of your repository. Store your command in the variable `st`.\n"
   ]
  },
  {
   "cell_type": "code",
   "execution_count": null,
   "id": "ad0fb6ab-f0f1-42f8-88e1-98a22f1248b7",
   "metadata": {
    "editable": true,
    "slideshow": {
     "slide_type": ""
    },
    "tags": []
   },
   "outputs": [],
   "source": [
    "import os"
   ]
  },
  {
   "cell_type": "markdown",
   "id": "46f8a6c8-3486-4323-a58e-6d92de296d9f",
   "metadata": {},
   "source": [
    "Be careful of which directory you're in"
   ]
  },
  {
   "cell_type": "code",
   "execution_count": null,
   "id": "f869185b-4ecd-457f-9dbc-76a3890068dd",
   "metadata": {
    "editable": true,
    "nbgrader": {
     "grade": false,
     "grade_id": "status",
     "locked": false,
     "schema_version": 3,
     "solution": true
    },
    "slideshow": {
     "slide_type": ""
    },
    "tags": []
   },
   "outputs": [],
   "source": [
    "def check_status():\n",
    "    os.chdir(\"git_folder\")\n",
    "    # st = ..\n",
    "    ### BEGIN SOLUTION\n",
    "    st = !git status\n",
    "    ### END SOLUTION\n",
    "    os.chdir(\"..\")\n",
    "    return st"
   ]
  },
  {
   "cell_type": "code",
   "execution_count": null,
   "id": "80ee51ba-5af4-4b92-be4c-94a642e60f61",
   "metadata": {
    "editable": true,
    "slideshow": {
     "slide_type": ""
    },
    "tags": []
   },
   "outputs": [],
   "source": [
    "assert check_status()[0] == \"On branch master\""
   ]
  },
  {
   "cell_type": "code",
   "execution_count": null,
   "id": "6bd6b2bc-7741-47e3-a57e-cdeaae5a0311",
   "metadata": {},
   "outputs": [],
   "source": []
  }
 ],
 "metadata": {
  "kernelspec": {
   "display_name": "Python 3 (ipykernel)",
   "language": "python",
   "name": "python3"
  },
  "language_info": {
   "codemirror_mode": {
    "name": "ipython",
    "version": 3
   },
   "file_extension": ".py",
   "mimetype": "text/x-python",
   "name": "python",
   "nbconvert_exporter": "python",
   "pygments_lexer": "ipython3",
   "version": "3.10.12"
  }
 },
 "nbformat": 4,
 "nbformat_minor": 5
}
