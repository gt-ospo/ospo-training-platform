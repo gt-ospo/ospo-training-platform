{
 "cells": [
  {
   "cell_type": "markdown",
   "id": "5d3f6699-77ee-4ba8-bc62-ecd95aeab729",
   "metadata": {},
   "source": [
    "Make a new Directory titled \"git_folder\". Inside this folder, initialize a git repository."
   ]
  },
  {
   "cell_type": "code",
   "execution_count": null,
   "id": "6d4d1181-66c8-4267-8b03-eb85feaa6288",
   "metadata": {
    "editable": true,
    "slideshow": {
     "slide_type": ""
    },
    "tags": []
   },
   "outputs": [],
   "source": [
    "import os\n",
    "\n",
    "import subprocess\n",
    "def run_shell_command(command):\n",
    "    process = subprocess.Popen(command, stdout=subprocess.PIPE, stderr=subprocess.PIPE, shell=True)\n",
    "    output, error = process.communicate()\n",
    "\n",
    "    if process.returncode != 0:\n",
    "        print(f\"Error: {error.decode().strip()}\")\n",
    "        return None\n",
    "    \n",
    "    return output.decode().strip()"
   ]
  },
  {
   "cell_type": "code",
   "execution_count": null,
   "id": "08ef293e-aeb2-430b-a77a-e90773af90dd",
   "metadata": {
    "editable": true,
    "slideshow": {
     "slide_type": ""
    },
    "tags": []
   },
   "outputs": [],
   "source": [
    "import os\n",
    "\n",
    "try:\n",
    "    assert os.path.exists(\"git_folder\")\n",
    "except Exception:\n",
    "    raise  Exception(\"Folder doesn't exist!\")\n",
    "result = None\n",
    "try:\n",
    "    os.chdir(\"git_folder\")\n",
    "    result = !git status\n",
    "    os.chdir(\"..\")\n",
    "except Exception:\n",
    "    raise  Exception(\"Repository doesn't exist!\")\n",
    "assert result != [\"fatal: not a git repository (or any of the parent directories): .git\"]"
   ]
  },
  {
   "cell_type": "code",
   "execution_count": null,
   "id": "bdfa25e9-b765-4ceb-9ac5-cae146c48325",
   "metadata": {},
   "outputs": [],
   "source": []
  }
 ],
 "metadata": {
  "kernelspec": {
   "display_name": "Python 3 (ipykernel)",
   "language": "python",
   "name": "python3"
  },
  "language_info": {
   "codemirror_mode": {
    "name": "ipython",
    "version": 3
   },
   "file_extension": ".py",
   "mimetype": "text/x-python",
   "name": "python",
   "nbconvert_exporter": "python",
   "pygments_lexer": "ipython3",
   "version": "3.10.12"
  }
 },
 "nbformat": 4,
 "nbformat_minor": 5
}
