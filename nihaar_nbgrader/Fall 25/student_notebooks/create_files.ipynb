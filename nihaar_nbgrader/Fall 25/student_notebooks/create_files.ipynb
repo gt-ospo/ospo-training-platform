{
 "cells": [
  {
   "cell_type": "markdown",
   "id": "433f677b-7135-4785-b222-19cf112d1690",
   "metadata": {
    "editable": true,
    "slideshow": {
     "slide_type": ""
    },
    "tags": []
   },
   "source": [
    "Create a file named `README.md` inside this `git_folder` using git commands"
   ]
  },
  {
   "cell_type": "code",
   "execution_count": null,
   "id": "ad0fb6ab-f0f1-42f8-88e1-98a22f1248b7",
   "metadata": {
    "editable": true,
    "slideshow": {
     "slide_type": ""
    },
    "tags": []
   },
   "outputs": [],
   "source": [
    "import os"
   ]
  },
  {
   "cell_type": "code",
   "execution_count": null,
   "id": "f869185b-4ecd-457f-9dbc-76a3890068dd",
   "metadata": {
    "deletable": false,
    "editable": true,
    "nbgrader": {
     "cell_type": "code",
     "checksum": "e4430ed157a40f48fe344d4ab4b8e59d",
     "grade": false,
     "grade_id": "create_readme",
     "locked": false,
     "schema_version": 3,
     "solution": true
    },
    "slideshow": {
     "slide_type": ""
    },
    "tags": []
   },
   "outputs": [],
   "source": [
    "def create_readme():\n",
    "    os.chdir(\"git_folder\")\n",
    "    # store the command in new_file, ex: new_file = ...\n",
    "    # YOUR CODE HERE\n",
    "    raise NotImplementedError()\n",
    "    os.chdir(\"..\")\n",
    "    return new_file\n",
    "create_readme()"
   ]
  },
  {
   "cell_type": "code",
   "execution_count": null,
   "id": "6bd6b2bc-7741-47e3-a57e-cdeaae5a0311",
   "metadata": {
    "editable": true,
    "slideshow": {
     "slide_type": ""
    },
    "tags": []
   },
   "outputs": [],
   "source": [
    "assert os.path.exists(\"git_folder/README.md\")"
   ]
  },
  {
   "cell_type": "markdown",
   "id": "dd6a70bf-8c74-4688-bb76-3e446a802ff5",
   "metadata": {
    "editable": true,
    "slideshow": {
     "slide_type": ""
    },
    "tags": []
   },
   "source": [
    "Now, create another file called `my_abs.py` in the same directory. <br />\n",
    "Populate it with these contents:"
   ]
  },
  {
   "cell_type": "code",
   "execution_count": null,
   "id": "058e7b96-d37c-468e-b1bd-1795b24e4c87",
   "metadata": {
    "editable": true,
    "slideshow": {
     "slide_type": ""
    },
    "tags": []
   },
   "outputs": [],
   "source": [
    "'''\n",
    "def my_abs(x):\n",
    "    if x < 0:\n",
    "        return -x\n",
    "    else:\n",
    "        return x\n",
    "'''"
   ]
  },
  {
   "cell_type": "code",
   "execution_count": null,
   "id": "2e74b9cd-4cb8-46ba-a3f1-c82d07410133",
   "metadata": {
    "deletable": false,
    "editable": true,
    "nbgrader": {
     "cell_type": "code",
     "checksum": "46d0fb63b02017f3d2501a7a81c647a3",
     "grade": false,
     "grade_id": "create_abs",
     "locked": false,
     "schema_version": 3,
     "solution": true
    },
    "slideshow": {
     "slide_type": ""
    },
    "tags": []
   },
   "outputs": [],
   "source": [
    "def create_abs():\n",
    "    os.chdir(\"git_folder\")\n",
    "    # store the command in new_file, ex: new_file = ...\n",
    "    # YOUR CODE HERE\n",
    "    raise NotImplementedError()\n",
    "    os.chdir(\"..\")\n",
    "    return new_file\n",
    "create_abs()"
   ]
  },
  {
   "cell_type": "code",
   "execution_count": null,
   "id": "71fd2efe-fc7d-44aa-acbe-409a7b83cb5e",
   "metadata": {
    "editable": true,
    "slideshow": {
     "slide_type": ""
    },
    "tags": []
   },
   "outputs": [],
   "source": [
    "assert os.path.exists(\"git_folder/my_abs.py\")"
   ]
  },
  {
   "cell_type": "code",
   "execution_count": null,
   "id": "b065ebe6-e91a-45bf-b32f-5f84e4e6918c",
   "metadata": {
    "editable": true,
    "slideshow": {
     "slide_type": ""
    },
    "tags": []
   },
   "outputs": [],
   "source": [
    "from git_folder.my_abs import my_abs\n",
    "assert my_abs(-4) == my_abs(4)\n",
    "assert my_abs(0) == 0\n",
    "assert my_abs(-10) == my_abs(-10)"
   ]
  }
 ],
 "metadata": {
  "kernelspec": {
   "display_name": "Python 3 (ipykernel)",
   "language": "python",
   "name": "python3"
  },
  "language_info": {
   "codemirror_mode": {
    "name": "ipython",
    "version": 3
   },
   "file_extension": ".py",
   "mimetype": "text/x-python",
   "name": "python",
   "nbconvert_exporter": "python",
   "pygments_lexer": "ipython3",
   "version": "3.10.12"
  }
 },
 "nbformat": 4,
 "nbformat_minor": 5
}
