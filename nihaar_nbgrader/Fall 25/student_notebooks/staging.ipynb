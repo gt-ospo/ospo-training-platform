{
 "cells": [
  {
   "cell_type": "markdown",
   "id": "e00aca6b-1971-4fcb-8134-61dbd3a1f814",
   "metadata": {
    "editable": true,
    "slideshow": {
     "slide_type": ""
    },
    "tags": []
   },
   "source": [
    "Stage these two files"
   ]
  },
  {
   "cell_type": "code",
   "execution_count": null,
   "id": "5a4e9b79-5cf3-4ec1-a9d3-24b5ba1f9da6",
   "metadata": {
    "editable": true,
    "slideshow": {
     "slide_type": ""
    },
    "tags": []
   },
   "outputs": [],
   "source": [
    "import os\n",
    "\n",
    "import subprocess\n",
    "def run_shell_command(command):\n",
    "    process = subprocess.Popen(command, stdout=subprocess.PIPE, stderr=subprocess.PIPE, shell=True)\n",
    "    output, error = process.communicate()\n",
    "\n",
    "    if process.returncode != 0:\n",
    "        print(f\"Error: {error.decode().strip()}\")\n",
    "        return None\n",
    "    \n",
    "    return output.decode().strip()"
   ]
  },
  {
   "cell_type": "code",
   "execution_count": null,
   "id": "6ea74348-fa69-4423-8387-86b360cdb852",
   "metadata": {
    "editable": true,
    "slideshow": {
     "slide_type": ""
    },
    "tags": []
   },
   "outputs": [],
   "source": [
    "os.chdir(\"git_folder\")\n",
    "status = !git status\n",
    "os.chdir(\"..\")\n",
    "flag = 0\n",
    "for i in status:\n",
    "    if \"my_abs.py\" in i or \"README.md\" in i or \"On branch master\" in i:\n",
    "        flag += 1\n",
    "assert flag == 3"
   ]
  },
  {
   "cell_type": "code",
   "execution_count": null,
   "id": "35d989d8-d78a-448d-a25b-1bcf07700126",
   "metadata": {
    "editable": true,
    "slideshow": {
     "slide_type": ""
    },
    "tags": []
   },
   "outputs": [],
   "source": []
  }
 ],
 "metadata": {
  "kernelspec": {
   "display_name": "Python 3 (ipykernel)",
   "language": "python",
   "name": "python3"
  },
  "language_info": {
   "codemirror_mode": {
    "name": "ipython",
    "version": 3
   },
   "file_extension": ".py",
   "mimetype": "text/x-python",
   "name": "python",
   "nbconvert_exporter": "python",
   "pygments_lexer": "ipython3",
   "version": "3.10.12"
  }
 },
 "nbformat": 4,
 "nbformat_minor": 5
}
