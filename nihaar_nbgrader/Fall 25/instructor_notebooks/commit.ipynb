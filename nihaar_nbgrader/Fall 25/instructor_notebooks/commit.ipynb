{
 "cells": [
  {
   "cell_type": "markdown",
   "id": "879057a7-adaf-4190-b8cd-61625f972727",
   "metadata": {
    "editable": true,
    "slideshow": {
     "slide_type": ""
    },
    "tags": []
   },
   "source": [
    "Now commit your files"
   ]
  },
  {
   "cell_type": "code",
   "execution_count": null,
   "id": "cb9ef200-5c9d-484c-b55d-f2f2a3e4133b",
   "metadata": {
    "editable": true,
    "slideshow": {
     "slide_type": ""
    },
    "tags": []
   },
   "outputs": [],
   "source": [
    "import os\n",
    "os.chdir(\"git_folder\")"
   ]
  },
  {
   "cell_type": "code",
   "execution_count": null,
   "id": "4749a58a-57e7-4440-9af2-3472a1d781d0",
   "metadata": {
    "editable": true,
    "slideshow": {
     "slide_type": ""
    },
    "tags": []
   },
   "outputs": [],
   "source": [
    "s = !git log\n",
    "assert s[0] != \"fatal: your current branch 'master' does not have any commits yet\""
   ]
  }
 ],
 "metadata": {
  "kernelspec": {
   "display_name": "Python 3 (ipykernel)",
   "language": "python",
   "name": "python3"
  },
  "language_info": {
   "codemirror_mode": {
    "name": "ipython",
    "version": 3
   },
   "file_extension": ".py",
   "mimetype": "text/x-python",
   "name": "python",
   "nbconvert_exporter": "python",
   "pygments_lexer": "ipython3",
   "version": "3.10.12"
  }
 },
 "nbformat": 4,
 "nbformat_minor": 5
}
