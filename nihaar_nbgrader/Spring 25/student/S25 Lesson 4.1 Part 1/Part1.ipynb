{
 "cells": [
  {
   "cell_type": "markdown",
   "id": "a55cadad-a95f-44d1-8218-13568af32454",
   "metadata": {},
   "source": [
    "Make a new Directory titled \"git_folder\". Inside this folder, initialize a git repository.\n",
    "\n"
   ]
  },
  {
   "cell_type": "code",
   "execution_count": null,
   "id": "5cf1f69f-3a4d-4342-813b-b78bdfbd3aa1",
   "metadata": {},
   "outputs": [],
   "source": [
    "import os\n",
    "\n",
    "import subprocess\n",
    "def run_shell_command(command):\n",
    "    process = subprocess.Popen(command, stdout=subprocess.PIPE, stderr=subprocess.PIPE, shell=True)\n",
    "    output, error = process.communicate()\n",
    "\n",
    "    if process.returncode != 0:\n",
    "        print(f\"Error: {error.decode().strip()}\")\n",
    "        return None\n",
    "    \n",
    "    return output.decode().strip()"
   ]
  },
  {
   "cell_type": "code",
   "execution_count": null,
   "id": "84dfaae5-77c2-4e8b-a762-ecd7bd2e2812",
   "metadata": {
    "deletable": false,
    "editable": false,
    "nbgrader": {
     "cell_type": "code",
     "checksum": "6f30b81ead48cc6cddea3d4f5ff7f3ac",
     "grade": true,
     "grade_id": "cell-d3fce04a3536087a",
     "locked": true,
     "points": 1,
     "schema_version": 3,
     "solution": false,
     "task": false
    }
   },
   "outputs": [],
   "source": [
    "try:\n",
    "    assert os.path.exists(\"git_folder\")\n",
    "except Exception:\n",
    "    raise  Exception(\"Folder doesn't exist!\")\n",
    "result = None\n",
    "try:\n",
    "    os.chdir(\"git_folder\")\n",
    "    result = !git status\n",
    "    os.chdir(\"..\")\n",
    "except Exception:\n",
    "    raise  Exception(\"Repository doesn't exist!\")\n",
    "assert result != \"fatal: not a git repository (or any of the parent directories): .git\""
   ]
  },
  {
   "cell_type": "markdown",
   "id": "02c76e31-7179-4225-a7dc-053d5296581d",
   "metadata": {},
   "source": [
    "Check the status of your repository. Store your command in the variable `st`.\n"
   ]
  },
  {
   "cell_type": "code",
   "execution_count": null,
   "id": "5dabaed3-e7c5-45ba-93d8-4e858e2676ca",
   "metadata": {
    "deletable": false,
    "nbgrader": {
     "cell_type": "code",
     "checksum": "3916fabe5ce9caf058c147848bc1ca13",
     "grade": false,
     "grade_id": "cell-26ead7539bc8f1bb",
     "locked": false,
     "schema_version": 3,
     "solution": true,
     "task": false
    }
   },
   "outputs": [],
   "source": [
    "def check_status():\n",
    "    os.chdir(\"git_folder\")\n",
    "    # st = ..\n",
    "    # YOUR CODE HERE\n",
    "    raise NotImplementedError()\n",
    "    os.chdir(\"..\")\n",
    "    return st"
   ]
  },
  {
   "cell_type": "code",
   "execution_count": null,
   "id": "b67ca4a7-c788-4e24-b131-b3bc0a2dc458",
   "metadata": {
    "deletable": false,
    "editable": false,
    "nbgrader": {
     "cell_type": "code",
     "checksum": "6f86975a380abb54f0f2c198c9230f49",
     "grade": true,
     "grade_id": "cell-81dd646e40847aba",
     "locked": true,
     "points": 1,
     "schema_version": 3,
     "solution": false,
     "task": false
    }
   },
   "outputs": [],
   "source": [
    "assert check_status()[0] == \"On branch master\""
   ]
  },
  {
   "cell_type": "markdown",
   "id": "54a0f6c6-17b3-4ff0-831a-157fdd0b7f55",
   "metadata": {},
   "source": [
    "Create a file named `README.md` inside this `git_folder` using git commands"
   ]
  },
  {
   "cell_type": "code",
   "execution_count": null,
   "id": "d42bb3d8-4649-4ae6-9205-60a2ddccc105",
   "metadata": {
    "deletable": false,
    "nbgrader": {
     "cell_type": "code",
     "checksum": "30713f0d1f52f9aa3396cd8a310dbfb0",
     "grade": false,
     "grade_id": "cell-0147f64d5a4b0956",
     "locked": false,
     "schema_version": 3,
     "solution": true,
     "task": false
    }
   },
   "outputs": [],
   "source": [
    "def create_readme():\n",
    "    os.chdir(\"git_folder\")\n",
    "    # store the command in new_file, ex: new_file = ...\n",
    "    # YOUR CODE HERE\n",
    "    raise NotImplementedError()\n",
    "    os.chdir(\"..\")\n",
    "    return new_file\n",
    "create_readme()"
   ]
  },
  {
   "cell_type": "code",
   "execution_count": null,
   "id": "c79ee29c-b4b9-4644-98b4-53be9a5e71b4",
   "metadata": {
    "deletable": false,
    "editable": false,
    "nbgrader": {
     "cell_type": "code",
     "checksum": "9e6b4c20ddd56b8436c109b4e4b9db04",
     "grade": true,
     "grade_id": "cell-d3c7abb6bc82c233",
     "locked": true,
     "points": 1,
     "schema_version": 3,
     "solution": false,
     "task": false
    }
   },
   "outputs": [],
   "source": [
    "assert os.path.exists(\"git_folder/README.md\")"
   ]
  },
  {
   "cell_type": "markdown",
   "id": "99cdcbe2-ac57-4205-8710-8e5cfe1db56c",
   "metadata": {},
   "source": [
    "Now, create another file called `my_abs.py` in the same directory. <br />\n",
    "Populate it with these contents:"
   ]
  },
  {
   "cell_type": "code",
   "execution_count": null,
   "id": "1b93cffa-52fd-49ce-86e5-04b162877939",
   "metadata": {},
   "outputs": [],
   "source": [
    "'''\n",
    "def my_abs(x):\n",
    "    if x < 0:\n",
    "        return -x\n",
    "    else:\n",
    "        return -x\n",
    "'''"
   ]
  },
  {
   "cell_type": "code",
   "execution_count": null,
   "id": "e8fd990b-c629-4808-b9b0-215f70c32dee",
   "metadata": {
    "deletable": false,
    "nbgrader": {
     "cell_type": "code",
     "checksum": "80fcd4b85e2cda7744619c3114bc6d75",
     "grade": false,
     "grade_id": "cell-a457fa5080101b07",
     "locked": false,
     "schema_version": 3,
     "solution": true,
     "task": false
    }
   },
   "outputs": [],
   "source": [
    "def create_abs():\n",
    "    os.chdir(\"git_folder\")\n",
    "    # store the command in new_file, ex: new_file = ...\n",
    "    # YOUR CODE HERE\n",
    "    raise NotImplementedError()\n",
    "    os.chdir(\"..\")\n",
    "    return new_file\n",
    "create_abs()"
   ]
  },
  {
   "cell_type": "code",
   "execution_count": null,
   "id": "c727bd4c-46b8-4c46-a462-6b2d74c70ddf",
   "metadata": {
    "deletable": false,
    "editable": false,
    "nbgrader": {
     "cell_type": "code",
     "checksum": "38aa43741a10a9d976e2a96b7ac9fa77",
     "grade": true,
     "grade_id": "cell-b986f6425b60850d",
     "locked": true,
     "points": 1,
     "schema_version": 3,
     "solution": false,
     "task": false
    }
   },
   "outputs": [],
   "source": [
    "assert os.path.exists(\"git_folder/my_abs.py\")"
   ]
  },
  {
   "cell_type": "code",
   "execution_count": null,
   "id": "68f3c569-2bfe-4f4d-90dc-3b5b2326a003",
   "metadata": {
    "deletable": false,
    "editable": false,
    "nbgrader": {
     "cell_type": "code",
     "checksum": "e562f0dbd8a883d99528bfa21c3aa8e9",
     "grade": true,
     "grade_id": "cell-7635f2c06627e7d2",
     "locked": true,
     "points": 1,
     "schema_version": 3,
     "solution": false,
     "task": false
    }
   },
   "outputs": [],
   "source": [
    "os.chdir(\"git_folder\")\n",
    "import my_abs\n",
    "import importlib\n",
    "importlib.reload(my_abs)\n",
    "from my_abs import my_abs\n",
    "os.chdir(\"..\")\n",
    "assert my_abs(-4) == my_abs(4)\n",
    "assert my_abs(0) == 0\n",
    "assert my_abs(5) == 5\n",
    "assert my_abs(-10) == my_abs(-10)"
   ]
  },
  {
   "cell_type": "markdown",
   "id": "ebe0904e-70e7-465e-97ee-4a825e79866c",
   "metadata": {},
   "source": [
    "Stage these two files"
   ]
  },
  {
   "cell_type": "code",
   "execution_count": null,
   "id": "ee5e3ea1-8b7e-4d4a-a385-e99c6e4951b8",
   "metadata": {},
   "outputs": [],
   "source": [
    "os.chdir(\"git_folder\")\n",
    "status = !git status\n",
    "os.chdir(\"..\")\n",
    "flag = 0\n",
    "for i in status:\n",
    "    if \"my_abs.py\" in i or \"README.md\" in i or \"On branch master\" in i:\n",
    "        flag += 1\n",
    "assert flag == 3"
   ]
  },
  {
   "cell_type": "code",
   "execution_count": null,
   "id": "7f16877f-6fb2-482d-85ab-d277a887c3af",
   "metadata": {},
   "outputs": [],
   "source": []
  },
  {
   "cell_type": "code",
   "execution_count": null,
   "id": "eb590173-ec4b-453d-a46e-dc287d5cd753",
   "metadata": {},
   "outputs": [],
   "source": []
  }
 ],
 "metadata": {
  "kernelspec": {
   "display_name": "Python 3 (ipykernel)",
   "language": "python",
   "name": "python3"
  },
  "language_info": {
   "codemirror_mode": {
    "name": "ipython",
    "version": 3
   },
   "file_extension": ".py",
   "mimetype": "text/x-python",
   "name": "python",
   "nbconvert_exporter": "python",
   "pygments_lexer": "ipython3",
   "version": "3.10.12"
  }
 },
 "nbformat": 4,
 "nbformat_minor": 5
}
