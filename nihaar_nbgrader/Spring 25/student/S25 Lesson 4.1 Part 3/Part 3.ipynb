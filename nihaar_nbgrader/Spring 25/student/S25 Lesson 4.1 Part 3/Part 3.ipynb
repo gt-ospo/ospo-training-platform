{
 "cells": [
  {
   "cell_type": "code",
   "execution_count": null,
   "id": "d6877a7f-ab56-4621-903b-eace536d5f80",
   "metadata": {},
   "outputs": [],
   "source": [
    "import os\n",
    "os.getcwd()"
   ]
  },
  {
   "cell_type": "code",
   "execution_count": null,
   "id": "179d75bc-b48b-4f47-93b5-819a378a2bc3",
   "metadata": {},
   "outputs": [],
   "source": [
    "import os\n",
    "!mkdir git_folder\n",
    "os.chdir(\"git_folder\")\n",
    "!git init\n",
    "!touch my_abs.py\n",
    "code = \"\"\"def my_abs(x):\n",
    "    if x < 0:\n",
    "        return -x\n",
    "    else:\n",
    "        return x\n",
    "\"\"\"\n",
    "with open(\"my_abs.py\", \"w\") as f:\n",
    "    f.write(code)\n",
    "!touch README.md\n",
    "!git add .\n",
    "!git commit -m \"Initial commit\"\n",
    "!git remote add origin git@github.com:nihaar-c/otter-student-dummy.git\n",
    "!git config pull.rebase true\n",
    "!git pull origin master\n",
    "!git push -u origin master"
   ]
  },
  {
   "cell_type": "markdown",
   "id": "dc6af437-71dd-4d99-98dd-39610b042e3a",
   "metadata": {},
   "source": [
    "Outside of your `git_folder` make a new folder called clone and clone the remote repo into that folder"
   ]
  },
  {
   "cell_type": "code",
   "execution_count": null,
   "id": "f9cbcf60-a786-4cb4-8fcc-bab0063fef1a",
   "metadata": {},
   "outputs": [],
   "source": [
    "os.chdir(\"..\")"
   ]
  },
  {
   "cell_type": "code",
   "execution_count": null,
   "id": "70d0ab58-95ca-4e2b-8ba9-9008515afec5",
   "metadata": {},
   "outputs": [],
   "source": [
    "os.getcwd()"
   ]
  },
  {
   "cell_type": "code",
   "execution_count": null,
   "id": "d59cae3b-b1bf-4cd7-b9d9-6e497779b8b1",
   "metadata": {
    "deletable": false,
    "nbgrader": {
     "cell_type": "code",
     "checksum": "981fd02f40072a858de70438d0de64cc",
     "grade": false,
     "grade_id": "cell-0bd65c36b3cef6f7",
     "locked": false,
     "schema_version": 3,
     "solution": true,
     "task": false
    }
   },
   "outputs": [],
   "source": [
    "# TODO: Enter commands for git clone\n",
    "!mkdir #path_to_clone\n",
    "os.chdir(#path_to_clone)\n",
    "repo_dir = #'path_to_clone'\n",
    "# YOUR CODE HERE\n",
    "raise NotImplementedError()\n",
    "\n"
   ]
  },
  {
   "cell_type": "code",
   "execution_count": null,
   "id": "d1531f94-0591-4212-86f9-f6234bf24683",
   "metadata": {},
   "outputs": [],
   "source": [
    "os.getcwd()"
   ]
  },
  {
   "cell_type": "code",
   "execution_count": null,
   "id": "43e9c2f7-4da8-40ad-a6bf-b80d0301c602",
   "metadata": {},
   "outputs": [],
   "source": [
    "os.chdir(\"..\")\n",
    "assert(os.path.exists(os.path.join(repo_dir, \"otter-student-dummy/.git\")))"
   ]
  },
  {
   "cell_type": "code",
   "execution_count": null,
   "id": "4f48c57a-dec2-4932-95a7-1f9b546e9a10",
   "metadata": {},
   "outputs": [],
   "source": [
    "os.chdir(\"clone\")"
   ]
  },
  {
   "cell_type": "markdown",
   "id": "4d4eec3b-db1a-4765-aa99-6ec077c02ece",
   "metadata": {},
   "source": [
    "Add a new file `add.py` that uses the below code into your `clone` folder"
   ]
  },
  {
   "cell_type": "code",
   "execution_count": null,
   "id": "8b35e5dd-a5de-4e20-b94d-026d5a8a8332",
   "metadata": {},
   "outputs": [],
   "source": [
    "'''\n",
    "def add(a, b):\n",
    "    return a + b\n",
    "'''\n"
   ]
  },
  {
   "cell_type": "code",
   "execution_count": null,
   "id": "cc58a4df-cb45-41c8-81b5-a5ffdce0106b",
   "metadata": {},
   "outputs": [],
   "source": [
    "expected_content = \"\"\"\n",
    "def add(a, b):\n",
    "    return a + b\n",
    "\"\"\"\n",
    "file_path = os.path.expanduser(\"otter-student-dummy/add.py\")\n",
    "current_content = ''\n",
    "if os.path.exists(file_path):\n",
    "    with open(file_path, 'r') as file:\n",
    "        current_content = file.read()\n",
    "\n",
    "if current_content != expected_content:\n",
    "    with open(file_path, 'w') as file:\n",
    "        file.write(expected_content)"
   ]
  },
  {
   "cell_type": "code",
   "execution_count": null,
   "id": "dbb6d800-5862-4362-9e8e-23826022b8c4",
   "metadata": {},
   "outputs": [],
   "source": [
    "os.chdir(\"otter-student-dummy\")\n",
    "import add\n",
    "import importlib\n",
    "importlib.reload(add)\n",
    "from add import add\n",
    "os.chdir(\"..\")\n",
    "assert add(1, 2) == 3\n",
    "assert add(-1, -1) == -2\n",
    "assert add(10, -5) == 5"
   ]
  },
  {
   "cell_type": "markdown",
   "id": "bcf0541f-b870-4ada-919a-3565f02cce04",
   "metadata": {},
   "source": [
    "Stage, commit, and push your changes. Your commit message should be \"Added add.py\""
   ]
  },
  {
   "cell_type": "code",
   "execution_count": null,
   "id": "c3cb1189-0705-471b-a344-3f3d8dd0d355",
   "metadata": {},
   "outputs": [],
   "source": [
    "os.chdir(\"otter-student-dummy\")\n",
    "# TODO: Stage\n",
    "!git # staging command\n",
    "\n",
    "# TODO: Commit\n",
    "!git # commit with correct message\n",
    "\n",
    "# TODO: Push\n",
    "!git # push command"
   ]
  },
  {
   "cell_type": "code",
   "execution_count": null,
   "id": "27c18347-f3b7-415b-b80a-574bfda41d91",
   "metadata": {},
   "outputs": [],
   "source": [
    "status_output = !git status\n",
    "expected_strings = [\"Your branch is up to date with 'origin/master'.\", 'nothing to commit, working tree clean']\n",
    "assert(all(any(expected_string in line for line in status_output) for expected_string in expected_strings))\n",
    "\n",
    "log_output = !git log origin/master..master\n",
    "assert(log_output == [])\n",
    "\n",
    "!git fetch origin\n",
    "compare_output = !git rev-parse HEAD\n",
    "remote_head = !git rev-parse origin/master\n",
    "assert(compare_output[0] == remote_head[0])"
   ]
  },
  {
   "cell_type": "markdown",
   "id": "059df3a3-7b5e-41b3-8a8f-f80d5e5dacc8",
   "metadata": {},
   "source": [
    "Now, go back to your original `git_folder` and pull these new changes"
   ]
  },
  {
   "cell_type": "code",
   "execution_count": null,
   "id": "5c9c9d43-7e17-4724-bb9d-f310a936fbc9",
   "metadata": {},
   "outputs": [],
   "source": [
    "os.getcwd()"
   ]
  },
  {
   "cell_type": "code",
   "execution_count": null,
   "id": "f943d980-0e60-44f8-bc56-9704f693767b",
   "metadata": {
    "deletable": false,
    "nbgrader": {
     "cell_type": "code",
     "checksum": "ff2006ed2ab89ccfe30a2bba724b4842",
     "grade": false,
     "grade_id": "cell-5b4ea756c509efa5",
     "locked": false,
     "schema_version": 3,
     "solution": true,
     "task": false
    }
   },
   "outputs": [],
   "source": [
    "# TODO: Go to git_folder\n",
    "#os.chdir(path to git_folder)\n",
    "# YOUR CODE HERE\n",
    "raise NotImplementedError()"
   ]
  },
  {
   "cell_type": "code",
   "execution_count": null,
   "id": "e4ef36b7-eafc-46a2-8eeb-468c7de2e6be",
   "metadata": {},
   "outputs": [],
   "source": [
    "# TODO: Pull new changes\n",
    "!git # pull command"
   ]
  },
  {
   "cell_type": "code",
   "execution_count": null,
   "id": "9a9aa9fb-7f95-4f51-8c08-8e54cb016402",
   "metadata": {},
   "outputs": [],
   "source": [
    "os.path.exists(\"add.py\")\n",
    "import add\n",
    "import importlib\n",
    "importlib.reload(add)\n",
    "from add import add\n",
    "os.chdir(\"..\")\n",
    "assert add(1, 2) == 3\n",
    "assert add(-1, -1) == -2\n",
    "assert add(10, -5) == 5"
   ]
  }
 ],
 "metadata": {
  "kernelspec": {
   "display_name": "Python 3 (ipykernel)",
   "language": "python",
   "name": "python3"
  },
  "language_info": {
   "codemirror_mode": {
    "name": "ipython",
    "version": 3
   },
   "file_extension": ".py",
   "mimetype": "text/x-python",
   "name": "python",
   "nbconvert_exporter": "python",
   "pygments_lexer": "ipython3",
   "version": "3.10.12"
  }
 },
 "nbformat": 4,
 "nbformat_minor": 5
}
