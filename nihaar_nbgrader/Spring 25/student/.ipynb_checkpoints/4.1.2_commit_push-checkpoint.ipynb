{
 "cells": [
  {
   "cell_type": "markdown",
   "id": "5cd9963d-739c-4b72-88d4-3598602d99e0",
   "metadata": {},
   "source": [
    "Before you turn this problem in, make sure your Kernel works. First, **restart the kernel** (in the menubar, select Kernel $\\rightarrow$ Restart).\n",
    "\n",
    "Make sure you fill in any place that says `YOUR CODE HERE` or \"YOUR ANSWER HERE\", as well as your name and collaborators below:"
   ]
  },
  {
   "cell_type": "code",
   "execution_count": null,
   "id": "85dd9ed5-c1eb-4728-9884-bba4e4afa8b6",
   "metadata": {},
   "outputs": [],
   "source": [
    "NAME = \"\"\n",
    "COLLABORATORS = \"\""
   ]
  },
  {
   "cell_type": "markdown",
   "id": "f482d2b4-734f-4132-9181-50d17acca2db",
   "metadata": {},
   "source": [
    "**Step 0:** Run the below cell"
   ]
  },
  {
   "cell_type": "code",
   "execution_count": null,
   "id": "7d273bb8-6cb7-460a-812e-a2033afeea8a",
   "metadata": {},
   "outputs": [],
   "source": [
    "import os"
   ]
  },
  {
   "cell_type": "code",
   "execution_count": null,
   "id": "2ca7a12f-a13b-409c-8896-1ab91d9b0178",
   "metadata": {},
   "outputs": [],
   "source": [
    "from file_state_manager import load_state, save_state"
   ]
  },
  {
   "cell_type": "code",
   "execution_count": null,
   "id": "2862b4c8-1d50-4016-a693-cc9f3d885741",
   "metadata": {},
   "outputs": [],
   "source": [
    "if os.path.exists(\"lesson_1_checkpoint_final\"):\n",
    "    load_state(lesson=1, checkpoint=\"final\")\n",
    "else:\n",
    "    !mkdir git_folder\n",
    "    os.chdir(\"git_folder\")\n",
    "    !git init\n",
    "    !touch my_abs.py\n",
    "    code = \"\"\"def my_abs(x):\n",
    "        if x < 0:\n",
    "            return -x\n",
    "        else:\n",
    "            return x\n",
    "    \"\"\"\n",
    "    with open(\"my_abs.py\", \"w\") as f:\n",
    "        f.write(code)\n",
    "    !touch README.md\n",
    "    !git add ."
   ]
  },
  {
   "cell_type": "markdown",
   "id": "58ed0011-49db-465d-9a6e-bd0b0f8fafa4",
   "metadata": {},
   "source": [
    "**Step 1:** Commit your staged files. Your work from Part 1 has been moved to this notebook for you."
   ]
  },
  {
   "cell_type": "code",
   "execution_count": null,
   "id": "56bf2c6e-5f03-4ace-9e14-a2410c827c9d",
   "metadata": {
    "deletable": false,
    "nbgrader": {
     "cell_type": "code",
     "checksum": "ee6634c371e28a9db4669d9200a2a172",
     "grade": false,
     "grade_id": "cell-2bc8b425bb7bfaa2",
     "locked": false,
     "schema_version": 3,
     "solution": true,
     "task": false
    }
   },
   "outputs": [],
   "source": [
    "# TODO: Commit staged files\n",
    "# YOUR CODE HERE\n",
    "raise NotImplementedError()"
   ]
  },
  {
   "cell_type": "code",
   "execution_count": null,
   "id": "57907b6b-2971-426c-9171-04873ad6e6ef",
   "metadata": {
    "deletable": false,
    "editable": false,
    "nbgrader": {
     "cell_type": "code",
     "checksum": "73ebccaab7e07b5fef37323cb0d85e23",
     "grade": true,
     "grade_id": "cell-7a23386072c7fb7b",
     "locked": true,
     "points": 1,
     "schema_version": 3,
     "solution": false,
     "task": false
    }
   },
   "outputs": [],
   "source": [
    "s = !git log\n",
    "assert s[0] != \"fatal: your current branch 'master' does not have any commits yet\""
   ]
  },
  {
   "cell_type": "markdown",
   "id": "ab4a2c19-3a70-4c8a-98b1-7fc3f2e467f1",
   "metadata": {},
   "source": [
    "**Step 2:** Connect to a remote repository"
   ]
  },
  {
   "cell_type": "code",
   "execution_count": null,
   "id": "e0a10f78-5dc6-4eb3-a149-0fee6a5b8e9b",
   "metadata": {
    "deletable": false,
    "nbgrader": {
     "cell_type": "code",
     "checksum": "5d51c19e3f6be4bef3825cd3436e30f3",
     "grade": false,
     "grade_id": "cell-2c9ecf896e08b6f5",
     "locked": false,
     "schema_version": 3,
     "solution": true,
     "task": false
    }
   },
   "outputs": [],
   "source": [
    "# TODO: connect to this remote repository: git@github.com:nihaar-c/otter-student-dummy.git\n",
    "# YOUR CODE HERE\n",
    "raise NotImplementedError()\n",
    "remote_v_output = !git remote -v"
   ]
  },
  {
   "cell_type": "code",
   "execution_count": null,
   "id": "08bce1c4-01c2-4fef-a6df-03a24ffa6c5b",
   "metadata": {},
   "outputs": [],
   "source": [
    "# RUN THIS CELL\n",
    "repo_url = \"git@github.com:nihaar-c/otter-student-dummy.git\""
   ]
  },
  {
   "cell_type": "markdown",
   "id": "cdf3f26a-5960-4979-b9be-66a95dfaeb99",
   "metadata": {},
   "source": [
    "Run the below test cell to check your work"
   ]
  },
  {
   "cell_type": "code",
   "execution_count": null,
   "id": "236bd843-3ec0-4d06-9ac7-08392037f2f7",
   "metadata": {
    "deletable": false,
    "editable": false,
    "nbgrader": {
     "cell_type": "code",
     "checksum": "2d8276370d763564c491a0f84cabb1ff",
     "grade": true,
     "grade_id": "cell-b89993a10e58efbb",
     "locked": true,
     "points": 1,
     "schema_version": 3,
     "solution": false,
     "task": false
    }
   },
   "outputs": [],
   "source": [
    "expected_strings = [\"origin\\t\" + repo_url + \" (fetch)\", \"origin\\t\"+ repo_url + \" (push)\"]\n",
    "assert(all(any(expected_string in line for line in remote_v_output) for expected_string in expected_strings))"
   ]
  },
  {
   "cell_type": "markdown",
   "id": "d0a83648-215b-46f3-9aac-e4df56fede6e",
   "metadata": {},
   "source": [
    "**Step 3:** Push to the remote repository. If it doesn't work, add `--force` to the end of the command"
   ]
  },
  {
   "cell_type": "code",
   "execution_count": null,
   "id": "478219de-5117-404d-bf52-9b52621ab3eb",
   "metadata": {
    "deletable": false,
    "nbgrader": {
     "cell_type": "code",
     "checksum": "9991b932a11037beb2db2ca30609c879",
     "grade": false,
     "grade_id": "cell-08f0663e364ec220",
     "locked": false,
     "schema_version": 3,
     "solution": true,
     "task": false
    }
   },
   "outputs": [],
   "source": [
    "# TODO: Push to remote repository\n",
    "\n",
    "# YOUR CODE HERE\n",
    "raise NotImplementedError()"
   ]
  },
  {
   "cell_type": "markdown",
   "id": "b05399f0-e164-40fa-b725-6c06d126b596",
   "metadata": {},
   "source": [
    "Run the below tests to check your work"
   ]
  },
  {
   "cell_type": "code",
   "execution_count": null,
   "id": "8871c189-9e93-4e0d-ac42-94afa2b61c01",
   "metadata": {
    "deletable": false,
    "editable": false,
    "nbgrader": {
     "cell_type": "code",
     "checksum": "d13c3c86ed3773f41608b579749886ea",
     "grade": true,
     "grade_id": "cell-6955ea02ac8039d9",
     "locked": true,
     "points": 1,
     "schema_version": 3,
     "solution": false,
     "task": false
    }
   },
   "outputs": [],
   "source": [
    "status_output = !git status\n",
    "expected_strings = [\"Your branch is up to date with 'origin/master'.\", 'nothing to commit, working tree clean']\n",
    "assert(all(any(expected_string in line for line in status_output) for expected_string in expected_strings))\n",
    "\n",
    "log_output = !git log origin/master..master\n",
    "assert(log_output == [])\n",
    "\n",
    "!git fetch origin\n",
    "compare_output = !git rev-parse HEAD\n",
    "remote_head = !git rev-parse origin/master\n",
    "assert(compare_output[0] == remote_head[0])"
   ]
  },
  {
   "cell_type": "code",
   "execution_count": null,
   "id": "6b8628a5-3bce-4d93-af67-28089424a90c",
   "metadata": {},
   "outputs": [],
   "source": [
    "files = [\"git_folder/my_abs.py\", \"git_folder/README.md\"]\n",
    "save_state(files, lesson=2, checkpoint=\"final\")"
   ]
  }
 ],
 "metadata": {
  "kernelspec": {
   "display_name": "Python 3 (ipykernel)",
   "language": "python",
   "name": "python3"
  },
  "language_info": {
   "codemirror_mode": {
    "name": "ipython",
    "version": 3
   },
   "file_extension": ".py",
   "mimetype": "text/x-python",
   "name": "python",
   "nbconvert_exporter": "python",
   "pygments_lexer": "ipython3",
   "version": "3.10.12"
  }
 },
 "nbformat": 4,
 "nbformat_minor": 5
}
