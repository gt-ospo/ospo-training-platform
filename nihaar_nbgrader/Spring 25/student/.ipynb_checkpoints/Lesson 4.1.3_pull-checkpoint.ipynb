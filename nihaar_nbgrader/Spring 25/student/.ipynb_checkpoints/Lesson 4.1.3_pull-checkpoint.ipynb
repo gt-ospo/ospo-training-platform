{
 "cells": [
  {
   "cell_type": "code",
   "execution_count": null,
   "id": "b85549cb-da79-4c46-b9b4-9bb17e459c92",
   "metadata": {},
   "outputs": [],
   "source": [
    "import os"
   ]
  },
  {
   "cell_type": "markdown",
   "id": "c059a87d-16cc-49f1-9659-cc609574ecdb",
   "metadata": {},
   "source": [
    "**Step 0:** Run the below cell"
   ]
  },
  {
   "cell_type": "code",
   "execution_count": null,
   "id": "179d75bc-b48b-4f47-93b5-819a378a2bc3",
   "metadata": {},
   "outputs": [],
   "source": [
    "import os\n",
    "!mkdir git_folder\n",
    "os.chdir(\"git_folder\")\n",
    "!git init\n",
    "!touch my_abs.py\n",
    "code = \"\"\"def my_abs(x):\n",
    "    if x < 0:\n",
    "        return -x\n",
    "    else:\n",
    "        return x\n",
    "\"\"\"\n",
    "with open(\"my_abs.py\", \"w\") as f:\n",
    "    f.write(code)\n",
    "!touch README.md\n",
    "!git add .\n",
    "!git commit -m \"Initial commit\"\n",
    "!git remote add origin git@github.com:nihaar-c/otter-student-dummy.git\n",
    "!git config pull.rebase true\n",
    "!git pull origin master\n",
    "!git push -u origin master\n",
    "os.chdir(\"..\")"
   ]
  },
  {
   "cell_type": "markdown",
   "id": "60528362-f002-4d36-819b-9e8f540d2c8b",
   "metadata": {},
   "source": [
    "**Step 1:** Outside of your `git_folder`, make a new folder called `clone` and clone the remote repository into that directory"
   ]
  },
  {
   "cell_type": "code",
   "execution_count": null,
   "id": "f9cbcf60-a786-4cb4-8fcc-bab0063fef1a",
   "metadata": {},
   "outputs": [],
   "source": [
    "os.getcwd()"
   ]
  },
  {
   "cell_type": "code",
   "execution_count": null,
   "id": "1e766915-fb47-48cd-bf9c-25e4d34d267a",
   "metadata": {},
   "outputs": [],
   "source": [
    "# TODO: Create clone directory and navigate inside it\n",
    "!mkdir #path to clone\n",
    "os.chdir(#path_to_clone)\n",
    "repo_dir = #path_to_clone"
   ]
  },
  {
   "cell_type": "code",
   "execution_count": null,
   "id": "d59cae3b-b1bf-4cd7-b9d9-6e497779b8b1",
   "metadata": {
    "deletable": false,
    "nbgrader": {
     "cell_type": "code",
     "checksum": "2eb75ed4e82a073bd89312574ca76be3",
     "grade": false,
     "grade_id": "cell-0bd65c36b3cef6f7",
     "locked": false,
     "schema_version": 3,
     "solution": true,
     "task": false
    }
   },
   "outputs": [],
   "source": [
    "# TODO: Clone repository in this directory \n",
    "# YOUR CODE HERE\n",
    "raise NotImplementedError()"
   ]
  },
  {
   "cell_type": "markdown",
   "id": "7b69457f-59a8-4e6f-a206-06221f775330",
   "metadata": {},
   "source": [
    "Run the below cells to test your code"
   ]
  },
  {
   "cell_type": "code",
   "execution_count": null,
   "id": "389d62a3-b076-418c-980a-977cd44c7da5",
   "metadata": {},
   "outputs": [],
   "source": [
    "assert(os.path.exists(\"otter-student-dummy/.git\"))\n",
    "assert \"git_folder\" not in os.getcwd()"
   ]
  },
  {
   "cell_type": "markdown",
   "id": "4d4eec3b-db1a-4765-aa99-6ec077c02ece",
   "metadata": {},
   "source": [
    "**Step 2:** Add a new file `add.py` in your `clone/otter-student/dummy` folder. Populate the file with the below code."
   ]
  },
  {
   "cell_type": "code",
   "execution_count": null,
   "id": "8b35e5dd-a5de-4e20-b94d-026d5a8a8332",
   "metadata": {},
   "outputs": [],
   "source": [
    "'''\n",
    "def add(a, b):\n",
    "    return a + b\n",
    "'''\n"
   ]
  },
  {
   "cell_type": "markdown",
   "id": "698fc344-9c7f-4317-a875-3cf4e0713530",
   "metadata": {},
   "source": [
    "Run the below cells to test your code"
   ]
  },
  {
   "cell_type": "code",
   "execution_count": null,
   "id": "cc58a4df-cb45-41c8-81b5-a5ffdce0106b",
   "metadata": {
    "deletable": false,
    "editable": false,
    "nbgrader": {
     "cell_type": "code",
     "checksum": "7ae008c08751956473d783c3f77ec192",
     "grade": true,
     "grade_id": "cell-0a51b505f1846947",
     "locked": true,
     "points": 3,
     "schema_version": 3,
     "solution": false,
     "task": false
    }
   },
   "outputs": [],
   "source": [
    "expected_content = \"\"\"\n",
    "def add(a, b):\n",
    "    return a + b\n",
    "\"\"\"\n",
    "file_path = os.path.expanduser(\"otter-student-dummy/add.py\")\n",
    "current_content = ''\n",
    "if os.path.exists(file_path):\n",
    "    with open(file_path, 'r') as file:\n",
    "        current_content = file.read()\n",
    "\n",
    "if current_content != expected_content:\n",
    "    with open(file_path, 'w') as file:\n",
    "        file.write(expected_content)"
   ]
  },
  {
   "cell_type": "code",
   "execution_count": null,
   "id": "dbb6d800-5862-4362-9e8e-23826022b8c4",
   "metadata": {
    "deletable": false,
    "editable": false,
    "nbgrader": {
     "cell_type": "code",
     "checksum": "ead1fece2e158d4b57fc0643107b1edc",
     "grade": true,
     "grade_id": "cell-2abefe2ab662a1b1",
     "locked": true,
     "points": 1,
     "schema_version": 3,
     "solution": false,
     "task": false
    }
   },
   "outputs": [],
   "source": [
    "os.chdir(\"otter-student-dummy\")\n",
    "try:\n",
    "    import add\n",
    "    import importlib\n",
    "    importlib.reload(add)\n",
    "    from add import add\n",
    "    # os.chdir(\"..\")\n",
    "    assert add(1, 2) == 3\n",
    "    assert add(-1, -1) == -2\n",
    "    assert add(10, -5) == 5\n",
    "except Exception:\n",
    "    raise Exception(\"File or method doesn't exist\")"
   ]
  },
  {
   "cell_type": "markdown",
   "id": "bcf0541f-b870-4ada-919a-3565f02cce04",
   "metadata": {},
   "source": [
    "**Step 3:** Stage, commit, and push your changes. Your commit message should be \"Added add.py\""
   ]
  },
  {
   "cell_type": "code",
   "execution_count": null,
   "id": "f416a65d-0818-441d-b8b5-f3a55905c501",
   "metadata": {},
   "outputs": [],
   "source": [
    "#TODO: Stage\n",
    "!git #staging command"
   ]
  },
  {
   "cell_type": "code",
   "execution_count": null,
   "id": "4ef03a89-738e-47d2-89aa-d87a3952c13e",
   "metadata": {},
   "outputs": [],
   "source": [
    "#TODO: Commit\n",
    "!git #commit with correct message"
   ]
  },
  {
   "cell_type": "code",
   "execution_count": null,
   "id": "c3cb1189-0705-471b-a344-3f3d8dd0d355",
   "metadata": {},
   "outputs": [],
   "source": [
    "# TODO: Push\n",
    "!git # push command"
   ]
  },
  {
   "cell_type": "markdown",
   "id": "de51e77d-6872-4108-96e5-f6740382cfec",
   "metadata": {},
   "source": [
    "Run the below cell to test Step 3"
   ]
  },
  {
   "cell_type": "code",
   "execution_count": null,
   "id": "27c18347-f3b7-415b-b80a-574bfda41d91",
   "metadata": {
    "deletable": false,
    "editable": false,
    "nbgrader": {
     "cell_type": "code",
     "checksum": "9aef70011076ecc524268ead5f7944ff",
     "grade": true,
     "grade_id": "cell-b829f987cd705cbf",
     "locked": true,
     "points": 2,
     "schema_version": 3,
     "solution": false,
     "task": false
    }
   },
   "outputs": [],
   "source": [
    "status_output = !git status\n",
    "expected_strings = [\"Your branch is up to date with 'origin/master'.\", 'nothing to commit, working tree clean']\n",
    "assert(all(any(expected_string in line for line in status_output) for expected_string in expected_strings))\n",
    "\n",
    "log_output = !git log origin/master..master\n",
    "assert(log_output == [])\n",
    "\n",
    "!git fetch origin\n",
    "compare_output = !git rev-parse HEAD\n",
    "remote_head = !git rev-parse origin/master\n",
    "assert(compare_output[0] == remote_head[0])"
   ]
  },
  {
   "cell_type": "markdown",
   "id": "059df3a3-7b5e-41b3-8a8f-f80d5e5dacc8",
   "metadata": {},
   "source": [
    "**Step 4:** Now, go back to your original `git_folder` and `git pull` these new changes"
   ]
  },
  {
   "cell_type": "code",
   "execution_count": null,
   "id": "5c9c9d43-7e17-4724-bb9d-f310a936fbc9",
   "metadata": {},
   "outputs": [],
   "source": [
    "os.getcwd()"
   ]
  },
  {
   "cell_type": "code",
   "execution_count": null,
   "id": "f943d980-0e60-44f8-bc56-9704f693767b",
   "metadata": {
    "deletable": false,
    "nbgrader": {
     "cell_type": "code",
     "checksum": "d72e83453d5abeb0aa205252afa23b87",
     "grade": false,
     "grade_id": "cell-5b4ea756c509efa5",
     "locked": false,
     "schema_version": 3,
     "solution": true,
     "task": false
    }
   },
   "outputs": [],
   "source": [
    "# YOUR CODE HERE\n",
    "raise NotImplementedError()"
   ]
  },
  {
   "cell_type": "code",
   "execution_count": null,
   "id": "e4ef36b7-eafc-46a2-8eeb-468c7de2e6be",
   "metadata": {},
   "outputs": [],
   "source": [
    "# TODO: Pull new changes\n",
    "!git # pull command"
   ]
  },
  {
   "cell_type": "markdown",
   "id": "67fd295e-2dbe-4f87-a162-d74a8b7f44c9",
   "metadata": {},
   "source": [
    "Run the below cells to test Step 4"
   ]
  },
  {
   "cell_type": "code",
   "execution_count": null,
   "id": "214482cc-6508-4d79-931e-6a8b1b9efad7",
   "metadata": {},
   "outputs": [],
   "source": [
    "assert \"git_folder\" in os.getcwd()"
   ]
  },
  {
   "cell_type": "code",
   "execution_count": null,
   "id": "9a9aa9fb-7f95-4f51-8c08-8e54cb016402",
   "metadata": {
    "deletable": false,
    "editable": false,
    "nbgrader": {
     "cell_type": "code",
     "checksum": "054abe5f9001c8aef8ccf65f0308a0a8",
     "grade": true,
     "grade_id": "cell-e0e0da986fdb5643",
     "locked": true,
     "points": 5,
     "schema_version": 3,
     "solution": false,
     "task": false
    }
   },
   "outputs": [],
   "source": [
    "os.path.exists(\"add.py\")\n",
    "import add\n",
    "import importlib\n",
    "importlib.reload(add)\n",
    "from add import add\n",
    "assert add(1, 2) == 3\n",
    "assert add(-1, -1) == -2\n",
    "assert add(10, -5) == 5"
   ]
  }
 ],
 "metadata": {
  "kernelspec": {
   "display_name": "Python 3 (ipykernel)",
   "language": "python",
   "name": "python3"
  },
  "language_info": {
   "codemirror_mode": {
    "name": "ipython",
    "version": 3
   },
   "file_extension": ".py",
   "mimetype": "text/x-python",
   "name": "python",
   "nbconvert_exporter": "python",
   "pygments_lexer": "ipython3",
   "version": "3.10.12"
  }
 },
 "nbformat": 4,
 "nbformat_minor": 5
}
