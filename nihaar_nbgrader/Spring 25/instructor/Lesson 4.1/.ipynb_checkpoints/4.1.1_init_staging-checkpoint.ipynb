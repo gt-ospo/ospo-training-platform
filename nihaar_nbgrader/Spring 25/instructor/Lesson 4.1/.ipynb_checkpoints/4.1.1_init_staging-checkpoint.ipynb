{
 "cells": [
  {
   "cell_type": "markdown",
   "id": "753b90cb-c6cb-440c-97d6-84c8fae50031",
   "metadata": {},
   "source": [
    "Before you turn this problem in, make sure your Kernel works. First, **restart the kernel** (in the menubar, select Kernel $\\rightarrow$ Restart).\n",
    "\n",
    "Make sure you fill in any place that says `YOUR CODE HERE` or \"YOUR ANSWER HERE\", as well as your name and collaborators below:"
   ]
  },
  {
   "cell_type": "code",
   "execution_count": 2,
   "id": "d20a56b8-5933-44cb-ae73-20ecdd54e5f9",
   "metadata": {},
   "outputs": [],
   "source": [
    "NAME = \"\"\n",
    "COLLABORATORS = \"\""
   ]
  },
  {
   "cell_type": "markdown",
   "id": "a55cadad-a95f-44d1-8218-13568af32454",
   "metadata": {},
   "source": [
    "**Run the below cell**\n"
   ]
  },
  {
   "cell_type": "code",
   "execution_count": 1,
   "id": "5cf1f69f-3a4d-4342-813b-b78bdfbd3aa1",
   "metadata": {},
   "outputs": [],
   "source": [
    "import os"
   ]
  },
  {
   "cell_type": "markdown",
   "id": "7a120bec-81b2-45d3-ac12-42feb430d41a",
   "metadata": {},
   "source": [
    "**Step 1:** Create a folder named `git_folder`, call `git init` inside the folder, and run the below test once completed"
   ]
  },
  {
   "cell_type": "code",
   "execution_count": null,
   "id": "f8957894-5629-4dff-bea4-ad2052ccc3ad",
   "metadata": {
    "nbgrader": {
     "grade": false,
     "grade_id": "cell-70065a84dd451358",
     "locked": false,
     "schema_version": 3,
     "solution": true,
     "task": false
    }
   },
   "outputs": [],
   "source": [
    "# TODO: create `git_folder'\n",
    "### BEGIN SOLUTION\n",
    "!mkdir git_folder\n",
    "### END SOLUTION\n"
   ]
  },
  {
   "cell_type": "code",
   "execution_count": null,
   "id": "3266d4fd-7b8a-48d6-9888-643889df46ab",
   "metadata": {},
   "outputs": [],
   "source": [
    "!cd git_folder"
   ]
  },
  {
   "cell_type": "code",
   "execution_count": null,
   "id": "4980458b-fe84-4df9-af7c-bc9455895830",
   "metadata": {
    "nbgrader": {
     "grade": false,
     "grade_id": "cell-e6e4266dcee0c008",
     "locked": false,
     "schema_version": 3,
     "solution": true,
     "task": false
    }
   },
   "outputs": [],
   "source": [
    "# TODO: call `git init` inside the folder\n",
    "### BEGIN SOLUTION\n",
    "!git init\n",
    "### END SOLUTION"
   ]
  },
  {
   "cell_type": "code",
   "execution_count": null,
   "id": "0de3ff0f-4f47-42c1-bfa1-bd4c968a74e6",
   "metadata": {},
   "outputs": [],
   "source": [
    "!cd .."
   ]
  },
  {
   "cell_type": "code",
   "execution_count": null,
   "id": "84dfaae5-77c2-4e8b-a762-ecd7bd2e2812",
   "metadata": {
    "nbgrader": {
     "grade": true,
     "grade_id": "cell-d3fce04a3536087a",
     "locked": true,
     "points": 1,
     "schema_version": 3,
     "solution": false,
     "task": false
    }
   },
   "outputs": [],
   "source": [
    "try:\n",
    "    assert os.path.exists(\"git_folder\")\n",
    "except Exception:\n",
    "    raise  Exception(\"Folder doesn't exist!\")\n",
    "result = None\n",
    "try:\n",
    "    os.chdir(\"git_folder\")\n",
    "    result = !git status\n",
    "    os.chdir(\"..\")\n",
    "except Exception:\n",
    "    raise  Exception(\"Repository doesn't exist!\")\n",
    "assert result != \"fatal: not a git repository (or any of the parent directories): .git\""
   ]
  },
  {
   "cell_type": "markdown",
   "id": "02c76e31-7179-4225-a7dc-053d5296581d",
   "metadata": {},
   "source": [
    "**Step 2:** Check the status of your repository. Store your command in the variable `st`. Only type in cells with `TODO`\n"
   ]
  },
  {
   "cell_type": "code",
   "execution_count": null,
   "id": "5d45eecf-77c5-4347-a44e-4b6834d7081c",
   "metadata": {},
   "outputs": [],
   "source": [
    "os.chdir(\"git_folder\")"
   ]
  },
  {
   "cell_type": "code",
   "execution_count": null,
   "id": "5dabaed3-e7c5-45ba-93d8-4e858e2676ca",
   "metadata": {
    "nbgrader": {
     "grade": false,
     "grade_id": "cell-26ead7539bc8f1bb",
     "locked": false,
     "schema_version": 3,
     "solution": true,
     "task": false
    }
   },
   "outputs": [],
   "source": [
    "def check_status():\n",
    "    # TODO: call status command like st = ...\n",
    "    ### BEGIN SOLUTION\n",
    "    st = !git status\n",
    "    ### END SOLUTION\n",
    "    return st"
   ]
  },
  {
   "cell_type": "markdown",
   "id": "07e9010a-fd47-4c73-8180-38c70661ab81",
   "metadata": {},
   "source": [
    "Check your work with the unit test below"
   ]
  },
  {
   "cell_type": "code",
   "execution_count": null,
   "id": "b67ca4a7-c788-4e24-b131-b3bc0a2dc458",
   "metadata": {
    "nbgrader": {
     "grade": true,
     "grade_id": "cell-81dd646e40847aba",
     "locked": true,
     "points": 1,
     "schema_version": 3,
     "solution": false,
     "task": false
    }
   },
   "outputs": [],
   "source": [
    "assert \"On branch master\" in check_status()"
   ]
  },
  {
   "cell_type": "markdown",
   "id": "54a0f6c6-17b3-4ff0-831a-157fdd0b7f55",
   "metadata": {},
   "source": [
    "**Step 3:** Create a file named `README.md` inside this `git_folder` using git commands. Only type in cells with `TODO`"
   ]
  },
  {
   "cell_type": "code",
   "execution_count": null,
   "id": "d42bb3d8-4649-4ae6-9205-60a2ddccc105",
   "metadata": {
    "nbgrader": {
     "grade": false,
     "grade_id": "cell-0147f64d5a4b0956",
     "locked": false,
     "schema_version": 3,
     "solution": true,
     "task": false
    }
   },
   "outputs": [],
   "source": [
    "def create_readme():\n",
    "    # TODO: create the new file\n",
    "    ### BEGIN SOLUTION\n",
    "    !touch README.md\n",
    "    ### END SOLUTION\n",
    "    return\n",
    "create_readme()"
   ]
  },
  {
   "cell_type": "markdown",
   "id": "806dad35-c061-47bb-a333-744fde1282fb",
   "metadata": {},
   "source": [
    "Check your work with the unit test below"
   ]
  },
  {
   "cell_type": "code",
   "execution_count": null,
   "id": "c79ee29c-b4b9-4644-98b4-53be9a5e71b4",
   "metadata": {
    "nbgrader": {
     "grade": true,
     "grade_id": "cell-d3c7abb6bc82c233",
     "locked": true,
     "points": 1,
     "schema_version": 3,
     "solution": false,
     "task": false
    }
   },
   "outputs": [],
   "source": [
    "assert os.path.exists(\"README.md\")"
   ]
  },
  {
   "cell_type": "markdown",
   "id": "99cdcbe2-ac57-4205-8710-8e5cfe1db56c",
   "metadata": {},
   "source": [
    "**Step 4:** Now, create another file called `my_abs.py` in the same directory. <br />\n",
    "Populate it with these contents:"
   ]
  },
  {
   "cell_type": "code",
   "execution_count": null,
   "id": "1b93cffa-52fd-49ce-86e5-04b162877939",
   "metadata": {},
   "outputs": [],
   "source": [
    "'''\n",
    "def my_abs(x):\n",
    "    if x < 0:\n",
    "        return -x\n",
    "    else:\n",
    "        return x\n",
    "'''"
   ]
  },
  {
   "cell_type": "code",
   "execution_count": null,
   "id": "e8fd990b-c629-4808-b9b0-215f70c32dee",
   "metadata": {
    "nbgrader": {
     "grade": false,
     "grade_id": "cell-a457fa5080101b07",
     "locked": false,
     "schema_version": 3,
     "solution": true,
     "task": false
    }
   },
   "outputs": [],
   "source": [
    "def create_abs():\n",
    "    # TODO: create the new file\n",
    "    ### BEGIN SOLUTION\n",
    "    !touch my_abs.py\n",
    "    ### END SOLUTION\n",
    "    return\n",
    "create_abs()"
   ]
  },
  {
   "cell_type": "markdown",
   "id": "090ff7fa-e6a3-4d1a-b587-8169a739db9b",
   "metadata": {},
   "source": [
    "Run the following cells to check your work"
   ]
  },
  {
   "cell_type": "code",
   "execution_count": null,
   "id": "c727bd4c-46b8-4c46-a462-6b2d74c70ddf",
   "metadata": {
    "nbgrader": {
     "grade": true,
     "grade_id": "cell-b986f6425b60850d",
     "locked": true,
     "points": 1,
     "schema_version": 3,
     "solution": false,
     "task": false
    }
   },
   "outputs": [],
   "source": [
    "assert os.path.exists(\"my_abs.py\")"
   ]
  },
  {
   "cell_type": "code",
   "execution_count": null,
   "id": "68f3c569-2bfe-4f4d-90dc-3b5b2326a003",
   "metadata": {
    "nbgrader": {
     "grade": true,
     "grade_id": "cell-7635f2c06627e7d2",
     "locked": true,
     "points": 1,
     "schema_version": 3,
     "solution": false,
     "task": false
    }
   },
   "outputs": [],
   "source": [
    "try:\n",
    "    import my_abs\n",
    "    import importlib\n",
    "    importlib.reload(my_abs)\n",
    "    from my_abs import my_abs\n",
    "    assert my_abs(-4) == my_abs(4)\n",
    "    assert my_abs(0) == 0\n",
    "    assert my_abs(5) == 5\n",
    "    assert my_abs(-10) == my_abs(-10)\n",
    "except Exception:\n",
    "    raise Exception(\"File or method doesn't exist!\")"
   ]
  },
  {
   "cell_type": "markdown",
   "id": "ebe0904e-70e7-465e-97ee-4a825e79866c",
   "metadata": {},
   "source": [
    "**Step 5:** Stage these two files and then run the below tests"
   ]
  },
  {
   "cell_type": "code",
   "execution_count": null,
   "id": "5d4aeebc-fb0a-4604-8fa1-e3b29934015a",
   "metadata": {
    "nbgrader": {
     "grade": false,
     "grade_id": "cell-e03684f86873577c",
     "locked": false,
     "schema_version": 3,
     "solution": true,
     "task": false
    }
   },
   "outputs": [],
   "source": [
    "# TODO: Stage files\n",
    "### BEGIN SOLUTION\n",
    "!git add .\n",
    "\n",
    "### END SOLUTION"
   ]
  },
  {
   "cell_type": "code",
   "execution_count": null,
   "id": "ee5e3ea1-8b7e-4d4a-a385-e99c6e4951b8",
   "metadata": {},
   "outputs": [],
   "source": [
    "status = !git status\n",
    "flag = 0\n",
    "for i in status:\n",
    "    if \"my_abs.py\" in i or \"README.md\" in i or \"On branch master\" in i:\n",
    "        flag += 1\n",
    "assert flag == 3"
   ]
  },
  {
   "cell_type": "code",
   "execution_count": 4,
   "id": "6f610a4c-7633-443b-8c61-ffa0b4c4b852",
   "metadata": {},
   "outputs": [],
   "source": [
    "os.chdir(\"..\")"
   ]
  },
  {
   "cell_type": "markdown",
   "id": "051c8698-bb8c-4565-9512-4f009ac97d7c",
   "metadata": {},
   "source": [
    "Save your work by running the cells below. Make sure you are outside of the `git_folder`."
   ]
  },
  {
   "cell_type": "code",
   "execution_count": 5,
   "id": "247a7664-d401-4d1f-941d-146fe5d78dd0",
   "metadata": {},
   "outputs": [],
   "source": [
    "from file_state_manager import save_state"
   ]
  },
  {
   "cell_type": "code",
   "execution_count": null,
   "id": "c4691d1c-2854-4d13-a6b3-67b88e9ac949",
   "metadata": {},
   "outputs": [],
   "source": [
    "# save states\n",
    "files = [\"git_folder/my_abs.py\", \"git_folder/README.md\"]\n",
    "save_state(files, lesson=1, checkpoint=\"final\")"
   ]
  }
 ],
 "metadata": {
  "kernelspec": {
   "display_name": "Python 3 (ipykernel)",
   "language": "python",
   "name": "python3"
  },
  "language_info": {
   "codemirror_mode": {
    "name": "ipython",
    "version": 3
   },
   "file_extension": ".py",
   "mimetype": "text/x-python",
   "name": "python",
   "nbconvert_exporter": "python",
   "pygments_lexer": "ipython3",
   "version": "3.10.12"
  }
 },
 "nbformat": 4,
 "nbformat_minor": 5
}
