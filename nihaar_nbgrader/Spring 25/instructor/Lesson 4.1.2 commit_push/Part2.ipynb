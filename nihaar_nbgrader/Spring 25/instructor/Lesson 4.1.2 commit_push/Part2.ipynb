{
 "cells": [
  {
   "cell_type": "markdown",
   "id": "f482d2b4-734f-4132-9181-50d17acca2db",
   "metadata": {},
   "source": [
    "Run the below cell"
   ]
  },
  {
   "cell_type": "code",
   "execution_count": null,
   "id": "10366c56-4116-4ef2-93e1-9ac95c4ff945",
   "metadata": {
    "nbgrader": {
     "grade": false,
     "grade_id": "cell-dabd72ba6522408e",
     "locked": true,
     "schema_version": 3,
     "solution": false,
     "task": false
    }
   },
   "outputs": [],
   "source": [
    "import os\n",
    "!mkdir git_folder\n",
    "os.chdir(\"git_folder\")\n",
    "!git init\n",
    "!touch my_abs.py\n",
    "code = \"\"\"def my_abs(x):\n",
    "    if x < 0:\n",
    "        return -x\n",
    "    else:\n",
    "        return x\n",
    "\"\"\"\n",
    "with open(\"my_abs.py\", \"w\") as f:\n",
    "    f.write(code)\n",
    "!touch README.md\n",
    "!git add ."
   ]
  },
  {
   "cell_type": "markdown",
   "id": "58ed0011-49db-465d-9a6e-bd0b0f8fafa4",
   "metadata": {},
   "source": [
    "Now commit your files"
   ]
  },
  {
   "cell_type": "code",
   "execution_count": null,
   "id": "57907b6b-2971-426c-9171-04873ad6e6ef",
   "metadata": {
    "nbgrader": {
     "grade": true,
     "grade_id": "cell-7a23386072c7fb7b",
     "locked": true,
     "points": 1,
     "schema_version": 3,
     "solution": false,
     "task": false
    }
   },
   "outputs": [],
   "source": [
    "s = !git log\n",
    "assert s[0] != \"fatal: your current branch 'master' does not have any commits yet\""
   ]
  },
  {
   "cell_type": "markdown",
   "id": "ab4a2c19-3a70-4c8a-98b1-7fc3f2e467f1",
   "metadata": {},
   "source": [
    "Connect to a remote repository"
   ]
  },
  {
   "cell_type": "code",
   "execution_count": null,
   "id": "e0a10f78-5dc6-4eb3-a149-0fee6a5b8e9b",
   "metadata": {
    "nbgrader": {
     "grade": false,
     "grade_id": "cell-2c9ecf896e08b6f5",
     "locked": false,
     "schema_version": 3,
     "solution": true,
     "task": false
    }
   },
   "outputs": [],
   "source": [
    "### BEGIN SOLUTION\n",
    "!git remote add origin git@github.com:nihaar-c/otter-student-dummy.git\n",
    "### END SOLUTION\n",
    "\n",
    "remote_v_output = !git remote -v\n",
    "# TODO: Enter your repo url\n",
    "repo_url = \"git@github.com:nihaar-c/otter-student-dummy.git\""
   ]
  },
  {
   "cell_type": "code",
   "execution_count": null,
   "id": "236bd843-3ec0-4d06-9ac7-08392037f2f7",
   "metadata": {
    "nbgrader": {
     "grade": true,
     "grade_id": "cell-b89993a10e58efbb",
     "locked": true,
     "points": 1,
     "schema_version": 3,
     "solution": false,
     "task": false
    }
   },
   "outputs": [],
   "source": [
    "expected_strings = [\"origin\\t\" + repo_url + \" (fetch)\", \"origin\\t\"+ repo_url + \" (push)\"]\n",
    "assert(all(any(expected_string in line for line in remote_v_output) for expected_string in expected_strings))"
   ]
  },
  {
   "cell_type": "markdown",
   "id": "d0a83648-215b-46f3-9aac-e4df56fede6e",
   "metadata": {},
   "source": [
    "Push to the remote repo"
   ]
  },
  {
   "cell_type": "code",
   "execution_count": null,
   "id": "478219de-5117-404d-bf52-9b52621ab3eb",
   "metadata": {
    "nbgrader": {
     "grade": false,
     "grade_id": "cell-08f0663e364ec220",
     "locked": false,
     "schema_version": 3,
     "solution": true,
     "task": false
    }
   },
   "outputs": [],
   "source": [
    "### BEGIN SOLUTION\n",
    "!git push -u origin master\n",
    "### END SOLUTION"
   ]
  },
  {
   "cell_type": "code",
   "execution_count": null,
   "id": "8871c189-9e93-4e0d-ac42-94afa2b61c01",
   "metadata": {
    "nbgrader": {
     "grade": true,
     "grade_id": "cell-6955ea02ac8039d9",
     "locked": true,
     "points": 1,
     "schema_version": 3,
     "solution": false,
     "task": false
    }
   },
   "outputs": [],
   "source": [
    "status_output = !git status\n",
    "expected_strings = [\"Your branch is up to date with 'origin/master'.\", 'nothing to commit, working tree clean']\n",
    "assert(all(any(expected_string in line for line in status_output) for expected_string in expected_strings))\n",
    "\n",
    "log_output = !git log origin/master..master\n",
    "assert(log_output == [])\n",
    "\n",
    "!git fetch origin\n",
    "compare_output = !git rev-parse HEAD\n",
    "remote_head = !git rev-parse origin/master\n",
    "assert(compare_output[0] == remote_head[0])"
   ]
  }
 ],
 "metadata": {
  "kernelspec": {
   "display_name": "Python 3 (ipykernel)",
   "language": "python",
   "name": "python3"
  },
  "language_info": {
   "codemirror_mode": {
    "name": "ipython",
    "version": 3
   },
   "file_extension": ".py",
   "mimetype": "text/x-python",
   "name": "python",
   "nbconvert_exporter": "python",
   "pygments_lexer": "ipython3",
   "version": "3.10.12"
  }
 },
 "nbformat": 4,
 "nbformat_minor": 5
}
