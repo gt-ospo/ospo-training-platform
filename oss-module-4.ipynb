{
 "cells": [
  {
   "cell_type": "code",
   "execution_count": 209,
   "id": "cbcc29bd-0eb5-492e-b984-535c18edc052",
   "metadata": {
    "nbgrader": {
     "grade": false,
     "grade_id": "cell-2796579fb4a97bbd",
     "locked": true,
     "schema_version": 3,
     "solution": false,
     "task": false
    }
   },
   "outputs": [],
   "source": [
    "import subprocess\n",
    "import os\n",
    "\n",
    "def run_git_commands(commands):\n",
    "    \"\"\"\n",
    "    Executes the provided commands sequentially.\n",
    "    \"\"\"\n",
    "    final_command = \" && \".join(commands)\n",
    "    try:\n",
    "        # For mkdir and git init, use the shell=True option to support commands like `mkdir` and `cd`\n",
    "        result = subprocess.run(final_command, shell=True, check=True, stdout=subprocess.PIPE, stderr=subprocess.PIPE, text=True)\n",
    "        return result\n",
    "    except subprocess.CalledProcessError as e:\n",
    "        return type('result', (object,), {'stdout': e.stdout, 'stderr': e.stderr})"
   ]
  },
  {
   "cell_type": "code",
   "execution_count": 210,
   "id": "736ce6cd-161c-4c73-907a-b8381372725c",
   "metadata": {},
   "outputs": [],
   "source": [
    "def git_init_commands():\n",
    "    \"\"\"\n",
    "    Fill in your commands to create a git repository.\n",
    "    \"\"\"\n",
    "    \n",
    "    mkdir = \"mkdir ~/git-workflow\"\n",
    "    cd = \"cd ~/git-workflow\"\n",
    "    git_init = \"git init\"\n",
    "\n",
    "    return mkdir, cd, git_init"
   ]
  },
  {
   "cell_type": "code",
   "execution_count": 211,
   "id": "b055058d-6687-40c8-84cb-6fca9801c0fa",
   "metadata": {
    "nbgrader": {
     "grade": true,
     "grade_id": "cell-58548547712598b6",
     "locked": true,
     "points": 5,
     "schema_version": 3,
     "solution": false,
     "task": false
    }
   },
   "outputs": [],
   "source": [
    "import os\n",
    "import shutil\n",
    "\n",
    "repo_dir = os.path.expanduser(\"~/git-workflow\")\n",
    "\n",
    "# Clean up any previous test runs\n",
    "if os.path.exists(repo_dir):\n",
    "    shutil.rmtree(repo_dir)\n",
    "\n",
    "# Get the student's commands\n",
    "mkdir_cmd, cd_cmd, git_init_cmd = git_init_commands()\n",
    "\n",
    "# Run the student's mkdir commands\n",
    "run_git_commands([mkdir_cmd, cd_cmd, git_init_cmd])\n",
    "\n",
    "# Check if the .git directory exists, which indicates a git repo was created\n",
    "try:\n",
    "    assert(os.path.isdir(os.path.join(repo_dir, \".git\")))\n",
    "except AssertionError as e:\n",
    "    # Clean up the test directory\n",
    "    if os.path.exists(repo_dir):\n",
    "        shutil.rmtree(repo_dir)\n",
    "    print(f\"Error: {e}\")\n"
   ]
  },
  {
   "cell_type": "code",
   "execution_count": 212,
   "id": "60d78d5a-8236-4057-86ab-6e6317f8c2ef",
   "metadata": {},
   "outputs": [],
   "source": [
    "def check_untracked_files():\n",
    "    \"\"\"\n",
    "    Fill in the git status command after creating the README.md and my_abs.py files\n",
    "    \"\"\"\n",
    "\n",
    "    git_status = \"git status\"\n",
    "\n",
    "    return git_status"
   ]
  },
  {
   "cell_type": "code",
   "execution_count": 213,
   "id": "4e835ba3-0c63-40f8-a691-688d2b7c7a30",
   "metadata": {
    "nbgrader": {
     "grade": true,
     "grade_id": "cell-8e8971c96cc64a06",
     "locked": true,
     "points": 5,
     "schema_version": 3,
     "solution": false,
     "task": false
    }
   },
   "outputs": [],
   "source": [
    "# Create files if not existing in directory yet\n",
    "files_and_contents = [\n",
    "    (\"README.md\", \"# Git Workflow\\n\\nThis is an example repo for the GT OSPO VSIP Summer 2024 Program.\"),\n",
    "    (\"my_abs.py\", \"def my_abs(x):\\n    if x < 0:\\n        return -x\\n    else:\\n        return x\\n\")\n",
    "]\n",
    "\n",
    "for file_name, content in files_and_contents:\n",
    "    file_path = os.path.join(repo_dir, file_name)\n",
    "    if not os.path.exists(file_path):\n",
    "        with open(file_path, 'w') as file:\n",
    "            file.write(content)  # Create an empty file\n",
    "\n",
    "git_status_cmd = check_untracked_files()\n",
    "result = run_git_commands([cd_cmd, git_status_cmd])\n",
    "\n",
    "expected_output = 'No commits yet\\n\\nUntracked files:\\n  (use \"git add <file>...\" to include in what will be committed)\\n\\tREADME.md\\n\\tmy_abs.py'\n",
    "\n",
    "assert(expected_output in result.stdout)"
   ]
  },
  {
   "cell_type": "code",
   "execution_count": 214,
   "id": "f4ba78f9-20b0-4cc3-b05c-e9d864513c38",
   "metadata": {},
   "outputs": [],
   "source": [
    "def git_add_commands():\n",
    "    \"\"\"\n",
    "    Fill in the git add command and git status after making all the changes and fixing README.md\n",
    "    \"\"\"\n",
    "    \n",
    "    # add both README.md and my_abs.py\n",
    "    git_add = \"git add README.md my_abs.py\"\n",
    "    git_status = \"git status\"\n",
    "    \n",
    "    return git_add, git_status"
   ]
  },
  {
   "cell_type": "code",
   "execution_count": 215,
   "id": "8391c14d-34ef-4f81-9949-1763362a787e",
   "metadata": {
    "nbgrader": {
     "grade": true,
     "grade_id": "cell-fca8d6a754f0f12b",
     "locked": true,
     "points": 5,
     "schema_version": 3,
     "solution": false,
     "task": false
    }
   },
   "outputs": [],
   "source": [
    "git_add_cmd, git_status_cmd = git_add_commands()\n",
    "result = run_git_commands([cd_cmd, git_add_cmd, git_status_cmd])\n",
    "\n",
    "expected_output = 'No commits yet\\n\\nChanges to be committed:\\n  (use \"git rm --cached <file>...\" to unstage)\\n\\tnew file:   README.md\\n\\tnew file:   my_abs.py'\n",
    "\n",
    "assert(expected_output in result.stdout)"
   ]
  },
  {
   "cell_type": "code",
   "execution_count": 216,
   "id": "b05f7bd2-4149-45e3-802a-fb378b02735d",
   "metadata": {},
   "outputs": [],
   "source": [
    "def git_commit_command():\n",
    "    \"\"\"\n",
    "    Fill in the git commit command and add the message\n",
    "    \"\"\"\n",
    "\n",
    "    git_commit = 'git commit -m \"First commit of my_abs (no try/except yet)\"'\n",
    "\n",
    "    return git_commit"
   ]
  },
  {
   "cell_type": "code",
   "execution_count": 217,
   "id": "a6ef02c7-2fe2-4510-8fc7-3772c260b1b7",
   "metadata": {
    "nbgrader": {
     "grade": true,
     "grade_id": "cell-f2e68ddc5f27d4ce",
     "locked": true,
     "points": 5,
     "schema_version": 3,
     "solution": false,
     "task": false
    }
   },
   "outputs": [],
   "source": [
    "git_commit_cmd = git_commit_command()\n",
    "result = run_git_commands([cd_cmd, git_commit_cmd])\n",
    "\n",
    "assert(\"2 files changed\" in result.stdout and \"\\n create mode 100644 README.md\\n create mode 100644 my_abs.py\" in result.stdout)"
   ]
  },
  {
   "cell_type": "code",
   "execution_count": 218,
   "id": "ae2badc5-064d-4b4b-be29-1df53a163189",
   "metadata": {},
   "outputs": [],
   "source": [
    "# Insert your repo URL here for the unit test\n",
    "repo_url = \"git@github.com:natekim27/git-workflow.git\"\n",
    "\n",
    "def git_remote_command():\n",
    "    \"\"\"\n",
    "    Fill in the git remote command after creating your repo\n",
    "    \"\"\"\n",
    "\n",
    "    git_remote = \"git remote add origin git@github.com:natekim27/git-workflow.git\"\n",
    "    git_remote_v = \"git remote -v\"\n",
    "\n",
    "    return git_remote, git_remote_v"
   ]
  },
  {
   "cell_type": "code",
   "execution_count": 219,
   "id": "e85d51b0-a441-4f10-ba8f-23b49e39625b",
   "metadata": {
    "nbgrader": {
     "grade": true,
     "grade_id": "cell-09c31794d05e2f27",
     "locked": true,
     "points": 5,
     "schema_version": 3,
     "solution": false,
     "task": false
    }
   },
   "outputs": [],
   "source": [
    "git_remote_cmd, git_remote_v_cmd = git_remote_command()\n",
    "result = run_git_commands([cd_cmd, git_remote_cmd, git_remote_v_cmd])\n",
    "\n",
    "expected_output = \"origin\\t\" + repo_url + \" (fetch)\\norigin\\t\" + repo_url + \" (push)\"\n",
    "assert(expected_output in result.stdout)"
   ]
  },
  {
   "cell_type": "code",
   "execution_count": 220,
   "id": "6e0fa53b-e278-4b1b-afd7-453a1833def5",
   "metadata": {},
   "outputs": [],
   "source": [
    "def git_push_command():\n",
    "    \"\"\"\n",
    "    Fill in this git push command\n",
    "    \"\"\"\n",
    "\n",
    "    git_push = \"git push -u origin master\"\n",
    "\n",
    "    return git_push"
   ]
  },
  {
   "cell_type": "code",
   "execution_count": 221,
   "id": "c058bc1c-67d8-46af-9d5c-cdd548041965",
   "metadata": {
    "nbgrader": {
     "grade": true,
     "grade_id": "cell-f59af71b8a2d2af7",
     "locked": true,
     "points": 5,
     "schema_version": 3,
     "solution": false,
     "task": false
    }
   },
   "outputs": [],
   "source": [
    "git_push_cmd = git_push_command()\n",
    "result = run_git_commands([cd_cmd, git_push_cmd])\n",
    "\n",
    "expected_outputs = [\n",
    "    \"Branch 'master' set up to track remote branch 'master' from 'origin'.\",\n",
    "    \"Updates were rejected because the remote contains work that you do\\nhint: not have locally.\"\n",
    "]\n",
    "\n",
    "test_passed = any(expected_output in result.stdout or expected_output in result.stderr for expected_output in expected_outputs)\n",
    "\n",
    "assert test_passed, \"Test failed: None of the expected outputs were found.\""
   ]
  },
  {
   "cell_type": "code",
   "execution_count": 222,
   "id": "382c1c7d-4678-48d0-b4b4-7ee17d465214",
   "metadata": {},
   "outputs": [],
   "source": [
    "def git_clone_commands():\n",
    "    \"\"\"\n",
    "    Fill in the commands to make a new directory, cd into it, and clone the repo\n",
    "    \"\"\"\n",
    "    mkdir_cmd = \"mkdir ~/somewhere-else\"\n",
    "    cd_cmd = \"cd ~/somewhere-else\"\n",
    "    git_clone_cmd = \"git clone git@github.com:natekim27/git-workflow.git\"\n",
    "\n",
    "    return mkdir_cmd, cd_cmd, git_clone_cmd"
   ]
  },
  {
   "cell_type": "code",
   "execution_count": 223,
   "id": "d4801052-be55-4260-a770-4d08934ad1bb",
   "metadata": {
    "nbgrader": {
     "grade": true,
     "grade_id": "cell-de9dc364dc955b35",
     "locked": true,
     "points": 5,
     "schema_version": 3,
     "solution": false,
     "task": false
    }
   },
   "outputs": [],
   "source": [
    "repo_dir = os.path.expanduser(\"~/somewhere-else\")\n",
    "\n",
    "# Clean up any previous test runs\n",
    "if os.path.exists(repo_dir):\n",
    "    shutil.rmtree(repo_dir)\n",
    "\n",
    "mkdir_cmd, cd_cmd, git_clone_cmd = git_clone_commands()\n",
    "result = run_git_commands([mkdir_cmd, cd_cmd, git_clone_cmd])\n",
    "\n",
    "expected_output = \"Cloning into 'git-workflow'...\\n\"\n",
    "assert(expected_output in result.stderr)"
   ]
  },
  {
   "cell_type": "code",
   "execution_count": 224,
   "id": "dc41d401-30a4-42ea-b615-168e46710f71",
   "metadata": {},
   "outputs": [],
   "source": [
    "def git_diff_commands():\n",
    "    \"\"\"\n",
    "    Fill in the command to cd into the original working copy and to run git diff after making changes to my_abs.py\n",
    "    \"\"\"\n",
    "    git_workflow_cd_cmd = \"cd ~/git-workflow\"\n",
    "    git_diff_cmd = \"git diff\"\n",
    "\n",
    "    return git_workflow_cd_cmd, git_diff_cmd"
   ]
  },
  {
   "cell_type": "code",
   "execution_count": 225,
   "id": "6d4e8cd6-3f3f-4b79-83a5-70840f10233f",
   "metadata": {
    "nbgrader": {
     "grade": true,
     "grade_id": "cell-44ec7bc0104a2d91",
     "locked": true,
     "points": 5,
     "schema_version": 3,
     "solution": false,
     "task": false
    }
   },
   "outputs": [],
   "source": [
    "expected_content = \"\"\"import math\n",
    "\n",
    "def my_abs(x):\n",
    "    try:\n",
    "        if x < 0:\n",
    "            return -x\n",
    "        else:\n",
    "            return x\n",
    "    except TypeError:\n",
    "        return math.nan\n",
    "\"\"\"\n",
    "file_path = os.path.expanduser(\"~/git-workflow/my_abs.py\")\n",
    "current_content = ''\n",
    "if os.path.exists(file_path):\n",
    "    with open(file_path, 'r') as file:\n",
    "        current_content = file.read()\n",
    "\n",
    "if current_content != expected_content:\n",
    "    with open(file_path, 'w') as file:\n",
    "        file.write(expected_content)\n",
    "\n",
    "cd_cmd, git_diff_cmd = git_diff_commands()\n",
    "result = run_git_commands([cd_cmd, git_diff_cmd])\n",
    "expected_results = [\n",
    "    \"diff --git a/my_abs.py b/my_abs.py\",\n",
    "    \"\"\"+import math\n",
    "+\n",
    " def my_abs(x):\n",
    "-    if x < 0:\n",
    "-        return -x\n",
    "-    else:\n",
    "-        return x\"\"\",\n",
    "    \"\"\"+    try:\n",
    "+        if x < 0:\n",
    "+            return -x\n",
    "+        else:\n",
    "+            return x\n",
    "+    except TypeError:\n",
    "+        return math.nan\"\"\"\n",
    "]\n",
    "\n",
    "assert(all(expected_result in result.stdout for expected_result in expected_results))"
   ]
  },
  {
   "cell_type": "code",
   "execution_count": 226,
   "id": "fe52478e-4811-4281-ad1c-640e6027ab85",
   "metadata": {},
   "outputs": [],
   "source": [
    "def git_commit_am_command():\n",
    "    \"\"\"\n",
    "    Fill in the git commit command with the -a flag and add the message.\n",
    "    Fill in the git push command\n",
    "    \"\"\"\n",
    "\n",
    "    git_commit_am = 'git commit -am \"Added try/except\"'\n",
    "    git_push_cmd = \"git push\"\n",
    "    \n",
    "    return git_commit_am, git_push_cmd"
   ]
  },
  {
   "cell_type": "code",
   "execution_count": 228,
   "id": "ed04e40e-40bf-4324-bb94-e7c8b8c25835",
   "metadata": {
    "nbgrader": {
     "grade": true,
     "grade_id": "cell-77bb6fe6ff0aa859",
     "locked": true,
     "points": 5,
     "schema_version": 3,
     "solution": false,
     "task": false
    }
   },
   "outputs": [],
   "source": [
    "import re\n",
    "\n",
    "git_commit_am, git_push_cmd = git_commit_am_command()\n",
    "\n",
    "result = run_git_commands([cd_cmd, git_commit_am, git_push_cmd])\n",
    "expected_outputs = [\n",
    "    r\"To github.com:.*/git-workflow.git\\n\\s+\\w{7}\\.\\.\\w{7}\\s+master\\s+->\\s+master\",\n",
    "    \"Your branch is up to date with 'origin/master'.\\n\\nnothing to commit, working tree clean\"\n",
    "]\n",
    "\n",
    "test_passed = any(re.search(expected_output, result.stdout + result.stderr) for expected_output in expected_outputs)\n",
    "\n",
    "assert test_passed, \"Test failed: None of the expected outputs were found.\""
   ]
  },
  {
   "cell_type": "code",
   "execution_count": null,
   "id": "296994fb-6440-4695-8c5b-bdc0aed0f92d",
   "metadata": {},
   "outputs": [],
   "source": []
  }
 ],
 "metadata": {
  "kernelspec": {
   "display_name": "Python 3 (ipykernel)",
   "language": "python",
   "name": "python3"
  },
  "language_info": {
   "codemirror_mode": {
    "name": "ipython",
    "version": 3
   },
   "file_extension": ".py",
   "mimetype": "text/x-python",
   "name": "python",
   "nbconvert_exporter": "python",
   "pygments_lexer": "ipython3",
   "version": "3.10.12"
  }
 },
 "nbformat": 4,
 "nbformat_minor": 5
}
