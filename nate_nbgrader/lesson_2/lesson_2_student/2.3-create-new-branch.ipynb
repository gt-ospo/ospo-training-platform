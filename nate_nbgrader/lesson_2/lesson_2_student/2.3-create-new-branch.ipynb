{
 "cells": [
  {
   "cell_type": "markdown",
   "id": "f7e470b1",
   "metadata": {},
   "source": [
    "Before you turn this problem in, make sure everything runs as expected. First, **restart the kernel** (in the menubar, select Kernel $\\rightarrow$ Restart) and then **run all cells** (in the menubar, select Cell $\\rightarrow$ Run All).\n",
    "\n",
    "Make sure you fill in any place that says `YOUR CODE HERE` or \"YOUR ANSWER HERE\", as well as your name and collaborators below:"
   ]
  },
  {
   "cell_type": "code",
   "execution_count": null,
   "id": "e1c7d8c2",
   "metadata": {},
   "outputs": [],
   "source": [
    "NAME = \"\"\n",
    "COLLABORATORS = \"\""
   ]
  },
  {
   "cell_type": "markdown",
   "id": "109a6b2f",
   "metadata": {},
   "source": [
    "---"
   ]
  },
  {
   "cell_type": "markdown",
   "id": "1de6ef4d-328c-4d2c-ac1a-77935db3f4f3",
   "metadata": {
    "deletable": false,
    "editable": false,
    "nbgrader": {
     "cell_type": "markdown",
     "checksum": "e6b512e3597c38e162a1be3689b3ac91",
     "grade": false,
     "grade_id": "cell-556d6a3f62c7e469",
     "locked": true,
     "schema_version": 3,
     "solution": false,
     "task": false
    }
   },
   "source": [
    "Create a new branch called \"types\""
   ]
  },
  {
   "cell_type": "code",
   "execution_count": 1,
   "id": "81a3519f-601b-4061-abfc-f2d068233060",
   "metadata": {
    "deletable": false,
    "editable": false,
    "nbgrader": {
     "cell_type": "code",
     "checksum": "f1e8d9a931d321d60fb81fd07e6604e0",
     "grade": false,
     "grade_id": "cell-6d7da5bb7319ce16",
     "locked": true,
     "schema_version": 3,
     "solution": false,
     "task": false
    }
   },
   "outputs": [],
   "source": [
    "import os\n",
    "from git_state_manager import load_git_state\n",
    "%load_ext git_magics\n",
    "os.chdir(\"oss-training-templates\")"
   ]
  },
  {
   "cell_type": "code",
   "execution_count": 2,
   "id": "a936f41f-8ad8-4a74-9c34-2b14852904fb",
   "metadata": {
    "deletable": false,
    "nbgrader": {
     "cell_type": "code",
     "checksum": "d34b6a9cc6ceb2c01e60c4b51c819d7e",
     "grade": false,
     "grade_id": "cell-ecef23ba45da8faf",
     "locked": false,
     "schema_version": 3,
     "solution": true,
     "task": false
    }
   },
   "outputs": [
    {
     "name": "stdout",
     "output_type": "stream",
     "text": [
      "$ git checkout -b types\n",
      "\n",
      "Switched to a new branch 'types'\n",
      "\n",
      "Saved git state for test_1.\n"
     ]
    }
   ],
   "source": [
    "%%save_git_state git_state_2_3.json test_1\n",
    "\n",
    "# YOUR CODE HERE\n",
    "git checkout -b types\n"
   ]
  },
  {
   "cell_type": "code",
   "execution_count": 3,
   "id": "2264e17e-9a97-4817-a051-9ea63a37a11d",
   "metadata": {
    "deletable": false,
    "editable": false,
    "nbgrader": {
     "cell_type": "code",
     "checksum": "14738ca4acc4c967e1a90850835462e2",
     "grade": true,
     "grade_id": "cell-f5e3b82ce32eae50",
     "locked": true,
     "points": 5,
     "schema_version": 3,
     "solution": false,
     "task": false
    }
   },
   "outputs": [],
   "source": [
    "git_state = load_git_state(\"git_state_2_3.json\", \"test_1\")\n",
    "\n",
    "expected_branch = \"types\"\n",
    "assert git_state[\"branch\"] == expected_branch, f\"Expected branch: '{expected_branch}', found: '{git_state['branch']}'\""
   ]
  },
  {
   "cell_type": "markdown",
   "id": "b6a59bb8-46b9-4c6a-a76c-1d10697a94de",
   "metadata": {
    "deletable": false,
    "editable": false,
    "nbgrader": {
     "cell_type": "markdown",
     "checksum": "8b523b5d5dda7f544e57d0fa347c7d1a",
     "grade": false,
     "grade_id": "cell-9d9b24ecddf678ee",
     "locked": true,
     "schema_version": 3,
     "solution": false,
     "task": false
    }
   },
   "source": [
    "Change my_abs.py to the contents in the cell below"
   ]
  },
  {
   "cell_type": "code",
   "execution_count": null,
   "id": "76927e7c-4662-43c2-ae1b-30ee82f4755f",
   "metadata": {
    "deletable": false,
    "editable": false,
    "nbgrader": {
     "cell_type": "code",
     "checksum": "3ef49b69ccc25b80afc8ac0226d6bfbc",
     "grade": false,
     "grade_id": "cell-d722b6370abf023d",
     "locked": true,
     "schema_version": 3,
     "solution": false,
     "task": false
    }
   },
   "outputs": [],
   "source": [
    "import math\n",
    "import numbers\n",
    "\n",
    "def my_abs(x):\n",
    "    if isinstance(x, numbers.Real):\n",
    "        if x < 0:\n",
    "            return -x\n",
    "        else:\n",
    "            return x\n",
    "    elif isinstance(x, numbers.Complex):\n",
    "        return math.sqrt(\n",
    "            x.real ** 2 + x.imag ** 2)\n",
    "    else:\n",
    "        return math.nan"
   ]
  },
  {
   "cell_type": "markdown",
   "id": "56d2886c-70f3-4fbd-88f3-8edcff981ec9",
   "metadata": {
    "deletable": false,
    "editable": false,
    "nbgrader": {
     "cell_type": "markdown",
     "checksum": "9ea8dfac2ab7db2f7253f25a83a848ad",
     "grade": false,
     "grade_id": "cell-f615e4fda271f723",
     "locked": true,
     "schema_version": 3,
     "solution": false,
     "task": false
    }
   },
   "source": [
    "Commit the changes to the \"types\" branch with the message: \"Using type checks\" and then checkout back to the main branch"
   ]
  },
  {
   "cell_type": "code",
   "execution_count": 4,
   "id": "5782206a-8893-4f0c-a2d8-71dc3dac6336",
   "metadata": {
    "deletable": false,
    "nbgrader": {
     "cell_type": "code",
     "checksum": "4558daa6ad61e2b6187a7681c546d66b",
     "grade": false,
     "grade_id": "cell-da337ea02d35b018",
     "locked": false,
     "schema_version": 3,
     "solution": true,
     "task": false
    }
   },
   "outputs": [
    {
     "name": "stdout",
     "output_type": "stream",
     "text": [
      "$ git commit -am \"Using type checks\"\n",
      "[types dffe0da] Using type checks\n",
      " Committer: Nathaniel E Kim <nkim337@horizons-research.cc.gatech.edu>\n",
      "Your name and email address were configured automatically based\n",
      "on your username and hostname. Please check that they are accurate.\n",
      "You can suppress this message by setting them explicitly. Run the\n",
      "following command and follow the instructions in your editor to edit\n",
      "your configuration file:\n",
      "\n",
      "    git config --global --edit\n",
      "\n",
      "After doing this, you may fix the identity used for this commit with:\n",
      "\n",
      "    git commit --amend --reset-author\n",
      "\n",
      " 1 file changed, 6 insertions(+), 2 deletions(-)\n",
      "\n",
      "$ git checkout main\n",
      "Your branch is up to date with 'origin/main'.\n",
      "\n",
      "Switched to branch 'main'\n",
      "\n",
      "Saved git state for test_2.\n"
     ]
    }
   ],
   "source": [
    "%%save_git_state git_state_2_3.json test_2\n",
    "\n",
    "# YOUR CODE HERE\n",
    "git commit -am \"Using type checks\"\n",
    "git checkout main"
   ]
  },
  {
   "cell_type": "code",
   "execution_count": 5,
   "id": "01615cbe-ae9f-4bd2-ae81-6b99a6e73366",
   "metadata": {
    "deletable": false,
    "editable": false,
    "nbgrader": {
     "cell_type": "code",
     "checksum": "ed731c45cf33b8890d64110e4924ec58",
     "grade": true,
     "grade_id": "cell-3a72b029249a53e7",
     "locked": true,
     "points": 5,
     "schema_version": 3,
     "solution": false,
     "task": false
    }
   },
   "outputs": [],
   "source": [
    "git_state = load_git_state(\"git_state_2_3.json\", \"test_2\")\n",
    "\n",
    "expected_branch = \"main\"\n",
    "assert git_state[\"branch\"] == expected_branch, f\"Expected branch: '{expected_branch}', found: '{git_state['branch']}'\""
   ]
  },
  {
   "cell_type": "code",
   "execution_count": null,
   "id": "7390d688-0e9e-4c8b-ab0e-073cf2768328",
   "metadata": {},
   "outputs": [],
   "source": []
  }
 ],
 "metadata": {
  "kernelspec": {
   "display_name": "Python 3 (ipykernel)",
   "language": "python",
   "name": "python3"
  },
  "language_info": {
   "codemirror_mode": {
    "name": "ipython",
    "version": 3
   },
   "file_extension": ".py",
   "mimetype": "text/x-python",
   "name": "python",
   "nbconvert_exporter": "python",
   "pygments_lexer": "ipython3",
   "version": "3.10.12"
  }
 },
 "nbformat": 4,
 "nbformat_minor": 5
}
