{
 "cells": [
  {
   "cell_type": "markdown",
   "id": "4aecb7f9",
   "metadata": {},
   "source": [
    "Before you turn this problem in, make sure everything runs as expected. First, **restart the kernel** (in the menubar, select Kernel $\\rightarrow$ Restart) and then **run all cells** (in the menubar, select Cell $\\rightarrow$ Run All).\n",
    "\n",
    "Make sure you fill in any place that says `YOUR CODE HERE` or \"YOUR ANSWER HERE\", as well as your name and collaborators below:"
   ]
  },
  {
   "cell_type": "code",
   "execution_count": null,
   "id": "a25eec35",
   "metadata": {},
   "outputs": [],
   "source": [
    "NAME = \"\"\n",
    "COLLABORATORS = \"\""
   ]
  },
  {
   "cell_type": "markdown",
   "id": "e7a65d26",
   "metadata": {},
   "source": [
    "---"
   ]
  },
  {
   "cell_type": "markdown",
   "id": "1de6ef4d-328c-4d2c-ac1a-77935db3f4f3",
   "metadata": {
    "deletable": false,
    "editable": false,
    "nbgrader": {
     "cell_type": "markdown",
     "checksum": "e6b512e3597c38e162a1be3689b3ac91",
     "grade": false,
     "grade_id": "cell-556d6a3f62c7e469",
     "locked": true,
     "schema_version": 3,
     "solution": false,
     "task": false
    }
   },
   "source": [
    "Create a new branch called \"types\""
   ]
  },
  {
   "cell_type": "code",
   "execution_count": null,
   "id": "81a3519f-601b-4061-abfc-f2d068233060",
   "metadata": {
    "deletable": false,
    "editable": false,
    "nbgrader": {
     "cell_type": "code",
     "checksum": "2b5d04986dec1166d9d2710af9f6ff2e",
     "grade": false,
     "grade_id": "cell-6d7da5bb7319ce16",
     "locked": true,
     "schema_version": 3,
     "solution": false,
     "task": false
    }
   },
   "outputs": [],
   "source": [
    "import os\n",
    "os.chdir(\"oss-training-templates\")"
   ]
  },
  {
   "cell_type": "code",
   "execution_count": null,
   "id": "147e34b8-5db1-4d77-8f5e-ae7e36d03be7",
   "metadata": {
    "deletable": false,
    "nbgrader": {
     "cell_type": "code",
     "checksum": "d5a21c77e780bf305c8db52ea92ae4d7",
     "grade": false,
     "grade_id": "cell-9d3de495f1acd9db",
     "locked": false,
     "schema_version": 3,
     "solution": true,
     "task": false
    }
   },
   "outputs": [],
   "source": [
    "def create_new_branch():\n",
    "    # YOUR CODE HERE\n",
    "    raise NotImplementedError()\n",
    "    \n",
    "    return command\n",
    "\n",
    "create_new_branch()"
   ]
  },
  {
   "cell_type": "code",
   "execution_count": null,
   "id": "916654b1-a37f-4aa8-b1cc-52299520f459",
   "metadata": {
    "deletable": false,
    "editable": false,
    "nbgrader": {
     "cell_type": "code",
     "checksum": "cf00f15b80378e71aa0919e08c66f8cd",
     "grade": true,
     "grade_id": "cell-ed805ca38d12c788",
     "locked": true,
     "points": 5,
     "schema_version": 3,
     "solution": false,
     "task": false
    }
   },
   "outputs": [],
   "source": [
    "output = !git status\n",
    "assert(\"On branch types\" in output[0])"
   ]
  },
  {
   "cell_type": "markdown",
   "id": "b6a59bb8-46b9-4c6a-a76c-1d10697a94de",
   "metadata": {
    "deletable": false,
    "editable": false,
    "nbgrader": {
     "cell_type": "markdown",
     "checksum": "8b523b5d5dda7f544e57d0fa347c7d1a",
     "grade": false,
     "grade_id": "cell-9d9b24ecddf678ee",
     "locked": true,
     "schema_version": 3,
     "solution": false,
     "task": false
    }
   },
   "source": [
    "Change my_abs.py to the contents in the cell below"
   ]
  },
  {
   "cell_type": "markdown",
   "id": "526d2790-b486-4401-b0aa-f8d94c02cde7",
   "metadata": {
    "deletable": false,
    "editable": false,
    "nbgrader": {
     "cell_type": "markdown",
     "checksum": "e06dac47fccb722216ced6297703e294",
     "grade": false,
     "grade_id": "cell-0ced4bd582a9bb49",
     "locked": true,
     "schema_version": 3,
     "solution": false,
     "task": false
    }
   },
   "source": [
    "import math\n",
    "import numbers\n",
    "\n",
    "def my_abs(x):\n",
    "    if isinstance(x, numbers.Real):\n",
    "        if x < 0:\n",
    "            return -x\n",
    "        else:\n",
    "            return x\n",
    "    elif isinstance(x, numbers.Complex):\n",
    "        return math.sqrt(\n",
    "            x.real ** 2 + x.imag ** 2)\n",
    "    else:\n",
    "        return math.nan"
   ]
  },
  {
   "cell_type": "markdown",
   "id": "56d2886c-70f3-4fbd-88f3-8edcff981ec9",
   "metadata": {
    "deletable": false,
    "editable": false,
    "nbgrader": {
     "cell_type": "markdown",
     "checksum": "9ea8dfac2ab7db2f7253f25a83a848ad",
     "grade": false,
     "grade_id": "cell-f615e4fda271f723",
     "locked": true,
     "schema_version": 3,
     "solution": false,
     "task": false
    }
   },
   "source": [
    "Commit the changes to the \"types\" branch with the message: \"Using type checks\" and then checkout back to the main branch"
   ]
  },
  {
   "cell_type": "code",
   "execution_count": null,
   "id": "01858987-a13b-4a77-b1cf-f19a63de1ebe",
   "metadata": {
    "deletable": false,
    "nbgrader": {
     "cell_type": "code",
     "checksum": "b13a7818cb2e423699db54f9d3937a22",
     "grade": false,
     "grade_id": "cell-889d181cecadc25a",
     "locked": false,
     "schema_version": 3,
     "solution": true,
     "task": false
    }
   },
   "outputs": [],
   "source": [
    "def commit_and_checkout():\n",
    "    # YOUR CODE HERE\n",
    "    raise NotImplementedError()\n",
    "\n",
    "    return (commit_command, checkout_command)\n",
    "\n",
    "commit_and_checkout()"
   ]
  },
  {
   "cell_type": "code",
   "execution_count": null,
   "id": "01615cbe-ae9f-4bd2-ae81-6b99a6e73366",
   "metadata": {
    "deletable": false,
    "editable": false,
    "nbgrader": {
     "cell_type": "code",
     "checksum": "68bb6f4149ee2e02c4fc53e031446d55",
     "grade": true,
     "grade_id": "cell-3a72b029249a53e7",
     "locked": true,
     "points": 5,
     "schema_version": 3,
     "solution": false,
     "task": false
    }
   },
   "outputs": [],
   "source": [
    "output = !git status\n",
    "assert(\"On branch main\" in output[0])"
   ]
  }
 ],
 "metadata": {
  "kernelspec": {
   "display_name": "Python 3 (ipykernel)",
   "language": "python",
   "name": "python3"
  },
  "language_info": {
   "codemirror_mode": {
    "name": "ipython",
    "version": 3
   },
   "file_extension": ".py",
   "mimetype": "text/x-python",
   "name": "python",
   "nbconvert_exporter": "python",
   "pygments_lexer": "ipython3",
   "version": "3.10.12"
  }
 },
 "nbformat": 4,
 "nbformat_minor": 5
}
