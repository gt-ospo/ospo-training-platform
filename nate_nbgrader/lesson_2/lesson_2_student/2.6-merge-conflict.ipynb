{
 "cells": [
  {
   "cell_type": "markdown",
   "id": "06ffe9bf",
   "metadata": {},
   "source": [
    "Before you turn this problem in, make sure everything runs as expected. First, **restart the kernel** (in the menubar, select Kernel $\\rightarrow$ Restart) and then **run all cells** (in the menubar, select Cell $\\rightarrow$ Run All).\n",
    "\n",
    "Make sure you fill in any place that says `YOUR CODE HERE` or \"YOUR ANSWER HERE\", as well as your name and collaborators below:"
   ]
  },
  {
   "cell_type": "code",
   "execution_count": null,
   "id": "98bd0453",
   "metadata": {},
   "outputs": [],
   "source": [
    "NAME = \"\"\n",
    "COLLABORATORS = \"\""
   ]
  },
  {
   "cell_type": "markdown",
   "id": "cc95c8c9",
   "metadata": {},
   "source": [
    "---"
   ]
  },
  {
   "cell_type": "markdown",
   "id": "c2057f72-9184-4e04-ae4e-a0a272d69e98",
   "metadata": {
    "deletable": false,
    "editable": false,
    "nbgrader": {
     "cell_type": "markdown",
     "checksum": "3ff328d08f1f2364fcf2ab69d608bd0b",
     "grade": false,
     "grade_id": "cell-464d6a0a3332fc09",
     "locked": true,
     "schema_version": 3,
     "solution": false,
     "task": false
    }
   },
   "source": [
    "Attempt to perform a merge commit from the \"main\" branch, merging the changes from the \"almost-eq\" branch into \"main\"\n",
    "\n",
    "NOTE: You can include a \"--no-edit\" flag in your command to prevent a text editor from popping up"
   ]
  },
  {
   "cell_type": "code",
   "execution_count": 1,
   "id": "469331ca-72d1-411e-89d6-ee5e8cbfce93",
   "metadata": {
    "deletable": false,
    "editable": false,
    "nbgrader": {
     "cell_type": "code",
     "checksum": "61954de0cc4077b41a5b1e338ddfd12b",
     "grade": false,
     "grade_id": "cell-47f31ca958044e4b",
     "locked": true,
     "schema_version": 3,
     "solution": false,
     "task": false
    }
   },
   "outputs": [],
   "source": [
    "import os\n",
    "from git_state_manager import save_git_state, load_git_state\n",
    "os.chdir(\"oss-training-templates\")"
   ]
  },
  {
   "cell_type": "code",
   "execution_count": 2,
   "id": "c78c5ef1-1631-4288-b216-256cc8dbbfe1",
   "metadata": {
    "deletable": false,
    "nbgrader": {
     "cell_type": "code",
     "checksum": "abbb302d65af27f6366400cd90a72042",
     "grade": false,
     "grade_id": "cell-4f4082907655bc68",
     "locked": false,
     "schema_version": 3,
     "solution": true,
     "task": false
    }
   },
   "outputs": [
    {
     "data": {
      "text/plain": [
       "['Auto-merging my_abs.py',\n",
       " 'CONFLICT (content): Merge conflict in my_abs.py',\n",
       " 'Automatic merge failed; fix conflicts and then commit the result.']"
      ]
     },
     "execution_count": 2,
     "metadata": {},
     "output_type": "execute_result"
    }
   ],
   "source": [
    "def perform_merge():\n",
    "    # YOUR CODE HERE\n",
    "    command = !git merge --no-edit almost-eq\n",
    "    \n",
    "    return command\n",
    "\n",
    "perform_merge()"
   ]
  },
  {
   "cell_type": "markdown",
   "id": "377cc5a5-e9b2-4504-93da-c7dbf40b457d",
   "metadata": {
    "deletable": false,
    "editable": false,
    "nbgrader": {
     "cell_type": "markdown",
     "checksum": "a529ef8028c0c22cd162087be7d3a775",
     "grade": false,
     "grade_id": "cell-44aac6d96d7e7353",
     "locked": true,
     "schema_version": 3,
     "solution": false,
     "task": false
    }
   },
   "source": [
    "You may receive a merge conflict message. This means changes from the \"types\" branch and \"almost-eq\" branches have conflicting/overlapping changes that you need to manually address.\n",
    "\n",
    "Go to my_abs.py and fix the changes:\n",
    "\n",
    "- Everything below \"<<<<<<< HEAD\" up until \"=======\" is what currently exists in the branch you're on (main)\n",
    "- \"=======\" separates the conflicting changes between HEAD (main) and almost-eq.\n",
    "- Everything above \">>>>>>> almost-eq\" is from the almost-eq branch. This is the code from almost-eq that Git is trying to merge into main.\n",
    "- Remove the \"except\" block, then remove these three lines to resolve this merge conflict."
   ]
  },
  {
   "cell_type": "markdown",
   "id": "745a423d-6cd6-4ef5-b06c-b846c6e7618a",
   "metadata": {
    "deletable": false,
    "editable": false,
    "nbgrader": {
     "cell_type": "markdown",
     "checksum": "4e04e99fff3bf7fdb4a448cb1e2785df",
     "grade": false,
     "grade_id": "cell-56ca85062394807b",
     "locked": true,
     "schema_version": 3,
     "solution": false,
     "task": false
    }
   },
   "source": [
    "Once the conflicts resolved, add your changes, then commit them with the message: \"Resolved merge conflict in my_abs.py\""
   ]
  },
  {
   "cell_type": "code",
   "execution_count": 3,
   "id": "9e7db3f7-d66d-4cae-9fee-9d2773080626",
   "metadata": {
    "deletable": false,
    "nbgrader": {
     "cell_type": "code",
     "checksum": "5ce08474e4e889f7a26cbdc4104e0d59",
     "grade": false,
     "grade_id": "cell-594dd94b8657d832",
     "locked": false,
     "schema_version": 3,
     "solution": true,
     "task": false
    }
   },
   "outputs": [
    {
     "name": "stdout",
     "output_type": "stream",
     "text": [
      "['[main f7eb81e] Resolved merge conflict in my_abs.py', ' Committer: Nathaniel E Kim <nkim337@horizons-research.cc.gatech.edu>', 'Your name and email address were configured automatically based', 'on your username and hostname. Please check that they are accurate.', 'You can suppress this message by setting them explicitly. Run the', 'following command and follow the instructions in your editor to edit', 'your configuration file:', '', '    git config --global --edit', '', 'After doing this, you may fix the identity used for this commit with:', '', '    git commit --amend --reset-author', '']\n",
      "---------------------------------------------------------------------\n",
      "Saved git state for test_1.\n"
     ]
    }
   ],
   "source": [
    "def add_commit_changes():\n",
    "    # YOUR CODE HERE\n",
    "    command = !git commit -am \"Resolved merge conflict in my_abs.py\"\n",
    "    \n",
    "    return command\n",
    "\n",
    "print(add_commit_changes())\n",
    "print(\"---------------------------------------------------------------------\\n\" + save_git_state(\"git_state_2_6.json\", \"test_1\"))"
   ]
  },
  {
   "cell_type": "code",
   "execution_count": 4,
   "id": "bd337384-cb83-49ae-92ae-3a8d560a52bd",
   "metadata": {
    "deletable": false,
    "editable": false,
    "nbgrader": {
     "cell_type": "code",
     "checksum": "10c93ed6bc028cc00f1ce7484248dc26",
     "grade": true,
     "grade_id": "cell-7d94860c9d1c46e4",
     "locked": true,
     "points": 0,
     "schema_version": 3,
     "solution": false,
     "task": false
    }
   },
   "outputs": [],
   "source": [
    "git_state = load_git_state(\"git_state_2_6.json\", \"test_1\")\n",
    "last_commit_message = git_state[\"last_5_commits\"].split(\"\\n\")[0].split(\" \", 1)[1]\n",
    "expected_message = \"Resolved merge conflict in my_abs.py\"\n",
    "\n",
    "assert last_commit_message == expected_message, f\"Expected last commit message '{expected_message}', found '{last_commit_message}'\""
   ]
  },
  {
   "cell_type": "code",
   "execution_count": null,
   "id": "e15a86e6-38a8-4368-887c-337777bbb9ba",
   "metadata": {
    "deletable": false,
    "editable": false,
    "nbgrader": {
     "cell_type": "code",
     "checksum": "abf79dd943ea50f53293291e98e4117c",
     "grade": true,
     "grade_id": "cell-802fc5a9bb55351e",
     "locked": true,
     "points": 5,
     "schema_version": 3,
     "solution": false,
     "task": false
    }
   },
   "outputs": [],
   "source": []
  }
 ],
 "metadata": {
  "kernelspec": {
   "display_name": "Python 3 (ipykernel)",
   "language": "python",
   "name": "python3"
  },
  "language_info": {
   "codemirror_mode": {
    "name": "ipython",
    "version": 3
   },
   "file_extension": ".py",
   "mimetype": "text/x-python",
   "name": "python",
   "nbconvert_exporter": "python",
   "pygments_lexer": "ipython3",
   "version": "3.10.12"
  }
 },
 "nbformat": 4,
 "nbformat_minor": 5
}
