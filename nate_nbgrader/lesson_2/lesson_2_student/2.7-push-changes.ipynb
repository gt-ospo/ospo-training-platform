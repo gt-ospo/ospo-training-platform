{
 "cells": [
  {
   "cell_type": "markdown",
   "id": "fda948db",
   "metadata": {},
   "source": [
    "Before you turn this problem in, make sure everything runs as expected. First, **restart the kernel** (in the menubar, select Kernel $\\rightarrow$ Restart) and then **run all cells** (in the menubar, select Cell $\\rightarrow$ Run All).\n",
    "\n",
    "Make sure you fill in any place that says `YOUR CODE HERE` or \"YOUR ANSWER HERE\", as well as your name and collaborators below:"
   ]
  },
  {
   "cell_type": "code",
   "execution_count": null,
   "id": "baead5ed",
   "metadata": {},
   "outputs": [],
   "source": [
    "NAME = \"\"\n",
    "COLLABORATORS = \"\""
   ]
  },
  {
   "cell_type": "markdown",
   "id": "6d549afb",
   "metadata": {},
   "source": [
    "---"
   ]
  },
  {
   "cell_type": "markdown",
   "id": "3ba3e28f-d956-4c05-b6e0-b118adddfc81",
   "metadata": {
    "deletable": false,
    "editable": false,
    "nbgrader": {
     "cell_type": "markdown",
     "checksum": "da9287f18e819289340c98ca54b5ab96",
     "grade": false,
     "grade_id": "cell-f532bca59e489ef2",
     "locked": true,
     "schema_version": 3,
     "solution": false,
     "task": false
    }
   },
   "source": [
    "Push your changes to your repo"
   ]
  },
  {
   "cell_type": "code",
   "execution_count": null,
   "id": "0426d9a9-fccd-4a3f-a664-fc19daa249b2",
   "metadata": {
    "deletable": false,
    "editable": false,
    "nbgrader": {
     "cell_type": "code",
     "checksum": "b1ecba1447912c15a01db8b9c1a00762",
     "grade": false,
     "grade_id": "cell-a4af0d9de90c5fb1",
     "locked": true,
     "schema_version": 3,
     "solution": false,
     "task": false
    }
   },
   "outputs": [],
   "source": [
    "import os\n",
    "from git_state_manager import load_git_state\n",
    "%load_ext git_magics\n",
    "os.chdir(\"oss-training-templates\")"
   ]
  },
  {
   "cell_type": "code",
   "execution_count": null,
   "id": "c4391f39-3abc-43b0-805a-d46c2f8b8ef7",
   "metadata": {
    "deletable": false,
    "editable": false,
    "nbgrader": {
     "cell_type": "code",
     "checksum": "94c81d544a898ddddaee936194b3cca1",
     "grade": false,
     "grade_id": "cell-0ab94d2cbf28b130",
     "locked": true,
     "schema_version": 3,
     "solution": false,
     "task": false
    }
   },
   "outputs": [],
   "source": [
    "from git_state_manager import restore_git_checkpoint\n",
    "print(restore_git_checkpoint(\"lesson_2_6\"))"
   ]
  },
  {
   "cell_type": "code",
   "execution_count": null,
   "id": "87993d08-b3d5-4b7a-901f-4dbf48ec1072",
   "metadata": {
    "deletable": false,
    "nbgrader": {
     "cell_type": "code",
     "checksum": "6f9f03e44a1f7dba657b034c3f577aec",
     "grade": false,
     "grade_id": "cell-c2af87c2d169c764",
     "locked": false,
     "schema_version": 3,
     "solution": true,
     "task": false
    }
   },
   "outputs": [],
   "source": [
    "%%save_git_state git_state_2_7.json test_1\n",
    "\n",
    "# YOUR CODE HERE\n",
    "raise NotImplementedError()"
   ]
  },
  {
   "cell_type": "code",
   "execution_count": null,
   "id": "2b2d8fc5-e756-4d5d-83bb-b9acf5105f05",
   "metadata": {
    "deletable": false,
    "editable": false,
    "nbgrader": {
     "cell_type": "code",
     "checksum": "f113ebe1a9828770530e65844e7ee7fe",
     "grade": true,
     "grade_id": "cell-20ca29bf152f6737",
     "locked": true,
     "points": 4,
     "schema_version": 3,
     "solution": false,
     "task": false
    }
   },
   "outputs": [],
   "source": [
    "git_state = load_git_state(\"git_state_2_7.json\", \"test_1\")\n",
    "\n",
    "assert \"remote_commit\" in git_state, \"Remote commit info was not saved. Ensure `save_git_state()` includes remote data.\"\n",
    "local_commit = git_state[\"commit\"][:7]\n",
    "remote_commit = git_state[\"remote_commit\"]\n",
    "\n",
    "assert local_commit == remote_commit, f\"Push failed: local commit '{local_commit}' does not match remote commit '{remote_commit}'\""
   ]
  },
  {
   "cell_type": "code",
   "execution_count": null,
   "id": "f088bfa2-a6e1-4d11-8ce4-bdc9f51aea19",
   "metadata": {},
   "outputs": [],
   "source": []
  }
 ],
 "metadata": {
  "kernelspec": {
   "display_name": "Python 3 (ipykernel)",
   "language": "python",
   "name": "python3"
  },
  "language_info": {
   "codemirror_mode": {
    "name": "ipython",
    "version": 3
   },
   "file_extension": ".py",
   "mimetype": "text/x-python",
   "name": "python",
   "nbconvert_exporter": "python",
   "pygments_lexer": "ipython3",
   "version": "3.10.12"
  }
 },
 "nbformat": 4,
 "nbformat_minor": 5
}
