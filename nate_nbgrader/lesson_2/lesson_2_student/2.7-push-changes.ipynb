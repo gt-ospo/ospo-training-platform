{
 "cells": [
  {
   "cell_type": "markdown",
   "id": "d911c4f8",
   "metadata": {},
   "source": [
    "Before you turn this problem in, make sure everything runs as expected. First, **restart the kernel** (in the menubar, select Kernel $\\rightarrow$ Restart) and then **run all cells** (in the menubar, select Cell $\\rightarrow$ Run All).\n",
    "\n",
    "Make sure you fill in any place that says `YOUR CODE HERE` or \"YOUR ANSWER HERE\", as well as your name and collaborators below:"
   ]
  },
  {
   "cell_type": "code",
   "execution_count": null,
   "id": "0ed88471",
   "metadata": {},
   "outputs": [],
   "source": [
    "NAME = \"\"\n",
    "COLLABORATORS = \"\""
   ]
  },
  {
   "cell_type": "markdown",
   "id": "284cd423",
   "metadata": {},
   "source": [
    "---"
   ]
  },
  {
   "cell_type": "markdown",
   "id": "3ba3e28f-d956-4c05-b6e0-b118adddfc81",
   "metadata": {
    "deletable": false,
    "editable": false,
    "nbgrader": {
     "checksum": "da9287f18e819289340c98ca54b5ab96",
     "grade": false,
     "grade_id": "cell-f532bca59e489ef2",
     "locked": true,
     "schema_version": 3,
     "solution": false,
     "task": false
    }
   },
   "source": [
    "Push your changes to your repo"
   ]
  },
  {
   "cell_type": "code",
   "execution_count": 1,
   "id": "0426d9a9-fccd-4a3f-a664-fc19daa249b2",
   "metadata": {
    "deletable": false,
    "editable": false,
    "nbgrader": {
     "checksum": "cffe94ced50639d7d48a4ed43ae72b2b",
     "grade": false,
     "grade_id": "cell-a4af0d9de90c5fb1",
     "locked": true,
     "schema_version": 3,
     "solution": false,
     "task": false
    }
   },
   "outputs": [],
   "source": [
    "import os\n",
    "from git_state_manager import save_git_state, load_git_state\n",
    "os.chdir(\"oss-training-templates\")"
   ]
  },
  {
   "cell_type": "code",
   "execution_count": 2,
   "id": "429978db-0cf1-4783-ab55-478e73ccac3f",
   "metadata": {
    "deletable": false,
    "nbgrader": {
     "checksum": "da0d8652783664097df918251dd324c1",
     "grade": false,
     "grade_id": "cell-10ec06048db44e1d",
     "locked": false,
     "schema_version": 3,
     "solution": true,
     "task": false
    }
   },
   "outputs": [
    {
     "name": "stdout",
     "output_type": "stream",
     "text": [
      "['To github.com:natekim27/oss-training-templates.git', '   b431e75..f7eb81e  main -> main']\n",
      "---------------------------------------------------------------------\n",
      "Saved git state for test_1.\n"
     ]
    }
   ],
   "source": [
    "def perform_push():\n",
    "    # YOUR CODE HERE\n",
    "    command = !git push\n",
    "    \n",
    "    return command\n",
    "\n",
    "print(perform_push())\n",
    "print(\"---------------------------------------------------------------------\\n\" + save_git_state(\"git_state_2_7.json\", \"test_1\"))"
   ]
  },
  {
   "cell_type": "code",
   "execution_count": 3,
   "id": "2b2d8fc5-e756-4d5d-83bb-b9acf5105f05",
   "metadata": {
    "deletable": false,
    "editable": false,
    "nbgrader": {
     "checksum": "055467b162883d41d93c954932273286",
     "grade": true,
     "grade_id": "cell-20ca29bf152f6737",
     "locked": true,
     "points": 0,
     "schema_version": 3,
     "solution": false,
     "task": false
    }
   },
   "outputs": [],
   "source": [
    "git_state = load_git_state(\"git_state_2_7.json\", \"test_1\")\n",
    "\n",
    "assert \"remote_commit\" in git_state, \"Remote commit info was not saved. Ensure `save_git_state()` includes remote data.\"\n",
    "local_commit = git_state[\"commit\"][:7]\n",
    "remote_commit = git_state[\"remote_commit\"]\n",
    "\n",
    "assert local_commit == remote_commit, f\"Push failed: local commit '{local_commit}' does not match remote commit '{remote_commit}'\""
   ]
  },
  {
   "cell_type": "code",
   "execution_count": null,
   "id": "f088bfa2-a6e1-4d11-8ce4-bdc9f51aea19",
   "metadata": {},
   "outputs": [],
   "source": []
  }
 ],
 "metadata": {
  "kernelspec": {
   "display_name": "Python 3 (ipykernel)",
   "language": "python",
   "name": "python3"
  },
  "language_info": {
   "codemirror_mode": {
    "name": "ipython",
    "version": 3
   },
   "file_extension": ".py",
   "mimetype": "text/x-python",
   "name": "python",
   "nbconvert_exporter": "python",
   "pygments_lexer": "ipython3",
   "version": "3.10.12"
  }
 },
 "nbformat": 4,
 "nbformat_minor": 5
}
