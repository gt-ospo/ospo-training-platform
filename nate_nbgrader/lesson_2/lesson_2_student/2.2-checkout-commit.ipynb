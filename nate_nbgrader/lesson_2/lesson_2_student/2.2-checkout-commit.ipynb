{
 "cells": [
  {
   "cell_type": "markdown",
   "id": "49aea455",
   "metadata": {},
   "source": [
    "Before you turn this problem in, make sure everything runs as expected. First, **restart the kernel** (in the menubar, select Kernel $\\rightarrow$ Restart) and then **run all cells** (in the menubar, select Cell $\\rightarrow$ Run All).\n",
    "\n",
    "Make sure you fill in any place that says `YOUR CODE HERE` or \"YOUR ANSWER HERE\", as well as your name and collaborators below:"
   ]
  },
  {
   "cell_type": "code",
   "execution_count": null,
   "id": "3ea14d82",
   "metadata": {},
   "outputs": [],
   "source": [
    "NAME = \"\"\n",
    "COLLABORATORS = \"\""
   ]
  },
  {
   "cell_type": "markdown",
   "id": "b5c10f14",
   "metadata": {},
   "source": [
    "---"
   ]
  },
  {
   "cell_type": "markdown",
   "id": "d5b6b6f9-610c-443e-af5f-2023911b499e",
   "metadata": {
    "deletable": false,
    "editable": false,
    "nbgrader": {
     "cell_type": "markdown",
     "checksum": "428102e3ad409e51e359f6381da5624d",
     "grade": false,
     "grade_id": "cell-7cb9f58b392b7788",
     "locked": true,
     "schema_version": 3,
     "solution": false,
     "task": false
    }
   },
   "source": [
    "Checkout commit that goes back to Lesson 2 start point"
   ]
  },
  {
   "cell_type": "code",
   "execution_count": 1,
   "id": "dc04f455-4149-4d21-ae98-992bc861720a",
   "metadata": {
    "deletable": false,
    "editable": false,
    "nbgrader": {
     "cell_type": "code",
     "checksum": "e0a5b3569534f85668384b14d7ad0cfd",
     "grade": false,
     "grade_id": "cell-e473d96e83663a80",
     "locked": true,
     "schema_version": 3,
     "solution": false,
     "task": false
    }
   },
   "outputs": [
    {
     "name": "stdout",
     "output_type": "stream",
     "text": [
      "Restoring Git checkpoint for lesson_2_1...\n"
     ]
    },
    {
     "name": "stderr",
     "output_type": "stream",
     "text": [
      "fatal: not a git repository (or any of the parent directories): .git\n"
     ]
    },
    {
     "ename": "CalledProcessError",
     "evalue": "Command '['git', 'branch', 'main']' returned non-zero exit status 128.",
     "output_type": "error",
     "traceback": [
      "\u001b[0;31m---------------------------------------------------------------------------\u001b[0m",
      "\u001b[0;31mCalledProcessError\u001b[0m                        Traceback (most recent call last)",
      "Cell \u001b[0;32mIn[1], line 2\u001b[0m\n\u001b[1;32m      1\u001b[0m \u001b[38;5;28;01mfrom\u001b[39;00m \u001b[38;5;21;01mgit_state_manager\u001b[39;00m \u001b[38;5;28;01mimport\u001b[39;00m restore_git_checkpoint\n\u001b[0;32m----> 2\u001b[0m \u001b[38;5;28mprint\u001b[39m(\u001b[43mrestore_git_checkpoint\u001b[49m\u001b[43m(\u001b[49m\u001b[38;5;124;43m\"\u001b[39;49m\u001b[38;5;124;43mlesson_2_1\u001b[39;49m\u001b[38;5;124;43m\"\u001b[39;49m\u001b[43m)\u001b[49m)\n",
      "File \u001b[0;32m~/Lesson_2/git_state_manager.py:128\u001b[0m, in \u001b[0;36mrestore_git_checkpoint\u001b[0;34m(sublesson_name)\u001b[0m\n\u001b[1;32m    126\u001b[0m \u001b[38;5;28;01mfor\u001b[39;00m branch \u001b[38;5;129;01min\u001b[39;00m checkpoint[\u001b[38;5;124m\"\u001b[39m\u001b[38;5;124mbranches\u001b[39m\u001b[38;5;124m\"\u001b[39m]:\n\u001b[1;32m    127\u001b[0m     \u001b[38;5;28;01mif\u001b[39;00m branch \u001b[38;5;129;01mnot\u001b[39;00m \u001b[38;5;129;01min\u001b[39;00m existing_branches:\n\u001b[0;32m--> 128\u001b[0m         \u001b[43msubprocess\u001b[49m\u001b[38;5;241;43m.\u001b[39;49m\u001b[43mrun\u001b[49m\u001b[43m(\u001b[49m\u001b[43m[\u001b[49m\u001b[38;5;124;43m\"\u001b[39;49m\u001b[38;5;124;43mgit\u001b[39;49m\u001b[38;5;124;43m\"\u001b[39;49m\u001b[43m,\u001b[49m\u001b[43m \u001b[49m\u001b[38;5;124;43m\"\u001b[39;49m\u001b[38;5;124;43mbranch\u001b[39;49m\u001b[38;5;124;43m\"\u001b[39;49m\u001b[43m,\u001b[49m\u001b[43m \u001b[49m\u001b[43mbranch\u001b[49m\u001b[43m]\u001b[49m\u001b[43m,\u001b[49m\u001b[43m \u001b[49m\u001b[43mcheck\u001b[49m\u001b[38;5;241;43m=\u001b[39;49m\u001b[38;5;28;43;01mTrue\u001b[39;49;00m\u001b[43m)\u001b[49m\n\u001b[1;32m    130\u001b[0m subprocess\u001b[38;5;241m.\u001b[39mrun([\u001b[38;5;124m\"\u001b[39m\u001b[38;5;124mgit\u001b[39m\u001b[38;5;124m\"\u001b[39m, \u001b[38;5;124m\"\u001b[39m\u001b[38;5;124mcheckout\u001b[39m\u001b[38;5;124m\"\u001b[39m, checkpoint[\u001b[38;5;124m\"\u001b[39m\u001b[38;5;124mcurrent_branch\u001b[39m\u001b[38;5;124m\"\u001b[39m]], check\u001b[38;5;241m=\u001b[39m\u001b[38;5;28;01mTrue\u001b[39;00m)\n\u001b[1;32m    132\u001b[0m subprocess\u001b[38;5;241m.\u001b[39mrun([\u001b[38;5;124m\"\u001b[39m\u001b[38;5;124mgit\u001b[39m\u001b[38;5;124m\"\u001b[39m, \u001b[38;5;124m\"\u001b[39m\u001b[38;5;124mreset\u001b[39m\u001b[38;5;124m\"\u001b[39m, \u001b[38;5;124m\"\u001b[39m\u001b[38;5;124m--hard\u001b[39m\u001b[38;5;124m\"\u001b[39m, checkpoint[\u001b[38;5;124m\"\u001b[39m\u001b[38;5;124mcommit\u001b[39m\u001b[38;5;124m\"\u001b[39m]], check\u001b[38;5;241m=\u001b[39m\u001b[38;5;28;01mTrue\u001b[39;00m)\n",
      "File \u001b[0;32m/usr/lib/python3.10/subprocess.py:526\u001b[0m, in \u001b[0;36mrun\u001b[0;34m(input, capture_output, timeout, check, *popenargs, **kwargs)\u001b[0m\n\u001b[1;32m    524\u001b[0m     retcode \u001b[38;5;241m=\u001b[39m process\u001b[38;5;241m.\u001b[39mpoll()\n\u001b[1;32m    525\u001b[0m     \u001b[38;5;28;01mif\u001b[39;00m check \u001b[38;5;129;01mand\u001b[39;00m retcode:\n\u001b[0;32m--> 526\u001b[0m         \u001b[38;5;28;01mraise\u001b[39;00m CalledProcessError(retcode, process\u001b[38;5;241m.\u001b[39margs,\n\u001b[1;32m    527\u001b[0m                                  output\u001b[38;5;241m=\u001b[39mstdout, stderr\u001b[38;5;241m=\u001b[39mstderr)\n\u001b[1;32m    528\u001b[0m \u001b[38;5;28;01mreturn\u001b[39;00m CompletedProcess(process\u001b[38;5;241m.\u001b[39margs, retcode, stdout, stderr)\n",
      "\u001b[0;31mCalledProcessError\u001b[0m: Command '['git', 'branch', 'main']' returned non-zero exit status 128."
     ]
    }
   ],
   "source": [
    "from git_state_manager import restore_git_checkpoint\n",
    "print(restore_git_checkpoint(\"lesson_2_1\"))"
   ]
  },
  {
   "cell_type": "code",
   "execution_count": 2,
   "id": "8a7f093e-e613-4421-9059-a48f0f871cae",
   "metadata": {
    "deletable": false,
    "editable": false,
    "nbgrader": {
     "cell_type": "code",
     "checksum": "30536f6209d16f92fd7f8f5da966d496",
     "grade": false,
     "grade_id": "cell-23143b9db12025ff",
     "locked": true,
     "schema_version": 3,
     "solution": false,
     "task": false
    }
   },
   "outputs": [],
   "source": [
    "import os\n",
    "from git_state_manager import load_git_state\n",
    "%load_ext git_magics\n",
    "os.chdir(\"oss-training-templates\")"
   ]
  },
  {
   "cell_type": "code",
   "execution_count": 3,
   "id": "367999e8-9ebf-47fb-92ed-c48cc5003bf2",
   "metadata": {
    "deletable": false,
    "nbgrader": {
     "cell_type": "code",
     "checksum": "0b841f44da522d4dee9c259e08326f70",
     "grade": false,
     "grade_id": "cell-ccde677cdd141ce4",
     "locked": false,
     "schema_version": 3,
     "solution": true,
     "task": false
    }
   },
   "outputs": [
    {
     "name": "stdout",
     "output_type": "stream",
     "text": [
      "$ git checkout d4034cf\n",
      "\n",
      "Note: switching to 'd4034cf'.\n",
      "\n",
      "You are in 'detached HEAD' state. You can look around, make experimental\n",
      "changes and commit them, and you can discard any commits you make in this\n",
      "state without impacting any branches by switching back to a branch.\n",
      "\n",
      "If you want to create a new branch to retain commits you create, you may\n",
      "do so (now or later) by using -c with the switch command. Example:\n",
      "\n",
      "  git switch -c <new-branch-name>\n",
      "\n",
      "Or undo this operation with:\n",
      "\n",
      "  git switch -\n",
      "\n",
      "Turn off this advice by setting config variable advice.detachedHead to false\n",
      "\n",
      "HEAD is now at d4034cf First commit of my_abs (no try/except yet)\n",
      "\n",
      "Saved git state for test_1.\n"
     ]
    }
   ],
   "source": [
    "%%save_git_state git_state_2_2.json test_1\n",
    "\n",
    "# YOUR CODE HERE\n",
    "git checkout d4034cf\n"
   ]
  },
  {
   "cell_type": "code",
   "execution_count": 4,
   "id": "a3490b3a-c6aa-4582-beae-176ea3798329",
   "metadata": {
    "deletable": false,
    "editable": false,
    "nbgrader": {
     "cell_type": "code",
     "checksum": "6c2102724934fbf0e07cb90781791db2",
     "grade": true,
     "grade_id": "cell-8a343dbb03e8ae2f",
     "locked": true,
     "points": 4,
     "schema_version": 3,
     "solution": false,
     "task": false
    }
   },
   "outputs": [],
   "source": [
    "git_state = load_git_state(\"git_state_2_2.json\", \"test_1\")\n",
    "\n",
    "expected_commit = \"d4034cff631ebda366cb68353368ddde7eb25c32\"\n",
    "assert git_state[\"commit\"] == expected_commit, f\"Expected commit '{expected_commit}', found '{git_state['commit']}'\""
   ]
  },
  {
   "cell_type": "code",
   "execution_count": 5,
   "id": "ec2e4b5b-a731-438a-a68d-0de126f4e58c",
   "metadata": {
    "deletable": false,
    "nbgrader": {
     "cell_type": "code",
     "checksum": "90c22f542bd96a0884d6e84ba8e81faa",
     "grade": false,
     "grade_id": "cell-d14168a85a6d8772",
     "locked": false,
     "schema_version": 3,
     "solution": true,
     "task": false
    }
   },
   "outputs": [
    {
     "name": "stdout",
     "output_type": "stream",
     "text": [
      "$ git checkout main\n",
      "Your branch is up to date with 'origin/main'.\n",
      "\n",
      "Previous HEAD position was d4034cf First commit of my_abs (no try/except yet)\n",
      "Switched to branch 'main'\n",
      "\n",
      "Saved git state for test_2.\n"
     ]
    }
   ],
   "source": [
    "%%save_git_state git_state_2_2.json test_2\n",
    "\n",
    "# YOUR CODE HERE\n",
    "git checkout main"
   ]
  },
  {
   "cell_type": "code",
   "execution_count": 6,
   "id": "a00ed0e4-7c48-4970-9cc9-8e6c40764f8c",
   "metadata": {
    "deletable": false,
    "editable": false,
    "nbgrader": {
     "cell_type": "code",
     "checksum": "cd5e7995ca11a5a162a04ddc472589cc",
     "grade": true,
     "grade_id": "cell-a783d993bd874286",
     "locked": true,
     "points": 3,
     "schema_version": 3,
     "solution": false,
     "task": false
    }
   },
   "outputs": [],
   "source": [
    "git_state = load_git_state(\"git_state_2_2.json\", \"test_2\")\n",
    "\n",
    "expected_branch = \"main\"\n",
    "assert git_state[\"branch\"] == expected_branch, f\"Expected commit '{expected_branch}', found '{git_state['branch']}'\""
   ]
  },
  {
   "cell_type": "code",
   "execution_count": 7,
   "id": "37a49021-0f53-44c9-89d8-10b1eba62383",
   "metadata": {
    "deletable": false,
    "editable": false,
    "nbgrader": {
     "cell_type": "code",
     "checksum": "d9bde2480142a679d56ca84e240ef1a7",
     "grade": false,
     "grade_id": "cell-38ff3604ee8a28f3",
     "locked": true,
     "schema_version": 3,
     "solution": false,
     "task": false
    }
   },
   "outputs": [
    {
     "name": "stdout",
     "output_type": "stream",
     "text": [
      "/home/nkim337/Lesson_2/.git_states/lesson_2_2_checkpoint.json\n",
      "Saved checkpoint for lesson_2_2.\n"
     ]
    }
   ],
   "source": [
    "from git_state_manager import save_git_checkpoint\n",
    "print(save_git_checkpoint(\"lesson_2_2\"))"
   ]
  },
  {
   "cell_type": "code",
   "execution_count": null,
   "id": "1a1b61e7-1933-43fe-a392-b9e664c4623e",
   "metadata": {},
   "outputs": [],
   "source": []
  }
 ],
 "metadata": {
  "kernelspec": {
   "display_name": "Python 3 (ipykernel)",
   "language": "python",
   "name": "python3"
  },
  "language_info": {
   "codemirror_mode": {
    "name": "ipython",
    "version": 3
   },
   "file_extension": ".py",
   "mimetype": "text/x-python",
   "name": "python",
   "nbconvert_exporter": "python",
   "pygments_lexer": "ipython3",
   "version": "3.10.12"
  }
 },
 "nbformat": 4,
 "nbformat_minor": 5
}
