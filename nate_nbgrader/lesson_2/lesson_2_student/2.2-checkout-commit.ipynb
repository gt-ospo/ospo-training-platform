{
 "cells": [
  {
   "cell_type": "markdown",
   "id": "41d90bd5",
   "metadata": {},
   "source": [
    "Before you turn this problem in, make sure everything runs as expected. First, **restart the kernel** (in the menubar, select Kernel $\\rightarrow$ Restart) and then **run all cells** (in the menubar, select Cell $\\rightarrow$ Run All).\n",
    "\n",
    "Make sure you fill in any place that says `YOUR CODE HERE` or \"YOUR ANSWER HERE\", as well as your name and collaborators below:"
   ]
  },
  {
   "cell_type": "code",
   "execution_count": null,
   "id": "73ebf029",
   "metadata": {},
   "outputs": [],
   "source": [
    "NAME = \"\"\n",
    "COLLABORATORS = \"\""
   ]
  },
  {
   "cell_type": "markdown",
   "id": "6c137144",
   "metadata": {},
   "source": [
    "---"
   ]
  },
  {
   "cell_type": "markdown",
   "id": "d5b6b6f9-610c-443e-af5f-2023911b499e",
   "metadata": {
    "deletable": false,
    "editable": false,
    "nbgrader": {
     "cell_type": "markdown",
     "checksum": "428102e3ad409e51e359f6381da5624d",
     "grade": false,
     "grade_id": "cell-7cb9f58b392b7788",
     "locked": true,
     "schema_version": 3,
     "solution": false,
     "task": false
    }
   },
   "source": [
    "Checkout commit that goes back to Lesson 2 start point"
   ]
  },
  {
   "cell_type": "code",
   "execution_count": null,
   "id": "8a7f093e-e613-4421-9059-a48f0f871cae",
   "metadata": {},
   "outputs": [],
   "source": [
    "import os\n",
    "from git_state_manager import save_git_state, load_git_state\n",
    "os.chdir(\"oss-training-templates\")"
   ]
  },
  {
   "cell_type": "code",
   "execution_count": null,
   "id": "d7c939cc-7acb-45a6-a4a8-cb412901b137",
   "metadata": {
    "deletable": false,
    "nbgrader": {
     "cell_type": "code",
     "checksum": "29352299a8153c9ed70b32f6e4212de4",
     "grade": false,
     "grade_id": "cell-49a97601a036344a",
     "locked": false,
     "schema_version": 3,
     "solution": true,
     "task": false
    }
   },
   "outputs": [],
   "source": [
    "def checkout_commit():\n",
    "    # YOUR CODE HERE\n",
    "    raise NotImplementedError()\n",
    "    \n",
    "    return command\n",
    "\n",
    "print(checkout_commit())\n",
    "print(\"---------------------------------------------------------------------\\n\" + save_git_state(\"git_state_2_2.json\", \"test_1\"))"
   ]
  },
  {
   "cell_type": "code",
   "execution_count": null,
   "id": "a3490b3a-c6aa-4582-beae-176ea3798329",
   "metadata": {},
   "outputs": [],
   "source": [
    "git_state = load_git_state(\"git_state_2_2.json\", \"test_1\")\n",
    "\n",
    "expected_commit = \"d4034cff631ebda366cb68353368ddde7eb25c32\"\n",
    "assert git_state[\"commit\"] == expected_commit, f\"Expected commit '{expected_commit}', found '{git_state['commit']}'\""
   ]
  },
  {
   "cell_type": "code",
   "execution_count": null,
   "id": "5898a3c3-ce55-40eb-9268-c1b0fadbe54a",
   "metadata": {
    "deletable": false,
    "nbgrader": {
     "cell_type": "code",
     "checksum": "c27202f7398062ded99c08a2c7310596",
     "grade": false,
     "grade_id": "cell-7583d824edc2c551",
     "locked": false,
     "schema_version": 3,
     "solution": true,
     "task": false
    }
   },
   "outputs": [],
   "source": [
    "def checkout_main():\n",
    "    # YOUR CODE HERE\n",
    "    raise NotImplementedError()\n",
    "\n",
    "    return command\n",
    "\n",
    "print(checkout_main())\n",
    "print(\"---------------------------------------------------------------------\\n\" + save_git_state(\"git_state_2_2.json\", \"test_2\"))"
   ]
  },
  {
   "cell_type": "code",
   "execution_count": null,
   "id": "a00ed0e4-7c48-4970-9cc9-8e6c40764f8c",
   "metadata": {},
   "outputs": [],
   "source": [
    "git_state = load_git_state(\"git_state_2_2.json\", \"test_2\")\n",
    "\n",
    "expected_branch = \"main\"\n",
    "assert git_state[\"branch\"] == expected_branch, f\"Expected commit '{expected_branch}', found '{git_state['branch']}'\""
   ]
  },
  {
   "cell_type": "code",
   "execution_count": null,
   "id": "37a49021-0f53-44c9-89d8-10b1eba62383",
   "metadata": {},
   "outputs": [],
   "source": []
  }
 ],
 "metadata": {
  "kernelspec": {
   "display_name": "Python 3 (ipykernel)",
   "language": "python",
   "name": "python3"
  },
  "language_info": {
   "codemirror_mode": {
    "name": "ipython",
    "version": 3
   },
   "file_extension": ".py",
   "mimetype": "text/x-python",
   "name": "python",
   "nbconvert_exporter": "python",
   "pygments_lexer": "ipython3",
   "version": "3.10.12"
  }
 },
 "nbformat": 4,
 "nbformat_minor": 5
}
