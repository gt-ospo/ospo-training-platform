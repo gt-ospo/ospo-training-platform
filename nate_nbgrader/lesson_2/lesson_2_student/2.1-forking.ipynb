{
 "cells": [
  {
   "cell_type": "markdown",
   "id": "eac4c5d6",
   "metadata": {},
   "source": [
    "Before you turn this problem in, make sure everything runs as expected. First, **restart the kernel** (in the menubar, select Kernel $\\rightarrow$ Restart) and then **run all cells** (in the menubar, select Cell $\\rightarrow$ Run All).\n",
    "\n",
    "Make sure you fill in any place that says `YOUR CODE HERE` or \"YOUR ANSWER HERE\", as well as your name and collaborators below:"
   ]
  },
  {
   "cell_type": "code",
   "execution_count": null,
   "id": "e017b3b8",
   "metadata": {},
   "outputs": [],
   "source": [
    "NAME = \"\"\n",
    "COLLABORATORS = \"\""
   ]
  },
  {
   "cell_type": "markdown",
   "id": "a7da23eb",
   "metadata": {},
   "source": [
    "---"
   ]
  },
  {
   "cell_type": "markdown",
   "id": "5f4ea58c-a16d-4afd-a345-eec4a8b34168",
   "metadata": {
    "deletable": false,
    "editable": false,
    "nbgrader": {
     "cell_type": "markdown",
     "checksum": "f1db0cba738e8f6f26700063ccf599b2",
     "grade": false,
     "grade_id": "cell-a82c556ebc3647ef",
     "locked": true,
     "schema_version": 3,
     "solution": false,
     "task": false
    }
   },
   "source": [
    "1. Introduce what a fork is and why it's used\n",
    "2. Show how to create a fork of the repo on gt-ospo that we can work with\n",
    "3. Mention we will get to the advanced topics of forking later (how to create a PR and propose the upstream version with the fork changes)"
   ]
  },
  {
   "cell_type": "markdown",
   "id": "e1c19aaf-1a77-4235-b0be-6e68fc4cff74",
   "metadata": {
    "deletable": false,
    "editable": false,
    "nbgrader": {
     "cell_type": "markdown",
     "checksum": "657235632505c192d76263945c9712e7",
     "grade": false,
     "grade_id": "cell-c2f8c6b5d66d1ee1",
     "locked": true,
     "schema_version": 3,
     "solution": false,
     "task": false
    }
   },
   "source": [
    "To start at this lesson, we will fork the repo from this link: https://github.com/gt-ospo/oss-training-templates\n",
    "Fork it directly into whichever directory you're working in right now."
   ]
  },
  {
   "cell_type": "code",
   "execution_count": 1,
   "id": "0b9d71f1-0dc5-47de-b305-de64f0531b39",
   "metadata": {
    "deletable": false,
    "editable": false,
    "nbgrader": {
     "cell_type": "code",
     "checksum": "722a5958b2963fe76c460b373f24ba1c",
     "grade": true,
     "grade_id": "cell-d9a7e2689b6d01f5",
     "locked": true,
     "points": 5,
     "schema_version": 3,
     "solution": false,
     "task": false
    }
   },
   "outputs": [],
   "source": [
    "import os\n",
    "import shutil\n",
    "\n",
    "cwd = os.getcwd()\n",
    "repo_dir = os.path.join(cwd, \"oss-training-templates\")\n",
    "\n",
    "# Check if the .git directory exists, which indicates a git repo was created\n",
    "try:\n",
    "    assert(os.path.isdir(os.path.join(repo_dir, \".git\")))\n",
    "except AssertionError as e:\n",
    "    # Clean up the test directory\n",
    "    if os.path.exists(repo_dir):\n",
    "        shutil.rmtree(repo_dir)\n",
    "    print(f\"Error: {e}\")"
   ]
  },
  {
   "cell_type": "code",
   "execution_count": null,
   "id": "cdfc082d-a248-4fdb-a311-1327014aeca8",
   "metadata": {},
   "outputs": [],
   "source": []
  }
 ],
 "metadata": {
  "kernelspec": {
   "display_name": "Python 3 (ipykernel)",
   "language": "python",
   "name": "python3"
  },
  "language_info": {
   "codemirror_mode": {
    "name": "ipython",
    "version": 3
   },
   "file_extension": ".py",
   "mimetype": "text/x-python",
   "name": "python",
   "nbconvert_exporter": "python",
   "pygments_lexer": "ipython3",
   "version": "3.10.12"
  }
 },
 "nbformat": 4,
 "nbformat_minor": 5
}
