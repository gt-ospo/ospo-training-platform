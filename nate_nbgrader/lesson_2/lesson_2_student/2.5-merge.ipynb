{
 "cells": [
  {
   "cell_type": "markdown",
   "id": "2ca98c0b",
   "metadata": {},
   "source": [
    "Before you turn this problem in, make sure everything runs as expected. First, **restart the kernel** (in the menubar, select Kernel $\\rightarrow$ Restart) and then **run all cells** (in the menubar, select Cell $\\rightarrow$ Run All).\n",
    "\n",
    "Make sure you fill in any place that says `YOUR CODE HERE` or \"YOUR ANSWER HERE\", as well as your name and collaborators below:"
   ]
  },
  {
   "cell_type": "code",
   "execution_count": null,
   "id": "1cf7091b",
   "metadata": {},
   "outputs": [],
   "source": [
    "NAME = \"\"\n",
    "COLLABORATORS = \"\""
   ]
  },
  {
   "cell_type": "markdown",
   "id": "0611dd73",
   "metadata": {},
   "source": [
    "---"
   ]
  },
  {
   "cell_type": "markdown",
   "id": "8b352864-f49e-4b45-93ea-107ad8bcc04f",
   "metadata": {
    "deletable": false,
    "editable": false,
    "nbgrader": {
     "cell_type": "markdown",
     "checksum": "a1697bd96e0ecc89a17f66c20bf17e52",
     "grade": false,
     "grade_id": "cell-fabf7ef5b453e5a2",
     "locked": true,
     "schema_version": 3,
     "solution": false,
     "task": false
    }
   },
   "source": [
    "Perform a standard fast-forward merge from the \"main\" branch, merging the changes from the \"types\" branch into \"main\""
   ]
  },
  {
   "cell_type": "code",
   "execution_count": null,
   "id": "0d0d4a15-f6bd-4389-aade-18211712fce9",
   "metadata": {
    "deletable": false,
    "editable": false,
    "nbgrader": {
     "cell_type": "code",
     "checksum": "31b6db095f23d0139a6933a9857e8449",
     "grade": false,
     "grade_id": "cell-8a1c634c84714945",
     "locked": true,
     "schema_version": 3,
     "solution": false,
     "task": false
    }
   },
   "outputs": [],
   "source": [
    "import os\n",
    "from git_state_manager import save_git_state, load_git_state\n",
    "os.chdir(\"oss-training-templates\")"
   ]
  },
  {
   "cell_type": "code",
   "execution_count": null,
   "id": "64aa70be-068b-45bc-aa0b-d5fc89bfbb33",
   "metadata": {
    "deletable": false,
    "nbgrader": {
     "cell_type": "code",
     "checksum": "91565b27565cddb62e7a208ecab8954c",
     "grade": false,
     "grade_id": "cell-cb31aa6f28ca8161",
     "locked": false,
     "schema_version": 3,
     "solution": true,
     "task": false
    }
   },
   "outputs": [],
   "source": [
    "def perform_merge():\n",
    "    # YOUR CODE HERE\n",
    "    raise NotImplementedError()\n",
    "    \n",
    "    return command\n",
    "\n",
    "print(perform_merge())\n",
    "print(\"---------------------------------------------------------------------\\n\" + save_git_state(\"git_state_2_5.json\", \"test_1\"))"
   ]
  },
  {
   "cell_type": "code",
   "execution_count": null,
   "id": "2ed5f953-9e3a-4127-b308-5c5c05f486a2",
   "metadata": {},
   "outputs": [],
   "source": [
    "git_state = load_git_state(\"git_state_2_5.json\", \"test_1\")\n",
    "last_commit_message = git_state[\"last_5_commits\"].split(\"\\n\")[0].split(\" \", 1)[1]\n",
    "expected_message = \"Using type checks\"\n",
    "assert last_commit_message == expected_message, f\"Expected last commit message '{expected_message}', found '{last_commit_message}'\""
   ]
  },
  {
   "cell_type": "code",
   "execution_count": null,
   "id": "b14e5581-e160-4f65-8561-a6605af57e4a",
   "metadata": {},
   "outputs": [],
   "source": []
  }
 ],
 "metadata": {
  "kernelspec": {
   "display_name": "Python 3 (ipykernel)",
   "language": "python",
   "name": "python3"
  },
  "language_info": {
   "codemirror_mode": {
    "name": "ipython",
    "version": 3
   },
   "file_extension": ".py",
   "mimetype": "text/x-python",
   "name": "python",
   "nbconvert_exporter": "python",
   "pygments_lexer": "ipython3",
   "version": "3.10.12"
  }
 },
 "nbformat": 4,
 "nbformat_minor": 5
}
