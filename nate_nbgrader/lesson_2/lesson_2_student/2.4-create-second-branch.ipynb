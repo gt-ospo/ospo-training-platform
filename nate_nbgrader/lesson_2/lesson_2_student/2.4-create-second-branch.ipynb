{
 "cells": [
  {
   "cell_type": "markdown",
   "id": "d26d7737",
   "metadata": {},
   "source": [
    "Before you turn this problem in, make sure everything runs as expected. First, **restart the kernel** (in the menubar, select Kernel $\\rightarrow$ Restart) and then **run all cells** (in the menubar, select Cell $\\rightarrow$ Run All).\n",
    "\n",
    "Make sure you fill in any place that says `YOUR CODE HERE` or \"YOUR ANSWER HERE\", as well as your name and collaborators below:"
   ]
  },
  {
   "cell_type": "code",
   "execution_count": null,
   "id": "41b299cb",
   "metadata": {},
   "outputs": [],
   "source": [
    "NAME = \"\"\n",
    "COLLABORATORS = \"\""
   ]
  },
  {
   "cell_type": "markdown",
   "id": "72c62ad0",
   "metadata": {},
   "source": [
    "---"
   ]
  },
  {
   "cell_type": "markdown",
   "id": "e9f8a226-dded-49bb-a7ac-3949e7772a4f",
   "metadata": {
    "deletable": false,
    "editable": false,
    "nbgrader": {
     "cell_type": "markdown",
     "checksum": "f38fc95284c19c9d1062be6d32a10942",
     "grade": false,
     "grade_id": "cell-c26e0973b8bd0205",
     "locked": true,
     "schema_version": 3,
     "solution": false,
     "task": false
    }
   },
   "source": [
    "Create a new branch called \"almost-eq\""
   ]
  },
  {
   "cell_type": "code",
   "execution_count": null,
   "id": "953d812a-c98e-460c-ba7b-b668090a16cf",
   "metadata": {
    "deletable": false,
    "editable": false,
    "nbgrader": {
     "cell_type": "code",
     "checksum": "105682ce743355ff5285ae70179e2477",
     "grade": false,
     "grade_id": "cell-c1d93330ccdca266",
     "locked": true,
     "schema_version": 3,
     "solution": false,
     "task": false
    }
   },
   "outputs": [],
   "source": [
    "import os\n",
    "from git_state_manager import load_git_state\n",
    "%load_ext git_magics\n",
    "os.chdir(\"oss-training-templates\")"
   ]
  },
  {
   "cell_type": "code",
   "execution_count": null,
   "id": "293b6300-00c9-425e-a50f-17a542c4aee8",
   "metadata": {
    "deletable": false,
    "editable": false,
    "nbgrader": {
     "cell_type": "code",
     "checksum": "fcf6a902b05d7ed0a07184877c9dc45e",
     "grade": false,
     "grade_id": "cell-0b1fa02fb8f4469d",
     "locked": true,
     "schema_version": 3,
     "solution": false,
     "task": false
    }
   },
   "outputs": [],
   "source": [
    "from git_state_manager import restore_git_checkpoint\n",
    "print(restore_git_checkpoint(\"lesson_2_3\"))"
   ]
  },
  {
   "cell_type": "code",
   "execution_count": null,
   "id": "d922fe62-7abe-4bea-97c3-cd39cda00447",
   "metadata": {
    "deletable": false,
    "nbgrader": {
     "cell_type": "code",
     "checksum": "e76da220098e68e4382f7fe036651b5b",
     "grade": false,
     "grade_id": "cell-c942f54052c18ba6",
     "locked": false,
     "schema_version": 3,
     "solution": true,
     "task": false
    }
   },
   "outputs": [],
   "source": [
    "%%save_git_state git_state_2_4.json test_1\n",
    "\n",
    "# YOUR CODE HERE\n",
    "raise NotImplementedError()"
   ]
  },
  {
   "cell_type": "code",
   "execution_count": null,
   "id": "9d44dfbe-44c2-43a8-a01b-1ca3224b719d",
   "metadata": {
    "deletable": false,
    "editable": false,
    "nbgrader": {
     "cell_type": "code",
     "checksum": "fdecbeaf0adc90a16c6eead17a8e2c37",
     "grade": true,
     "grade_id": "cell-9144db905bf58c70",
     "locked": true,
     "points": 3,
     "schema_version": 3,
     "solution": false,
     "task": false
    }
   },
   "outputs": [],
   "source": [
    "git_state = load_git_state(\"git_state_2_4.json\", \"test_1\")\n",
    "\n",
    "expected_branch = \"almost-eq\"\n",
    "assert git_state[\"branch\"] == expected_branch, f\"Expected branch: '{expected_branch}', found: '{git_state['branch']}'\""
   ]
  },
  {
   "cell_type": "markdown",
   "id": "0555c82f-66b7-455f-bcaa-3fe7ecbc1ecf",
   "metadata": {
    "deletable": false,
    "editable": false,
    "nbgrader": {
     "cell_type": "markdown",
     "checksum": "c8b9d66509f09f18215681f191a411e1",
     "grade": false,
     "grade_id": "cell-454d3a1ce8752ab8",
     "locked": true,
     "schema_version": 3,
     "solution": false,
     "task": false
    }
   },
   "source": [
    "Change my_abs.py to the contents in the cell below"
   ]
  },
  {
   "cell_type": "code",
   "execution_count": null,
   "id": "e0fc5868-a38b-4177-aa15-b154b0255c08",
   "metadata": {
    "deletable": false,
    "editable": false,
    "nbgrader": {
     "cell_type": "code",
     "checksum": "467ebe74d321378802900eb59eabd5ad",
     "grade": false,
     "grade_id": "cell-0b019827ac828051",
     "locked": true,
     "schema_version": 3,
     "solution": false,
     "task": false
    }
   },
   "outputs": [],
   "source": [
    "import math\n",
    "\n",
    "def my_abs(x):\n",
    "    try:\n",
    "        if x < 0:\n",
    "            return -x\n",
    "        else:\n",
    "            return x\n",
    "    except TypeError:\n",
    "        return math.nan\n",
    "\n",
    "def my_almost_eq(x, y):\n",
    "    return my_abs(x - y) < 1e-16"
   ]
  },
  {
   "cell_type": "markdown",
   "id": "3801819a-2355-4e71-b0c6-666331a90c2a",
   "metadata": {
    "deletable": false,
    "editable": false,
    "nbgrader": {
     "cell_type": "markdown",
     "checksum": "20e530121f46ff2fdf338b3eec9f3fab",
     "grade": false,
     "grade_id": "cell-20246215145c9fb7",
     "locked": true,
     "schema_version": 3,
     "solution": false,
     "task": false
    }
   },
   "source": [
    "Commit the changes to the \"almost-eq\" branch with the message: \"Added my_almost_eq\" and then checkout back to the main branch"
   ]
  },
  {
   "cell_type": "code",
   "execution_count": null,
   "id": "b65bf9db-f8f0-4b2c-a5d7-5c2b4b701eb3",
   "metadata": {
    "deletable": false,
    "nbgrader": {
     "cell_type": "code",
     "checksum": "5d0964921b8348910a261f1cdba4e3fa",
     "grade": false,
     "grade_id": "cell-38d3c97762422e74",
     "locked": false,
     "schema_version": 3,
     "solution": true,
     "task": false
    }
   },
   "outputs": [],
   "source": [
    "%%save_git_state git_state_2_4.json test_2\n",
    "\n",
    "# YOUR CODE HERE\n",
    "raise NotImplementedError()"
   ]
  },
  {
   "cell_type": "code",
   "execution_count": null,
   "id": "b0614753-947b-41b0-91e4-a823e73d0082",
   "metadata": {
    "deletable": false,
    "editable": false,
    "nbgrader": {
     "cell_type": "code",
     "checksum": "4b3101b0cb95e7751741b39aabc909c6",
     "grade": true,
     "grade_id": "cell-bf9ee57c9c80ab1f",
     "locked": true,
     "points": 5,
     "schema_version": 3,
     "solution": false,
     "task": false
    }
   },
   "outputs": [],
   "source": [
    "git_state = load_git_state(\"git_state_2_4.json\", \"test_2\")\n",
    "\n",
    "expected_branch = \"main\"\n",
    "assert git_state[\"branch\"] == expected_branch, f\"Expected branch: '{expected_branch}', found: '{git_state['branch']}'\""
   ]
  },
  {
   "cell_type": "code",
   "execution_count": null,
   "id": "ef09b999-c40e-48af-ad5a-11c0ba96f4e1",
   "metadata": {
    "deletable": false,
    "editable": false,
    "nbgrader": {
     "cell_type": "code",
     "checksum": "ef19a844bccb46537a8d81839a82a215",
     "grade": false,
     "grade_id": "cell-89ff5b87e1e3f4f2",
     "locked": true,
     "schema_version": 3,
     "solution": false,
     "task": false
    }
   },
   "outputs": [],
   "source": [
    "from git_state_manager import save_git_checkpoint\n",
    "print(save_git_checkpoint(\"lesson_2_4\"))"
   ]
  },
  {
   "cell_type": "code",
   "execution_count": null,
   "id": "942a18f7-571b-46cb-a9d5-f2456c79b1e0",
   "metadata": {},
   "outputs": [],
   "source": []
  }
 ],
 "metadata": {
  "kernelspec": {
   "display_name": "Python 3 (ipykernel)",
   "language": "python",
   "name": "python3"
  },
  "language_info": {
   "codemirror_mode": {
    "name": "ipython",
    "version": 3
   },
   "file_extension": ".py",
   "mimetype": "text/x-python",
   "name": "python",
   "nbconvert_exporter": "python",
   "pygments_lexer": "ipython3",
   "version": "3.10.12"
  }
 },
 "nbformat": 4,
 "nbformat_minor": 5
}
