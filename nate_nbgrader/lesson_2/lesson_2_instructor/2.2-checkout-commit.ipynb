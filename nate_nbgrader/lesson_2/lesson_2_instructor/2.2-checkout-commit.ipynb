{
 "cells": [
  {
   "cell_type": "markdown",
   "id": "d5b6b6f9-610c-443e-af5f-2023911b499e",
   "metadata": {
    "nbgrader": {
     "grade": false,
     "grade_id": "cell-7cb9f58b392b7788",
     "locked": true,
     "schema_version": 3,
     "solution": false,
     "task": false
    }
   },
   "source": [
    "Checkout commit that goes back to Lesson 2 start point"
   ]
  },
  {
   "cell_type": "code",
   "execution_count": null,
   "id": "dc04f455-4149-4d21-ae98-992bc861720a",
   "metadata": {
    "nbgrader": {
     "grade": false,
     "grade_id": "cell-e473d96e83663a80",
     "locked": true,
     "schema_version": 3,
     "solution": false,
     "task": false
    }
   },
   "outputs": [],
   "source": [
    "from git_state_manager import restore_git_checkpoint\n",
    "print(restore_git_checkpoint(\"lesson_2_1\"))"
   ]
  },
  {
   "cell_type": "code",
   "execution_count": null,
   "id": "8a7f093e-e613-4421-9059-a48f0f871cae",
   "metadata": {
    "nbgrader": {
     "grade": false,
     "grade_id": "cell-23143b9db12025ff",
     "locked": true,
     "schema_version": 3,
     "solution": false,
     "task": false
    }
   },
   "outputs": [],
   "source": [
    "import os\n",
    "from git_state_manager import load_git_state\n",
    "%load_ext git_magics\n",
    "os.chdir(\"oss-training-templates\")"
   ]
  },
  {
   "cell_type": "code",
   "execution_count": null,
   "id": "367999e8-9ebf-47fb-92ed-c48cc5003bf2",
   "metadata": {
    "nbgrader": {
     "grade": false,
     "grade_id": "cell-ccde677cdd141ce4",
     "locked": false,
     "schema_version": 3,
     "solution": true,
     "task": false
    }
   },
   "outputs": [],
   "source": [
    "%%save_git_state git_state_2_2.json test_1\n",
    "\n",
    "### BEGIN SOLUTION\n",
    "git checkout d4034cf\n",
    "### END SOLUTION"
   ]
  },
  {
   "cell_type": "code",
   "execution_count": null,
   "id": "a3490b3a-c6aa-4582-beae-176ea3798329",
   "metadata": {
    "nbgrader": {
     "grade": true,
     "grade_id": "cell-8a343dbb03e8ae2f",
     "locked": true,
     "points": 4,
     "schema_version": 3,
     "solution": false,
     "task": false
    }
   },
   "outputs": [],
   "source": [
    "git_state = load_git_state(\"git_state_2_2.json\", \"test_1\")\n",
    "\n",
    "expected_commit = \"d4034cff631ebda366cb68353368ddde7eb25c32\"\n",
    "assert git_state[\"commit\"] == expected_commit, f\"Expected commit '{expected_commit}', found '{git_state['commit']}'\""
   ]
  },
  {
   "cell_type": "code",
   "execution_count": null,
   "id": "ec2e4b5b-a731-438a-a68d-0de126f4e58c",
   "metadata": {
    "nbgrader": {
     "grade": false,
     "grade_id": "cell-d14168a85a6d8772",
     "locked": false,
     "schema_version": 3,
     "solution": true,
     "task": false
    }
   },
   "outputs": [],
   "source": [
    "%%save_git_state git_state_2_2.json test_2\n",
    "\n",
    "### BEGIN SOLUTION\n",
    "git checkout main\n",
    "### END SOLUTION"
   ]
  },
  {
   "cell_type": "code",
   "execution_count": null,
   "id": "a00ed0e4-7c48-4970-9cc9-8e6c40764f8c",
   "metadata": {
    "nbgrader": {
     "grade": true,
     "grade_id": "cell-a783d993bd874286",
     "locked": true,
     "points": 3,
     "schema_version": 3,
     "solution": false,
     "task": false
    }
   },
   "outputs": [],
   "source": [
    "git_state = load_git_state(\"git_state_2_2.json\", \"test_2\")\n",
    "\n",
    "expected_branch = \"main\"\n",
    "assert git_state[\"branch\"] == expected_branch, f\"Expected commit '{expected_branch}', found '{git_state['branch']}'\""
   ]
  },
  {
   "cell_type": "code",
   "execution_count": null,
   "id": "37a49021-0f53-44c9-89d8-10b1eba62383",
   "metadata": {
    "nbgrader": {
     "grade": false,
     "grade_id": "cell-38ff3604ee8a28f3",
     "locked": true,
     "schema_version": 3,
     "solution": false,
     "task": false
    }
   },
   "outputs": [],
   "source": [
    "from git_state_manager import save_git_checkpoint\n",
    "print(save_git_checkpoint(\"lesson_2_2\"))"
   ]
  },
  {
   "cell_type": "code",
   "execution_count": null,
   "id": "1a1b61e7-1933-43fe-a392-b9e664c4623e",
   "metadata": {},
   "outputs": [],
   "source": []
  }
 ],
 "metadata": {
  "kernelspec": {
   "display_name": "Python 3 (ipykernel)",
   "language": "python",
   "name": "python3"
  },
  "language_info": {
   "codemirror_mode": {
    "name": "ipython",
    "version": 3
   },
   "file_extension": ".py",
   "mimetype": "text/x-python",
   "name": "python",
   "nbconvert_exporter": "python",
   "pygments_lexer": "ipython3",
   "version": "3.10.12"
  }
 },
 "nbformat": 4,
 "nbformat_minor": 5
}
