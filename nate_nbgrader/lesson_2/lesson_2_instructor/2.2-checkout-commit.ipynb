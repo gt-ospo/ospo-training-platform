{
 "cells": [
  {
   "cell_type": "markdown",
   "id": "d5b6b6f9-610c-443e-af5f-2023911b499e",
   "metadata": {
    "nbgrader": {
     "grade": false,
     "grade_id": "cell-7cb9f58b392b7788",
     "locked": true,
     "schema_version": 3,
     "solution": false,
     "task": false
    }
   },
   "source": [
    "Checkout commit that goes back to Lesson 2 start point"
   ]
  },
  {
   "cell_type": "code",
   "execution_count": 1,
   "id": "8a7f093e-e613-4421-9059-a48f0f871cae",
   "metadata": {
    "nbgrader": {
     "grade": false,
     "grade_id": "cell-23143b9db12025ff",
     "locked": true,
     "schema_version": 3,
     "solution": false,
     "task": false
    }
   },
   "outputs": [],
   "source": [
    "import os\n",
    "from git_state_manager import save_git_state, load_git_state\n",
    "os.chdir(\"oss-training-templates\")"
   ]
  },
  {
   "cell_type": "code",
   "execution_count": 2,
   "id": "d7c939cc-7acb-45a6-a4a8-cb412901b137",
   "metadata": {
    "nbgrader": {
     "grade": false,
     "grade_id": "cell-49a97601a036344a",
     "locked": false,
     "schema_version": 3,
     "solution": true,
     "task": false
    }
   },
   "outputs": [
    {
     "name": "stdout",
     "output_type": "stream",
     "text": [
      "['HEAD is now at d4034cf First commit of my_abs (no try/except yet)']\n",
      "---------------------------------------------------------------------\n",
      "Saved git state for test_2.2_1.\n"
     ]
    }
   ],
   "source": [
    "def checkout_commit():\n",
    "    ### BEGIN SOLUTION\n",
    "    command = !git checkout d4034cf\n",
    "    ### END SOLUTION\n",
    "    \n",
    "    return command\n",
    "\n",
    "print(checkout_commit())\n",
    "print(\"---------------------------------------------------------------------\\n\" + save_git_state(\"git_state_2_2.json\", \"test_1\"))"
   ]
  },
  {
   "cell_type": "code",
   "execution_count": 3,
   "id": "a3490b3a-c6aa-4582-beae-176ea3798329",
   "metadata": {
    "nbgrader": {
     "grade": true,
     "grade_id": "cell-8a343dbb03e8ae2f",
     "locked": true,
     "points": 4,
     "schema_version": 3,
     "solution": false,
     "task": false
    }
   },
   "outputs": [],
   "source": [
    "git_state = load_git_state(\"git_state_2_2.json\", \"test_1\")\n",
    "\n",
    "expected_commit = \"d4034cff631ebda366cb68353368ddde7eb25c32\"\n",
    "assert git_state[\"commit\"] == expected_commit, f\"Expected commit '{expected_commit}', found '{git_state['commit']}'\""
   ]
  },
  {
   "cell_type": "code",
   "execution_count": 4,
   "id": "5898a3c3-ce55-40eb-9268-c1b0fadbe54a",
   "metadata": {
    "nbgrader": {
     "grade": false,
     "grade_id": "cell-7583d824edc2c551",
     "locked": false,
     "schema_version": 3,
     "solution": true,
     "task": false
    }
   },
   "outputs": [
    {
     "name": "stdout",
     "output_type": "stream",
     "text": [
      "['Previous HEAD position was d4034cf First commit of my_abs (no try/except yet)', \"Switched to branch 'main'\", \"Your branch is up to date with 'origin/main'.\"]\n",
      "---------------------------------------------------------------------\n",
      "Saved git state for test_2.2_2.\n"
     ]
    }
   ],
   "source": [
    "def checkout_main():\n",
    "    ### BEGIN SOLUTION\n",
    "    command = !git checkout main\n",
    "    ### END SOLUTION\n",
    "\n",
    "    return command\n",
    "\n",
    "print(checkout_main())\n",
    "print(\"---------------------------------------------------------------------\\n\" + save_git_state(\"git_state_2_2.json\", \"test_2\"))"
   ]
  },
  {
   "cell_type": "code",
   "execution_count": 5,
   "id": "a00ed0e4-7c48-4970-9cc9-8e6c40764f8c",
   "metadata": {
    "nbgrader": {
     "grade": true,
     "grade_id": "cell-a783d993bd874286",
     "locked": true,
     "points": 3,
     "schema_version": 3,
     "solution": false,
     "task": false
    }
   },
   "outputs": [],
   "source": [
    "git_state = load_git_state(\"git_state_2_2.json\", \"test_2\")\n",
    "\n",
    "expected_branch = \"main\"\n",
    "assert git_state[\"branch\"] == expected_branch, f\"Expected commit '{expected_branch}', found '{git_state['branch']}'\""
   ]
  },
  {
   "cell_type": "code",
   "execution_count": null,
   "id": "37a49021-0f53-44c9-89d8-10b1eba62383",
   "metadata": {},
   "outputs": [],
   "source": []
  }
 ],
 "metadata": {
  "kernelspec": {
   "display_name": "Python 3 (ipykernel)",
   "language": "python",
   "name": "python3"
  },
  "language_info": {
   "codemirror_mode": {
    "name": "ipython",
    "version": 3
   },
   "file_extension": ".py",
   "mimetype": "text/x-python",
   "name": "python",
   "nbconvert_exporter": "python",
   "pygments_lexer": "ipython3",
   "version": "3.10.12"
  }
 },
 "nbformat": 4,
 "nbformat_minor": 5
}
