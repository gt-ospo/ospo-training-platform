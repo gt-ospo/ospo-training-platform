{
 "cells": [
  {
   "cell_type": "markdown",
   "id": "d5b6b6f9-610c-443e-af5f-2023911b499e",
   "metadata": {
    "nbgrader": {
     "grade": false,
     "grade_id": "cell-7cb9f58b392b7788",
     "locked": true,
     "schema_version": 3,
     "solution": false,
     "task": false
    }
   },
   "source": [
    "Checkout commit that goes back to Lesson 2 start point"
   ]
  },
  {
   "cell_type": "code",
   "execution_count": null,
   "id": "8a7f093e-e613-4421-9059-a48f0f871cae",
   "metadata": {},
   "outputs": [],
   "source": [
    "import os\n",
    "os.chdir(\"oss-training-templates\")"
   ]
  },
  {
   "cell_type": "code",
   "execution_count": 11,
   "id": "d7c939cc-7acb-45a6-a4a8-cb412901b137",
   "metadata": {
    "nbgrader": {
     "grade": false,
     "grade_id": "cell-49a97601a036344a",
     "locked": false,
     "schema_version": 3,
     "solution": true,
     "task": false
    }
   },
   "outputs": [
    {
     "data": {
      "text/plain": [
       "[\"Note: switching to 'd4034cf'.\",\n",
       " '',\n",
       " \"You are in 'detached HEAD' state. You can look around, make experimental\",\n",
       " 'changes and commit them, and you can discard any commits you make in this',\n",
       " 'state without impacting any branches by switching back to a branch.',\n",
       " '',\n",
       " 'If you want to create a new branch to retain commits you create, you may',\n",
       " 'do so (now or later) by using -c with the switch command. Example:',\n",
       " '',\n",
       " '  git switch -c <new-branch-name>',\n",
       " '',\n",
       " 'Or undo this operation with:',\n",
       " '',\n",
       " '  git switch -',\n",
       " '',\n",
       " 'Turn off this advice by setting config variable advice.detachedHead to false',\n",
       " '',\n",
       " 'HEAD is now at d4034cf First commit of my_abs (no try/except yet)']"
      ]
     },
     "execution_count": 11,
     "metadata": {},
     "output_type": "execute_result"
    }
   ],
   "source": [
    "def checkout_commit():\n",
    "    ### BEGIN SOLUTION\n",
    "    command = !git checkout d4034cf\n",
    "    ### END SOLUTION\n",
    "    \n",
    "    return command\n",
    "\n",
    "checkout_commit()"
   ]
  },
  {
   "cell_type": "code",
   "execution_count": 16,
   "id": "f043cb41-b634-4876-a305-9672fe958bc0",
   "metadata": {
    "nbgrader": {
     "grade": true,
     "grade_id": "cell-59860761655b88d3",
     "locked": true,
     "points": 5,
     "schema_version": 3,
     "solution": false,
     "task": false
    }
   },
   "outputs": [],
   "source": [
    "output = !git status\n",
    "assert(\"HEAD detached at \" in output[0])"
   ]
  },
  {
   "cell_type": "code",
   "execution_count": 17,
   "id": "5898a3c3-ce55-40eb-9268-c1b0fadbe54a",
   "metadata": {
    "nbgrader": {
     "grade": false,
     "grade_id": "cell-7583d824edc2c551",
     "locked": false,
     "schema_version": 3,
     "solution": true,
     "task": false
    }
   },
   "outputs": [
    {
     "data": {
      "text/plain": [
       "['Previous HEAD position was d4034cf First commit of my_abs (no try/except yet)',\n",
       " \"Switched to branch 'main'\",\n",
       " \"Your branch is up to date with 'origin/main'.\"]"
      ]
     },
     "execution_count": 17,
     "metadata": {},
     "output_type": "execute_result"
    }
   ],
   "source": [
    "def checkout_main():\n",
    "    ### BEGIN SOLUTION\n",
    "    command = !git checkout main\n",
    "    ### END SOLUTION\n",
    "\n",
    "    return command\n",
    "\n",
    "checkout_main()"
   ]
  },
  {
   "cell_type": "code",
   "execution_count": 19,
   "id": "ac9735ab-1cb0-43d3-bc65-421dfc15d196",
   "metadata": {
    "nbgrader": {
     "grade": true,
     "grade_id": "cell-2f09ad8cf4c3eb3d",
     "locked": true,
     "points": 5,
     "schema_version": 3,
     "solution": false,
     "task": false
    }
   },
   "outputs": [],
   "source": [
    "output = !git status\n",
    "assert(\"On branch main\" in output[0])"
   ]
  }
 ],
 "metadata": {
  "kernelspec": {
   "display_name": "Python 3 (ipykernel)",
   "language": "python",
   "name": "python3"
  },
  "language_info": {
   "codemirror_mode": {
    "name": "ipython",
    "version": 3
   },
   "file_extension": ".py",
   "mimetype": "text/x-python",
   "name": "python",
   "nbconvert_exporter": "python",
   "pygments_lexer": "ipython3",
   "version": "3.10.12"
  }
 },
 "nbformat": 4,
 "nbformat_minor": 5
}
