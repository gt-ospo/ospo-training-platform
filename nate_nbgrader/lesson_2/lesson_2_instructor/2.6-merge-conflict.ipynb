{
 "cells": [
  {
   "cell_type": "markdown",
   "id": "c2057f72-9184-4e04-ae4e-a0a272d69e98",
   "metadata": {
    "nbgrader": {
     "grade": false,
     "grade_id": "cell-464d6a0a3332fc09",
     "locked": true,
     "schema_version": 3,
     "solution": false,
     "task": false
    }
   },
   "source": [
    "Attempt to perform a merge commit from the \"main\" branch, merging the changes from the \"almost-eq\" branch into \"main\"\n",
    "\n",
    "NOTE: You can include a \"--no-edit\" flag in your command to prevent a text editor from popping up"
   ]
  },
  {
   "cell_type": "code",
   "execution_count": null,
   "id": "469331ca-72d1-411e-89d6-ee5e8cbfce93",
   "metadata": {
    "nbgrader": {
     "grade": false,
     "grade_id": "cell-47f31ca958044e4b",
     "locked": true,
     "schema_version": 3,
     "solution": false,
     "task": false
    }
   },
   "outputs": [],
   "source": [
    "import os\n",
    "from git_state_manager import load_git_state\n",
    "%load_ext git_magics\n",
    "os.chdir(\"oss-training-templates\")"
   ]
  },
  {
   "cell_type": "code",
   "execution_count": null,
   "id": "fd5aa154-34c5-4cc7-ac8a-02d1980f1cb4",
   "metadata": {
    "nbgrader": {
     "grade": false,
     "grade_id": "cell-a492e2620a6f146d",
     "locked": false,
     "schema_version": 3,
     "solution": true,
     "task": false
    }
   },
   "outputs": [],
   "source": [
    "%%save_git_state git_state_2_6.json test_1\n",
    "\n",
    "### BEGIN SOLUTION\n",
    "git merge --no-edit almost-eq\n",
    "### END SOLUTION"
   ]
  },
  {
   "cell_type": "markdown",
   "id": "377cc5a5-e9b2-4504-93da-c7dbf40b457d",
   "metadata": {
    "nbgrader": {
     "grade": false,
     "grade_id": "cell-44aac6d96d7e7353",
     "locked": true,
     "schema_version": 3,
     "solution": false,
     "task": false
    }
   },
   "source": [
    "You may receive a merge conflict message. This means changes from the \"types\" branch and \"almost-eq\" branches have conflicting/overlapping changes that you need to manually address.\n",
    "\n",
    "Go to my_abs.py and fix the changes:\n",
    "\n",
    "- Everything below \"<<<<<<< HEAD\" up until \"=======\" is what currently exists in the branch you're on (main)\n",
    "- \"=======\" separates the conflicting changes between HEAD (main) and almost-eq.\n",
    "- Everything above \">>>>>>> almost-eq\" is from the almost-eq branch. This is the code from almost-eq that Git is trying to merge into main.\n",
    "- Remove the \"except\" block, then remove these three lines to resolve this merge conflict."
   ]
  },
  {
   "cell_type": "markdown",
   "id": "745a423d-6cd6-4ef5-b06c-b846c6e7618a",
   "metadata": {
    "nbgrader": {
     "grade": false,
     "grade_id": "cell-56ca85062394807b",
     "locked": true,
     "schema_version": 3,
     "solution": false,
     "task": false
    }
   },
   "source": [
    "Once the conflicts resolved, add your changes, then commit them with the message: \"Resolved merge conflict in my_abs.py\""
   ]
  },
  {
   "cell_type": "code",
   "execution_count": null,
   "id": "686efd40-bc20-4450-9d9b-07a0db9d74cc",
   "metadata": {
    "nbgrader": {
     "grade": false,
     "grade_id": "cell-ac2c8a91ea351553",
     "locked": false,
     "schema_version": 3,
     "solution": true,
     "task": false
    }
   },
   "outputs": [],
   "source": [
    "%%save_git_state git_state_2_6.json test_1\n",
    "\n",
    "### BEGIN SOLUTION\n",
    "git commit -am \"Resolved merge conflict in my_abs.py\"\n",
    "### END SOLUTION"
   ]
  },
  {
   "cell_type": "code",
   "execution_count": null,
   "id": "bd337384-cb83-49ae-92ae-3a8d560a52bd",
   "metadata": {
    "nbgrader": {
     "grade": true,
     "grade_id": "cell-7d94860c9d1c46e4",
     "locked": true,
     "points": 4,
     "schema_version": 3,
     "solution": false,
     "task": false
    }
   },
   "outputs": [],
   "source": [
    "git_state = load_git_state(\"git_state_2_6.json\", \"test_1\")\n",
    "last_commit_message = git_state[\"last_5_commits\"].split(\"\\n\")[0].split(\" \", 1)[1]\n",
    "expected_message = \"Resolved merge conflict in my_abs.py\"\n",
    "\n",
    "assert last_commit_message == expected_message, f\"Expected last commit message '{expected_message}', found '{last_commit_message}'\""
   ]
  },
  {
   "cell_type": "code",
   "execution_count": null,
   "id": "e15a86e6-38a8-4368-887c-337777bbb9ba",
   "metadata": {},
   "outputs": [],
   "source": []
  }
 ],
 "metadata": {
  "kernelspec": {
   "display_name": "Python 3 (ipykernel)",
   "language": "python",
   "name": "python3"
  },
  "language_info": {
   "codemirror_mode": {
    "name": "ipython",
    "version": 3
   },
   "file_extension": ".py",
   "mimetype": "text/x-python",
   "name": "python",
   "nbconvert_exporter": "python",
   "pygments_lexer": "ipython3",
   "version": "3.10.12"
  }
 },
 "nbformat": 4,
 "nbformat_minor": 5
}
