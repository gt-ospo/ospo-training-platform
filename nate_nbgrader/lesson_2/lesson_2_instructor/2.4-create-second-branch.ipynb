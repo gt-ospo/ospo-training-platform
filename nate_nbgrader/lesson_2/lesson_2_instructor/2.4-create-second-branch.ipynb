{
 "cells": [
  {
   "cell_type": "markdown",
   "id": "e9f8a226-dded-49bb-a7ac-3949e7772a4f",
   "metadata": {
    "nbgrader": {
     "grade": false,
     "grade_id": "cell-c26e0973b8bd0205",
     "locked": true,
     "schema_version": 3,
     "solution": false,
     "task": false
    }
   },
   "source": [
    "Create a new branch called \"almost-eq\""
   ]
  },
  {
   "cell_type": "code",
   "execution_count": 1,
   "id": "953d812a-c98e-460c-ba7b-b668090a16cf",
   "metadata": {
    "nbgrader": {
     "grade": false,
     "grade_id": "cell-c1d93330ccdca266",
     "locked": true,
     "schema_version": 3,
     "solution": false,
     "task": false
    }
   },
   "outputs": [],
   "source": [
    "import os\n",
    "from git_state_manager import save_git_state, load_git_state\n",
    "os.chdir(\"oss-training-templates\")"
   ]
  },
  {
   "cell_type": "code",
   "execution_count": 2,
   "id": "687a5c99-616d-4e68-a6dc-cf96b7d6b0f4",
   "metadata": {
    "nbgrader": {
     "grade": false,
     "grade_id": "cell-eb8c010f8eab02fa",
     "locked": false,
     "schema_version": 3,
     "solution": true,
     "task": false
    }
   },
   "outputs": [
    {
     "name": "stdout",
     "output_type": "stream",
     "text": [
      "[\"Switched to a new branch 'almost-eq'\"]\n",
      "---------------------------------------------------------------------\n",
      "Saved git state for test_1.\n"
     ]
    }
   ],
   "source": [
    "def create_new_branch():\n",
    "    ### BEGIN SOLUTION\n",
    "    command = !git checkout -b almost-eq\n",
    "    ### END SOLUTION\n",
    "    \n",
    "    return command\n",
    "\n",
    "print(create_new_branch())\n",
    "print(\"---------------------------------------------------------------------\\n\" + save_git_state(\"git_state_2_4.json\", \"test_1\"))"
   ]
  },
  {
   "cell_type": "code",
   "execution_count": 3,
   "id": "9d44dfbe-44c2-43a8-a01b-1ca3224b719d",
   "metadata": {
    "nbgrader": {
     "grade": true,
     "grade_id": "cell-9144db905bf58c70",
     "locked": true,
     "points": 3,
     "schema_version": 3,
     "solution": false,
     "task": false
    }
   },
   "outputs": [],
   "source": [
    "git_state = load_git_state(\"git_state_2_4.json\", \"test_1\")\n",
    "\n",
    "expected_branch = \"almost-eq\"\n",
    "assert git_state[\"branch\"] == expected_branch, f\"Expected branch: '{expected_branch}', found: '{git_state['branch']}'\""
   ]
  },
  {
   "cell_type": "markdown",
   "id": "0555c82f-66b7-455f-bcaa-3fe7ecbc1ecf",
   "metadata": {
    "nbgrader": {
     "grade": false,
     "grade_id": "cell-454d3a1ce8752ab8",
     "locked": true,
     "schema_version": 3,
     "solution": false,
     "task": false
    }
   },
   "source": [
    "Change my_abs.py to the contents in the cell below"
   ]
  },
  {
   "cell_type": "code",
   "execution_count": 4,
   "id": "e0fc5868-a38b-4177-aa15-b154b0255c08",
   "metadata": {
    "nbgrader": {
     "grade": false,
     "grade_id": "cell-0b019827ac828051",
     "locked": true,
     "schema_version": 3,
     "solution": false,
     "task": false
    }
   },
   "outputs": [],
   "source": [
    "import math\n",
    "\n",
    "def my_abs(x):\n",
    "    try:\n",
    "        if x < 0:\n",
    "            return -x\n",
    "        else:\n",
    "            return x\n",
    "    except TypeError:\n",
    "        return math.nan\n",
    "\n",
    "def my_almost_eq(x, y):\n",
    "    return my_abs(x - y) < 1e-16"
   ]
  },
  {
   "cell_type": "markdown",
   "id": "3801819a-2355-4e71-b0c6-666331a90c2a",
   "metadata": {
    "nbgrader": {
     "grade": false,
     "grade_id": "cell-20246215145c9fb7",
     "locked": true,
     "schema_version": 3,
     "solution": false,
     "task": false
    }
   },
   "source": [
    "Commit the changes to the \"almost-eq\" branch with the message: \"Added my_almost_eq\" and then checkout back to the main branch"
   ]
  },
  {
   "cell_type": "code",
   "execution_count": 5,
   "id": "a719a7ea-e8ca-4b46-9f33-7d6817c2eaa3",
   "metadata": {
    "nbgrader": {
     "grade": false,
     "grade_id": "cell-af3067d05f32a4c6",
     "locked": false,
     "schema_version": 3,
     "solution": true,
     "task": false
    }
   },
   "outputs": [
    {
     "name": "stdout",
     "output_type": "stream",
     "text": [
      "(['[almost-eq 528c804] Added my_almost_eq', ' Committer: Nathaniel E Kim <nkim337@horizons-research.cc.gatech.edu>', 'Your name and email address were configured automatically based', 'on your username and hostname. Please check that they are accurate.', 'You can suppress this message by setting them explicitly. Run the', 'following command and follow the instructions in your editor to edit', 'your configuration file:', '', '    git config --global --edit', '', 'After doing this, you may fix the identity used for this commit with:', '', '    git commit --amend --reset-author', '', ' 1 file changed, 4 insertions(+), 1 deletion(-)'], [\"Switched to branch 'main'\", \"Your branch is up to date with 'origin/main'.\"])\n",
      "---------------------------------------------------------------------\n",
      "Saved git state for test_2.\n"
     ]
    }
   ],
   "source": [
    "def commit_and_checkout():\n",
    "    ### BEGIN SOLUTION\n",
    "    commit_command = !git commit -am \"Added my_almost_eq\"\n",
    "    checkout_command = !git checkout main\n",
    "    ### END SOLUTION\n",
    "\n",
    "    return (commit_command, checkout_command)\n",
    "\n",
    "print(commit_and_checkout())\n",
    "print(\"---------------------------------------------------------------------\\n\" + save_git_state(\"git_state_2_4.json\", \"test_2\"))"
   ]
  },
  {
   "cell_type": "code",
   "execution_count": 6,
   "id": "b0614753-947b-41b0-91e4-a823e73d0082",
   "metadata": {
    "nbgrader": {
     "grade": true,
     "grade_id": "cell-bf9ee57c9c80ab1f",
     "locked": true,
     "points": 5,
     "schema_version": 3,
     "solution": false,
     "task": false
    }
   },
   "outputs": [],
   "source": [
    "git_state = load_git_state(\"git_state_2_4.json\", \"test_2\")\n",
    "\n",
    "expected_branch = \"main\"\n",
    "assert git_state[\"branch\"] == expected_branch, f\"Expected branch: '{expected_branch}', found: '{git_state['branch']}'\""
   ]
  },
  {
   "cell_type": "code",
   "execution_count": null,
   "id": "ef09b999-c40e-48af-ad5a-11c0ba96f4e1",
   "metadata": {},
   "outputs": [],
   "source": []
  }
 ],
 "metadata": {
  "kernelspec": {
   "display_name": "Python 3 (ipykernel)",
   "language": "python",
   "name": "python3"
  },
  "language_info": {
   "codemirror_mode": {
    "name": "ipython",
    "version": 3
   },
   "file_extension": ".py",
   "mimetype": "text/x-python",
   "name": "python",
   "nbconvert_exporter": "python",
   "pygments_lexer": "ipython3",
   "version": "3.10.12"
  }
 },
 "nbformat": 4,
 "nbformat_minor": 5
}
