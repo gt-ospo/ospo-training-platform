{
 "cells": [
  {
   "cell_type": "markdown",
   "id": "e9f8a226-dded-49bb-a7ac-3949e7772a4f",
   "metadata": {
    "nbgrader": {
     "grade": false,
     "grade_id": "cell-c26e0973b8bd0205",
     "locked": true,
     "schema_version": 3,
     "solution": false,
     "task": false
    }
   },
   "source": [
    "Create a new branch called \"almost-eq\""
   ]
  },
  {
   "cell_type": "code",
   "execution_count": null,
   "id": "953d812a-c98e-460c-ba7b-b668090a16cf",
   "metadata": {
    "nbgrader": {
     "grade": false,
     "grade_id": "cell-c1d93330ccdca266",
     "locked": true,
     "schema_version": 3,
     "solution": false,
     "task": false
    }
   },
   "outputs": [],
   "source": [
    "import os\n",
    "os.chdir(\"oss-training-templates\")"
   ]
  },
  {
   "cell_type": "code",
   "execution_count": 1,
   "id": "687a5c99-616d-4e68-a6dc-cf96b7d6b0f4",
   "metadata": {
    "nbgrader": {
     "grade": false,
     "grade_id": "cell-eb8c010f8eab02fa",
     "locked": false,
     "schema_version": 3,
     "solution": true,
     "task": false
    }
   },
   "outputs": [
    {
     "data": {
      "text/plain": [
       "[\"Switched to a new branch 'almost-eq'\"]"
      ]
     },
     "execution_count": 1,
     "metadata": {},
     "output_type": "execute_result"
    }
   ],
   "source": [
    "def create_new_branch():\n",
    "    ### BEGIN SOLUTION\n",
    "    command = !git checkout -b almost-eq\n",
    "    ### END SOLUTION\n",
    "    \n",
    "    return command\n",
    "\n",
    "create_new_branch()"
   ]
  },
  {
   "cell_type": "code",
   "execution_count": 2,
   "id": "9d44dfbe-44c2-43a8-a01b-1ca3224b719d",
   "metadata": {
    "nbgrader": {
     "grade": true,
     "grade_id": "cell-9144db905bf58c70",
     "locked": true,
     "points": 3,
     "schema_version": 3,
     "solution": false,
     "task": false
    }
   },
   "outputs": [],
   "source": [
    "output = !git status\n",
    "assert(\"On branch almost-eq\" in output[0])"
   ]
  },
  {
   "cell_type": "markdown",
   "id": "0555c82f-66b7-455f-bcaa-3fe7ecbc1ecf",
   "metadata": {
    "nbgrader": {
     "grade": false,
     "grade_id": "cell-454d3a1ce8752ab8",
     "locked": true,
     "schema_version": 3,
     "solution": false,
     "task": false
    }
   },
   "source": [
    "Change my_abs.py to the contents in the cell below"
   ]
  },
  {
   "cell_type": "markdown",
   "id": "b2ac8a53-521b-478f-bac1-7b1eb9367f4b",
   "metadata": {
    "nbgrader": {
     "grade": false,
     "grade_id": "cell-84961e291e9d2412",
     "locked": true,
     "schema_version": 3,
     "solution": false,
     "task": false
    }
   },
   "source": [
    "import math\n",
    "\n",
    "def my_abs(x):\n",
    "    try:\n",
    "        if x < 0:\n",
    "            return -x\n",
    "        else:\n",
    "            return x\n",
    "    except TypeError:\n",
    "        return math.nan\n",
    "\n",
    "def my_almost_eq(x, y):\n",
    "    return my_abs(x - y) < 1e-16"
   ]
  },
  {
   "cell_type": "markdown",
   "id": "3801819a-2355-4e71-b0c6-666331a90c2a",
   "metadata": {
    "nbgrader": {
     "grade": false,
     "grade_id": "cell-20246215145c9fb7",
     "locked": true,
     "schema_version": 3,
     "solution": false,
     "task": false
    }
   },
   "source": [
    "Commit the changes to the \"almost-eq\" branch with the message: \"Added my_almost_eq\" and then checkout back to the main branch"
   ]
  },
  {
   "cell_type": "code",
   "execution_count": 3,
   "id": "a719a7ea-e8ca-4b46-9f33-7d6817c2eaa3",
   "metadata": {
    "nbgrader": {
     "grade": false,
     "grade_id": "cell-af3067d05f32a4c6",
     "locked": false,
     "schema_version": 3,
     "solution": true,
     "task": false
    }
   },
   "outputs": [
    {
     "data": {
      "text/plain": [
       "(['[almost-eq 2ce301b] Added my_almost_eq',\n",
       "  ' Committer: Nathaniel E Kim <nkim337@horizons-research.cc.gatech.edu>',\n",
       "  'Your name and email address were configured automatically based',\n",
       "  'on your username and hostname. Please check that they are accurate.',\n",
       "  'You can suppress this message by setting them explicitly. Run the',\n",
       "  'following command and follow the instructions in your editor to edit',\n",
       "  'your configuration file:',\n",
       "  '',\n",
       "  '    git config --global --edit',\n",
       "  '',\n",
       "  'After doing this, you may fix the identity used for this commit with:',\n",
       "  '',\n",
       "  '    git commit --amend --reset-author',\n",
       "  '',\n",
       "  ' 1 file changed, 4 insertions(+), 1 deletion(-)'],\n",
       " [\"Switched to branch 'main'\",\n",
       "  \"Your branch is up to date with 'origin/main'.\"])"
      ]
     },
     "execution_count": 3,
     "metadata": {},
     "output_type": "execute_result"
    }
   ],
   "source": [
    "def commit_and_checkout():\n",
    "    ### BEGIN SOLUTION\n",
    "    commit_command = !git commit -am \"Added my_almost_eq\"\n",
    "    checkout_command = !git checkout main\n",
    "    ### END SOLUTION\n",
    "\n",
    "    return (commit_command, checkout_command)\n",
    "\n",
    "commit_and_checkout()"
   ]
  },
  {
   "cell_type": "code",
   "execution_count": 4,
   "id": "b0614753-947b-41b0-91e4-a823e73d0082",
   "metadata": {
    "nbgrader": {
     "grade": true,
     "grade_id": "cell-bf9ee57c9c80ab1f",
     "locked": true,
     "points": 5,
     "schema_version": 3,
     "solution": false,
     "task": false
    }
   },
   "outputs": [],
   "source": [
    "output = !git status\n",
    "assert(\"On branch main\" in output[0])"
   ]
  }
 ],
 "metadata": {
  "kernelspec": {
   "display_name": "Python 3 (ipykernel)",
   "language": "python",
   "name": "python3"
  },
  "language_info": {
   "codemirror_mode": {
    "name": "ipython",
    "version": 3
   },
   "file_extension": ".py",
   "mimetype": "text/x-python",
   "name": "python",
   "nbconvert_exporter": "python",
   "pygments_lexer": "ipython3",
   "version": "3.10.12"
  }
 },
 "nbformat": 4,
 "nbformat_minor": 5
}
