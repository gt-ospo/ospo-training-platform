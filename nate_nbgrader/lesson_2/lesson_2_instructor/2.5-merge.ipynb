{
 "cells": [
  {
   "cell_type": "markdown",
   "id": "8b352864-f49e-4b45-93ea-107ad8bcc04f",
   "metadata": {
    "nbgrader": {
     "grade": false,
     "grade_id": "cell-fabf7ef5b453e5a2",
     "locked": true,
     "schema_version": 3,
     "solution": false,
     "task": false
    }
   },
   "source": [
    "Perform a standard fast-forward merge from the \"main\" branch, merging the changes from the \"types\" branch into \"main\""
   ]
  },
  {
   "cell_type": "code",
   "execution_count": null,
   "id": "0d0d4a15-f6bd-4389-aade-18211712fce9",
   "metadata": {
    "nbgrader": {
     "grade": false,
     "grade_id": "cell-8a1c634c84714945",
     "locked": true,
     "schema_version": 3,
     "solution": false,
     "task": false
    }
   },
   "outputs": [],
   "source": [
    "import os\n",
    "os.chdir(\"oss-training-templates\")"
   ]
  },
  {
   "cell_type": "code",
   "execution_count": 21,
   "id": "64aa70be-068b-45bc-aa0b-d5fc89bfbb33",
   "metadata": {
    "nbgrader": {
     "grade": false,
     "grade_id": "cell-cb31aa6f28ca8161",
     "locked": false,
     "schema_version": 3,
     "solution": true,
     "task": false
    }
   },
   "outputs": [
    {
     "data": {
      "text/plain": [
       "['Updating b431e75..ed07d88',\n",
       " 'Fast-forward',\n",
       " ' my_abs.py | 8 ++++++--',\n",
       " ' 1 file changed, 6 insertions(+), 2 deletions(-)']"
      ]
     },
     "execution_count": 21,
     "metadata": {},
     "output_type": "execute_result"
    }
   ],
   "source": [
    "def perform_merge():\n",
    "    ### BEGIN SOLUTION\n",
    "    command = !git merge types\n",
    "    ### END SOLUTION\n",
    "    \n",
    "    return command\n",
    "\n",
    "perform_merge()"
   ]
  },
  {
   "cell_type": "code",
   "execution_count": 11,
   "id": "3e8d9f91-7c39-4a41-a0f6-4600681f028d",
   "metadata": {
    "nbgrader": {
     "grade": true,
     "grade_id": "cell-0763fc6b1da44bfc",
     "locked": true,
     "points": 5,
     "schema_version": 3,
     "solution": false,
     "task": false
    }
   },
   "outputs": [],
   "source": [
    "output = !git log --oneline --graph --decorate --branches\n",
    "assert any(\"HEAD -> main\" in line and \"types\" in line for line in output), f\"HEAD -> main is not pointing to types. Output:\\n{output}\""
   ]
  }
 ],
 "metadata": {
  "kernelspec": {
   "display_name": "Python 3 (ipykernel)",
   "language": "python",
   "name": "python3"
  },
  "language_info": {
   "codemirror_mode": {
    "name": "ipython",
    "version": 3
   },
   "file_extension": ".py",
   "mimetype": "text/x-python",
   "name": "python",
   "nbconvert_exporter": "python",
   "pygments_lexer": "ipython3",
   "version": "3.10.12"
  }
 },
 "nbformat": 4,
 "nbformat_minor": 5
}
