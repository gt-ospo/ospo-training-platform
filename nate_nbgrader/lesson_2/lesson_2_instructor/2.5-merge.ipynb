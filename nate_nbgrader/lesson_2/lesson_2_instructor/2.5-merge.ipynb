{
 "cells": [
  {
   "cell_type": "markdown",
   "id": "8b352864-f49e-4b45-93ea-107ad8bcc04f",
   "metadata": {
    "nbgrader": {
     "grade": false,
     "grade_id": "cell-fabf7ef5b453e5a2",
     "locked": true,
     "schema_version": 3,
     "solution": false,
     "task": false
    }
   },
   "source": [
    "Perform a standard fast-forward merge from the \"main\" branch, merging the changes from the \"types\" branch into \"main\""
   ]
  },
  {
   "cell_type": "code",
   "execution_count": null,
   "id": "0d0d4a15-f6bd-4389-aade-18211712fce9",
   "metadata": {
    "nbgrader": {
     "grade": false,
     "grade_id": "cell-8a1c634c84714945",
     "locked": true,
     "schema_version": 3,
     "solution": false,
     "task": false
    }
   },
   "outputs": [],
   "source": [
    "import os\n",
    "from git_state_manager import load_git_state\n",
    "%load_ext git_magics\n",
    "os.chdir(\"oss-training-templates\")"
   ]
  },
  {
   "cell_type": "code",
   "execution_count": null,
   "id": "a91ffb83-0bb0-4829-b53a-f87d4ee15908",
   "metadata": {
    "nbgrader": {
     "grade": false,
     "grade_id": "cell-d6278bce7c9d824b",
     "locked": true,
     "schema_version": 3,
     "solution": false,
     "task": false
    }
   },
   "outputs": [],
   "source": [
    "from git_state_manager import restore_git_checkpoint\n",
    "print(restore_git_checkpoint(\"lesson_2_4\"))"
   ]
  },
  {
   "cell_type": "code",
   "execution_count": null,
   "id": "5d54f0c2-e371-4a1f-b527-adf9d2331653",
   "metadata": {
    "nbgrader": {
     "grade": false,
     "grade_id": "cell-e1e3ede63aafd9dc",
     "locked": false,
     "schema_version": 3,
     "solution": true,
     "task": false
    }
   },
   "outputs": [],
   "source": [
    "%%save_git_state git_state_2_5.json test_1\n",
    "\n",
    "### BEGIN SOLUTION\n",
    "git merge types\n",
    "### END SOLUTION"
   ]
  },
  {
   "cell_type": "code",
   "execution_count": null,
   "id": "2ed5f953-9e3a-4127-b308-5c5c05f486a2",
   "metadata": {
    "nbgrader": {
     "grade": true,
     "grade_id": "cell-10baa3eeaa6910ba",
     "locked": true,
     "points": 7,
     "schema_version": 3,
     "solution": false,
     "task": false
    }
   },
   "outputs": [],
   "source": [
    "git_state = load_git_state(\"git_state_2_5.json\", \"test_1\")\n",
    "last_commit_message = git_state[\"last_5_commits\"].split(\"\\n\")[0].split(\" \", 1)[1]\n",
    "expected_message = \"Using type checks\"\n",
    "assert last_commit_message == expected_message, f\"Expected last commit message '{expected_message}', found '{last_commit_message}'\""
   ]
  },
  {
   "cell_type": "code",
   "execution_count": null,
   "id": "b14e5581-e160-4f65-8561-a6605af57e4a",
   "metadata": {
    "nbgrader": {
     "grade": false,
     "grade_id": "cell-2ffbe2f57e9460c2",
     "locked": true,
     "schema_version": 3,
     "solution": false,
     "task": false
    }
   },
   "outputs": [],
   "source": [
    "from git_state_manager import save_git_checkpoint\n",
    "print(save_git_checkpoint(\"lesson_2_5\"))"
   ]
  },
  {
   "cell_type": "code",
   "execution_count": null,
   "id": "ca8741d0-1038-4f0f-86f1-695ad5625f71",
   "metadata": {},
   "outputs": [],
   "source": []
  }
 ],
 "metadata": {
  "kernelspec": {
   "display_name": "Python 3 (ipykernel)",
   "language": "python",
   "name": "python3"
  },
  "language_info": {
   "codemirror_mode": {
    "name": "ipython",
    "version": 3
   },
   "file_extension": ".py",
   "mimetype": "text/x-python",
   "name": "python",
   "nbconvert_exporter": "python",
   "pygments_lexer": "ipython3",
   "version": "3.10.12"
  }
 },
 "nbformat": 4,
 "nbformat_minor": 5
}
