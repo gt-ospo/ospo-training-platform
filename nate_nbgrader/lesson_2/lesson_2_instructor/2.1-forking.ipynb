{
 "cells": [
  {
   "cell_type": "markdown",
   "id": "09579c32-259f-4add-a526-c3d14172b2d1",
   "metadata": {
    "nbgrader": {
     "grade": false,
     "grade_id": "cell-85d24356162c01b9",
     "locked": true,
     "schema_version": 3,
     "solution": false,
     "task": false
    }
   },
   "source": [
    "## Forking a Repository\n",
    "\n",
    "A **fork** is a copy of another repository that:\n",
    "\n",
    "- Shares the history of the original repository, where the original repository is called the **upstream**.\n",
    "- Is linked to the original for the purposes of **pull requests**\n",
    "\n",
    "A fork allows you to make changes to a project **without affecting the upstream**. When you're ready to propose an update to the upstream project, you can subimt a pull request.\n",
    "\n",
    "A fork operates exactly like any other repo and can have separate Git tasks done to them. For this lesson, you will create a fork to work with."
   ]
  },
  {
   "cell_type": "markdown",
   "id": "e1c19aaf-1a77-4235-b0be-6e68fc4cff74",
   "metadata": {
    "nbgrader": {
     "grade": false,
     "grade_id": "cell-c2f8c6b5d66d1ee1",
     "locked": true,
     "schema_version": 3,
     "solution": false,
     "task": false
    }
   },
   "source": [
    "----------------------------------------------------------------------------------------------------------\n",
    "To start at this lesson, we will **fork** the repo from this link: \n",
    "\n",
    "https://github.com/gt-ospo/oss-training-templates\n",
    "\n",
    "**Important:** Clone your fork directly into the folder of the lesson you're working in now. Make sure to use **SSH** to clone, after inserting your Github SSH key into your JupyterHub server."
   ]
  },
  {
   "cell_type": "code",
   "execution_count": null,
   "id": "0b9d71f1-0dc5-47de-b305-de64f0531b39",
   "metadata": {
    "nbgrader": {
     "grade": true,
     "grade_id": "cell-d9a7e2689b6d01f5",
     "locked": true,
     "points": 5,
     "schema_version": 3,
     "solution": false,
     "task": false
    }
   },
   "outputs": [],
   "source": [
    "import os\n",
    "import shutil\n",
    "\n",
    "cwd = os.getcwd()\n",
    "repo_dir = os.path.join(cwd, \"oss-training-templates\")\n",
    "\n",
    "# Check if the .git directory exists, which indicates a git repo was created\n",
    "try:\n",
    "    assert(os.path.isdir(os.path.join(repo_dir, \".git\")))\n",
    "except AssertionError as e:\n",
    "    # Clean up the test directory\n",
    "    if os.path.exists(repo_dir):\n",
    "        shutil.rmtree(repo_dir)\n",
    "    print(f\"Error: {e}\")\n",
    "\n",
    "os.chdir(\"oss-training-templates\")"
   ]
  },
  {
   "cell_type": "markdown",
   "id": "fea9720e-1214-4546-86a6-c5f127cb48a2",
   "metadata": {
    "nbgrader": {
     "grade": false,
     "grade_id": "cell-0a6a9a1559c00e9a",
     "locked": true,
     "schema_version": 3,
     "solution": false,
     "task": false
    }
   },
   "source": [
    "**NOTE:** Cells below like this save the state of your git repository as a **checkpoint** to revert back to in case of an error. Cells like this will appear at the end of each sublesson for you to save the git state at the end of it.\n",
    "\n",
    "Make sure to only save the checkpoint for a sublesson when you've **passed** all the test cells in that respective sublesson."
   ]
  },
  {
   "cell_type": "code",
   "execution_count": null,
   "id": "95ecd573-ed31-403e-8427-0148140f9e2d",
   "metadata": {
    "nbgrader": {
     "grade": false,
     "grade_id": "cell-9c5e4f117a29b2d1",
     "locked": true,
     "schema_version": 3,
     "solution": false,
     "task": false
    }
   },
   "outputs": [],
   "source": [
    "from git_state_manager import save_git_checkpoint\n",
    "print(save_git_checkpoint(\"lesson_2_1\"))"
   ]
  },
  {
   "cell_type": "code",
   "execution_count": null,
   "id": "7c522896-0c1b-43bc-be92-1af560a359b4",
   "metadata": {},
   "outputs": [],
   "source": []
  }
 ],
 "metadata": {
  "kernelspec": {
   "display_name": "Python 3 (ipykernel)",
   "language": "python",
   "name": "python3"
  },
  "language_info": {
   "codemirror_mode": {
    "name": "ipython",
    "version": 3
   },
   "file_extension": ".py",
   "mimetype": "text/x-python",
   "name": "python",
   "nbconvert_exporter": "python",
   "pygments_lexer": "ipython3",
   "version": "3.10.12"
  }
 },
 "nbformat": 4,
 "nbformat_minor": 5
}
