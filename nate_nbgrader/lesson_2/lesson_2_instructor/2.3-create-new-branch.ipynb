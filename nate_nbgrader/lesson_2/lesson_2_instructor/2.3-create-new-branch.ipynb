{
 "cells": [
  {
   "cell_type": "markdown",
   "id": "670106e6-51f5-4ac4-af2f-9b6f57d17aab",
   "metadata": {
    "nbgrader": {
     "grade": false,
     "grade_id": "cell-5f1c152c6c9c0335",
     "locked": true,
     "schema_version": 3,
     "solution": false,
     "task": false
    }
   },
   "source": [
    "## Lesson 2.3: Changes to a New Branch"
   ]
  },
  {
   "cell_type": "code",
   "execution_count": null,
   "id": "81a3519f-601b-4061-abfc-f2d068233060",
   "metadata": {
    "nbgrader": {
     "grade": false,
     "grade_id": "cell-6d7da5bb7319ce16",
     "locked": true,
     "schema_version": 3,
     "solution": false,
     "task": false
    }
   },
   "outputs": [],
   "source": [
    "import os\n",
    "from git_state_manager import load_git_state\n",
    "%load_ext git_magics\n",
    "os.chdir(\"oss-training-templates\")"
   ]
  },
  {
   "cell_type": "code",
   "execution_count": null,
   "id": "30757794-9299-482b-9ffb-71351029c68f",
   "metadata": {
    "nbgrader": {
     "grade": false,
     "grade_id": "cell-a5e5ed44de809733",
     "locked": true,
     "schema_version": 3,
     "solution": false,
     "task": false
    }
   },
   "outputs": [],
   "source": [
    "from git_state_manager import restore_git_checkpoint\n",
    "print(restore_git_checkpoint(\"lesson_2_2\"))"
   ]
  },
  {
   "cell_type": "markdown",
   "id": "5ba3fac5-7369-4cce-9f7b-12c1e9e50df9",
   "metadata": {
    "nbgrader": {
     "grade": false,
     "grade_id": "cell-9cb60406779d5e5f",
     "locked": true,
     "schema_version": 3,
     "solution": false,
     "task": false
    }
   },
   "source": [
    "### Task 1\n",
    "Create a new branch called `types`"
   ]
  },
  {
   "cell_type": "code",
   "execution_count": null,
   "id": "a936f41f-8ad8-4a74-9c34-2b14852904fb",
   "metadata": {
    "nbgrader": {
     "grade": false,
     "grade_id": "cell-ecef23ba45da8faf",
     "locked": false,
     "schema_version": 3,
     "solution": true,
     "task": false
    }
   },
   "outputs": [],
   "source": [
    "%%save_git_state git_state_2_3.json test_1\n",
    "\n",
    "### BEGIN SOLUTION\n",
    "git checkout -b types\n",
    "### END SOLUTION"
   ]
  },
  {
   "cell_type": "code",
   "execution_count": null,
   "id": "2264e17e-9a97-4817-a051-9ea63a37a11d",
   "metadata": {
    "nbgrader": {
     "grade": true,
     "grade_id": "cell-f5e3b82ce32eae50",
     "locked": true,
     "points": 5,
     "schema_version": 3,
     "solution": false,
     "task": false
    }
   },
   "outputs": [],
   "source": [
    "git_state = load_git_state(\"git_state_2_3.json\", \"test_1\")\n",
    "\n",
    "expected_branch = \"types\"\n",
    "assert git_state[\"branch\"] == expected_branch, f\"Expected branch: '{expected_branch}', found: '{git_state['branch']}'\""
   ]
  },
  {
   "cell_type": "markdown",
   "id": "7e7e8505-d3d4-4819-91ef-4a06a7355631",
   "metadata": {
    "nbgrader": {
     "grade": false,
     "grade_id": "cell-af85df81c77aa983",
     "locked": true,
     "schema_version": 3,
     "solution": false,
     "task": false
    }
   },
   "source": [
    "### Task 2\n",
    "1. Replace the content in `my_abs.py` to the contents in the cell below\n",
    "2. Commit the changes to the `types` branch with the message: \"Using type checks\", then checkout back to the `main` branch"
   ]
  },
  {
   "cell_type": "code",
   "execution_count": null,
   "id": "76927e7c-4662-43c2-ae1b-30ee82f4755f",
   "metadata": {
    "nbgrader": {
     "grade": false,
     "grade_id": "cell-d722b6370abf023d",
     "locked": true,
     "schema_version": 3,
     "solution": false,
     "task": false
    }
   },
   "outputs": [],
   "source": [
    "import math\n",
    "import numbers\n",
    "\n",
    "def my_abs(x):\n",
    "    if isinstance(x, numbers.Real):\n",
    "        if x < 0:\n",
    "            return -x\n",
    "        else:\n",
    "            return x\n",
    "    elif isinstance(x, numbers.Complex):\n",
    "        return math.sqrt(\n",
    "            x.real ** 2 + x.imag ** 2)\n",
    "    else:\n",
    "        return math.nan"
   ]
  },
  {
   "cell_type": "code",
   "execution_count": null,
   "id": "5782206a-8893-4f0c-a2d8-71dc3dac6336",
   "metadata": {
    "nbgrader": {
     "grade": false,
     "grade_id": "cell-da337ea02d35b018",
     "locked": false,
     "schema_version": 3,
     "solution": true,
     "task": false
    }
   },
   "outputs": [],
   "source": [
    "%%save_git_state git_state_2_3.json test_2\n",
    "\n",
    "### BEGIN SOLUTION\n",
    "git commit -am \"Using type checks\"\n",
    "git checkout main\n",
    "### END SOLUTION"
   ]
  },
  {
   "cell_type": "code",
   "execution_count": null,
   "id": "01615cbe-ae9f-4bd2-ae81-6b99a6e73366",
   "metadata": {
    "nbgrader": {
     "grade": true,
     "grade_id": "cell-3a72b029249a53e7",
     "locked": true,
     "points": 5,
     "schema_version": 3,
     "solution": false,
     "task": false
    }
   },
   "outputs": [],
   "source": [
    "git_state = load_git_state(\"git_state_2_3.json\", \"test_2\")\n",
    "\n",
    "expected_branch = \"main\"\n",
    "assert git_state[\"branch\"] == expected_branch, f\"Expected branch: '{expected_branch}', found: '{git_state['branch']}'\""
   ]
  },
  {
   "cell_type": "code",
   "execution_count": null,
   "id": "7390d688-0e9e-4c8b-ab0e-073cf2768328",
   "metadata": {
    "nbgrader": {
     "grade": false,
     "grade_id": "cell-c0c90aa7423cbb65",
     "locked": true,
     "schema_version": 3,
     "solution": false,
     "task": false
    }
   },
   "outputs": [],
   "source": [
    "from git_state_manager import save_git_checkpoint\n",
    "print(save_git_checkpoint(\"lesson_2_3\"))"
   ]
  },
  {
   "cell_type": "code",
   "execution_count": null,
   "id": "cf06c684-7f67-4f73-92c0-dd3e32f1892d",
   "metadata": {},
   "outputs": [],
   "source": []
  }
 ],
 "metadata": {
  "kernelspec": {
   "display_name": "Python 3 (ipykernel)",
   "language": "python",
   "name": "python3"
  },
  "language_info": {
   "codemirror_mode": {
    "name": "ipython",
    "version": 3
   },
   "file_extension": ".py",
   "mimetype": "text/x-python",
   "name": "python",
   "nbconvert_exporter": "python",
   "pygments_lexer": "ipython3",
   "version": "3.10.12"
  }
 },
 "nbformat": 4,
 "nbformat_minor": 5
}
