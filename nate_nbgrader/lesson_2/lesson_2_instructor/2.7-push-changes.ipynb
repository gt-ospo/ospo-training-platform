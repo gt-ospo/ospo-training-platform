{
 "cells": [
  {
   "cell_type": "markdown",
   "id": "3ba3e28f-d956-4c05-b6e0-b118adddfc81",
   "metadata": {
    "nbgrader": {
     "grade": false,
     "grade_id": "cell-f532bca59e489ef2",
     "locked": true,
     "schema_version": 3,
     "solution": false,
     "task": false
    }
   },
   "source": [
    "Push your changes to your repo"
   ]
  },
  {
   "cell_type": "code",
   "execution_count": 1,
   "id": "0426d9a9-fccd-4a3f-a664-fc19daa249b2",
   "metadata": {
    "nbgrader": {
     "grade": false,
     "grade_id": "cell-a4af0d9de90c5fb1",
     "locked": true,
     "schema_version": 3,
     "solution": false,
     "task": false
    }
   },
   "outputs": [],
   "source": [
    "import os\n",
    "from git_state_manager import save_git_state, load_git_state\n",
    "os.chdir(\"oss-training-templates\")"
   ]
  },
  {
   "cell_type": "code",
   "execution_count": 3,
   "id": "429978db-0cf1-4783-ab55-478e73ccac3f",
   "metadata": {
    "nbgrader": {
     "grade": false,
     "grade_id": "cell-10ec06048db44e1d",
     "locked": false,
     "schema_version": 3,
     "solution": true,
     "task": false
    }
   },
   "outputs": [
    {
     "name": "stdout",
     "output_type": "stream",
     "text": [
      "['To github.com:natekim27/oss-training-templates.git', '   b431e75..00f3b7e  main -> main']\n",
      "---------------------------------------------------------------------\n",
      "Saved git state for test_1.\n"
     ]
    }
   ],
   "source": [
    "def perform_push():\n",
    "    ### BEGIN SOLUTION\n",
    "    command = !git push\n",
    "    ### END SOLUTION\n",
    "    \n",
    "    return command\n",
    "\n",
    "print(perform_push())\n",
    "print(\"---------------------------------------------------------------------\\n\" + save_git_state(\"git_state_2_7.json\", \"test_1\"))"
   ]
  },
  {
   "cell_type": "code",
   "execution_count": 5,
   "id": "2b2d8fc5-e756-4d5d-83bb-b9acf5105f05",
   "metadata": {
    "nbgrader": {
     "grade": true,
     "grade_id": "cell-20ca29bf152f6737",
     "locked": true,
     "points": 4,
     "schema_version": 3,
     "solution": false,
     "task": false
    }
   },
   "outputs": [],
   "source": [
    "git_state = load_git_state(\"git_state_2_7.json\", \"test_1\")\n",
    "\n",
    "assert \"remote_commit\" in git_state, \"Remote commit info was not saved. Ensure `save_git_state()` includes remote data.\"\n",
    "local_commit = git_state[\"commit\"][:7]\n",
    "remote_commit = git_state[\"remote_commit\"]\n",
    "\n",
    "assert local_commit == remote_commit, f\"Push failed: local commit '{local_commit}' does not match remote commit '{remote_commit}'\""
   ]
  },
  {
   "cell_type": "code",
   "execution_count": null,
   "id": "f088bfa2-a6e1-4d11-8ce4-bdc9f51aea19",
   "metadata": {},
   "outputs": [],
   "source": []
  }
 ],
 "metadata": {
  "kernelspec": {
   "display_name": "Python 3 (ipykernel)",
   "language": "python",
   "name": "python3"
  },
  "language_info": {
   "codemirror_mode": {
    "name": "ipython",
    "version": 3
   },
   "file_extension": ".py",
   "mimetype": "text/x-python",
   "name": "python",
   "nbconvert_exporter": "python",
   "pygments_lexer": "ipython3",
   "version": "3.10.12"
  }
 },
 "nbformat": 4,
 "nbformat_minor": 5
}
