{
 "cells": [
  {
   "cell_type": "code",
   "execution_count": null,
   "id": "aa67c5fc-9696-4d63-952a-330c8b028bf9",
   "metadata": {
    "nbgrader": {
     "grade": false,
     "grade_id": "cell-7fd30e6000cdc256",
     "locked": true,
     "schema_version": 3,
     "solution": false,
     "task": false
    }
   },
   "outputs": [],
   "source": [
    "'''\n",
    "OSS Module 1 - Git Basics\n",
    "\n",
    "Notes: \n",
    "- This notebook will require you to add an SSH key to your Github account to permit commands such as 'git clone'.\n",
    "- This notebook requires a fresh remote repo to be recreated when doing a full runthrough and when autograding.\n",
    "- When typing in your commands in the cells with 'TODO's, enter a '!' before each command (ex: !git status), or a '%' for 'cd' commands (ex: %cd ~/git-workflow)\n",
    "'''"
   ]
  },
  {
   "cell_type": "code",
   "execution_count": 126,
   "id": "61eb79cc-ac4d-4dd4-b21b-f1c5e69e1fec",
   "metadata": {
    "nbgrader": {
     "grade": false,
     "grade_id": "cell-8ae3a52298ab010d",
     "locked": true,
     "schema_version": 3,
     "solution": false,
     "task": false
    }
   },
   "outputs": [],
   "source": [
    "import os\n",
    "import shutil\n",
    "\n",
    "repo_dir = os.path.expanduser(\"~/git-workflow\")\n",
    "\n",
    "# Clean up any previous test runs\n",
    "if os.path.exists(repo_dir):\n",
    "    shutil.rmtree(repo_dir)"
   ]
  },
  {
   "cell_type": "code",
   "execution_count": null,
   "id": "8ef6993f-396b-4185-8912-a486eab8f269",
   "metadata": {
    "nbgrader": {
     "grade": false,
     "grade_id": "cell-8a7acba017ceacaf",
     "locked": true,
     "schema_version": 3,
     "solution": false,
     "task": false
    }
   },
   "outputs": [],
   "source": [
    "'''\n",
    "Section 4.1: Creating a repo and committing files\n",
    "'''"
   ]
  },
  {
   "cell_type": "code",
   "execution_count": 127,
   "id": "719316b5-db0b-4710-a9aa-0aab1fa002ed",
   "metadata": {},
   "outputs": [
    {
     "name": "stdout",
     "output_type": "stream",
     "text": [
      "/home/nkim337/git-workflow\n",
      "\u001b[33mhint: Using 'master' as the name for the initial branch. This default branch name\u001b[m\n",
      "\u001b[33mhint: is subject to change. To configure the initial branch name to use in all\u001b[m\n",
      "\u001b[33mhint: of your new repositories, which will suppress this warning, call:\u001b[m\n",
      "\u001b[33mhint: \u001b[m\n",
      "\u001b[33mhint: \tgit config --global init.defaultBranch <name>\u001b[m\n",
      "\u001b[33mhint: \u001b[m\n",
      "\u001b[33mhint: Names commonly chosen instead of 'master' are 'main', 'trunk' and\u001b[m\n",
      "\u001b[33mhint: 'development'. The just-created branch can be renamed via this command:\u001b[m\n",
      "\u001b[33mhint: \u001b[m\n",
      "\u001b[33mhint: \tgit branch -m <name>\u001b[m\n",
      "Initialized empty Git repository in /home/nkim337/git-workflow/.git/\n"
     ]
    }
   ],
   "source": [
    "'''\n",
    "1. Creating a local repo\n",
    "'''\n",
    "\n",
    "# TODO: Enter commands for git init\n",
    "!mkdir ~/git-workflow\n",
    "%cd ~/git-workflow\n",
    "!git init"
   ]
  },
  {
   "cell_type": "code",
   "execution_count": 128,
   "id": "ccfb7953-37aa-42f2-ba24-c2c9b19b9583",
   "metadata": {
    "nbgrader": {
     "grade": true,
     "grade_id": "cell-fe2e2c496cd54ed5",
     "locked": true,
     "points": 5,
     "schema_version": 3,
     "solution": false,
     "task": false
    }
   },
   "outputs": [],
   "source": [
    "'''\n",
    "1. Autograder Test\n",
    "'''\n",
    "\n",
    "# Check if the .git directory exists, which indicates a git repo was created\n",
    "try:\n",
    "    assert(os.path.isdir(os.path.join(repo_dir, \".git\")))\n",
    "except AssertionError as e:\n",
    "    # Clean up the test directory\n",
    "    if os.path.exists(repo_dir):\n",
    "        shutil.rmtree(repo_dir)\n",
    "    print(f\"Error: {e}\")\n"
   ]
  },
  {
   "cell_type": "code",
   "execution_count": 129,
   "id": "b8554fa7-8902-4822-8bce-726ad301e85f",
   "metadata": {
    "nbgrader": {
     "grade": false,
     "grade_id": "cell-2f95be7923401b39",
     "locked": true,
     "schema_version": 3,
     "solution": false,
     "task": false
    }
   },
   "outputs": [],
   "source": [
    "# Create files if not existing in directory yet\n",
    "files_and_contents = [\n",
    "    (\"README.md\", \"# Git Workflow\\n\\nThis is an example repo for the GT OSPO VSIP Summer 2024 Program.\"),\n",
    "    (\"my_abs.py\", \"def my_abs(x):\\n    if x < 0:\\n        return -x\\n    else:\\n        return x\\n\")\n",
    "]\n",
    "\n",
    "for file_name, content in files_and_contents:\n",
    "    file_path = os.path.join(repo_dir, file_name)\n",
    "    if not os.path.exists(file_path):\n",
    "        with open(file_path, 'w') as file:\n",
    "            file.write(content)"
   ]
  },
  {
   "cell_type": "code",
   "execution_count": 130,
   "id": "ffa45384-c59c-46cb-a7c2-b063584c59be",
   "metadata": {},
   "outputs": [],
   "source": [
    "'''\n",
    "2. Show the state of the working tree\n",
    "'''\n",
    "\n",
    "# TODO: Enter command for git status\n",
    "status_output = !git status"
   ]
  },
  {
   "cell_type": "code",
   "execution_count": 131,
   "id": "95e77e62-1c47-4071-8d8e-7ee506e1f2b7",
   "metadata": {
    "nbgrader": {
     "grade": true,
     "grade_id": "cell-9092a4ac46ad9788",
     "locked": true,
     "points": 5,
     "schema_version": 3,
     "solution": false,
     "task": false
    }
   },
   "outputs": [],
   "source": [
    "'''\n",
    "2. Autograder Test\n",
    "'''\n",
    "\n",
    "expected_strings = ['No commits yet', 'Untracked files:', '(use \"git add <file>...\" to include in what will be committed)', 'README.md', 'my_abs.py']\n",
    "assert(all(any(expected_string in line for line in status_output) for expected_string in expected_strings))"
   ]
  },
  {
   "cell_type": "code",
   "execution_count": 132,
   "id": "38e7eebe-5f6b-409e-94ea-7b4c80a0e60f",
   "metadata": {},
   "outputs": [],
   "source": [
    "'''\n",
    "3. Stage new changes\n",
    "'''\n",
    "\n",
    "# TODO: Enter command for git add\n",
    "!git add README.md my_abs.py"
   ]
  },
  {
   "cell_type": "code",
   "execution_count": 133,
   "id": "d8b92025-1025-4421-aeeb-e1d716932cec",
   "metadata": {
    "nbgrader": {
     "grade": true,
     "grade_id": "cell-b790a132d4e99406",
     "locked": true,
     "points": 5,
     "schema_version": 3,
     "solution": false,
     "task": false
    }
   },
   "outputs": [],
   "source": [
    "'''\n",
    "3. Autograder Test\n",
    "'''\n",
    "\n",
    "output = !git status\n",
    "expected_strings = ['No commits yet', 'Changes to be committed:', '  (use \"git rm --cached <file>...\" to unstage)', 'README.md', 'my_abs.py']\n",
    "assert(all(any(expected_string in line for line in output) for expected_string in expected_strings))"
   ]
  },
  {
   "cell_type": "code",
   "execution_count": 134,
   "id": "8c6f3edc-1981-4ae9-9d7a-baf186ff9732",
   "metadata": {},
   "outputs": [
    {
     "name": "stdout",
     "output_type": "stream",
     "text": [
      "[master (root-commit) a3f7f30] First commit of my_abs (no try/except yet)\n",
      " Committer: Nathaniel E Kim <nkim337@horizons-research.cc.gatech.edu>\n",
      "Your name and email address were configured automatically based\n",
      "on your username and hostname. Please check that they are accurate.\n",
      "You can suppress this message by setting them explicitly. Run the\n",
      "following command and follow the instructions in your editor to edit\n",
      "your configuration file:\n",
      "\n",
      "    git config --global --edit\n",
      "\n",
      "After doing this, you may fix the identity used for this commit with:\n",
      "\n",
      "    git commit --amend --reset-author\n",
      "\n",
      " 2 files changed, 8 insertions(+)\n",
      " create mode 100644 README.md\n",
      " create mode 100644 my_abs.py\n"
     ]
    }
   ],
   "source": [
    "'''\n",
    "4. Updating the database\n",
    "'''\n",
    "\n",
    "# TODO: Enter command for git commit\n",
    "!git commit -m \"First commit of my_abs (no try/except yet)\""
   ]
  },
  {
   "cell_type": "code",
   "execution_count": 135,
   "id": "8c49a5c1-1cc3-4966-891d-ba4d972b725b",
   "metadata": {
    "nbgrader": {
     "grade": true,
     "grade_id": "cell-c42c17e33f659aaf",
     "locked": true,
     "points": 5,
     "schema_version": 3,
     "solution": false,
     "task": false
    }
   },
   "outputs": [],
   "source": [
    "'''\n",
    "4. Autograder Test\n",
    "'''\n",
    "\n",
    "output = !git log\n",
    "expected_strings = ['commit', 'First commit of my_abs (no try/except yet)']\n",
    "assert(all(any(expected_string in line for line in output) for expected_string in expected_strings))\n",
    "assert(len(output[0]) == 47)"
   ]
  },
  {
   "cell_type": "code",
   "execution_count": null,
   "id": "1c33b263-b112-4f9a-b2df-171f3b441ffe",
   "metadata": {
    "nbgrader": {
     "grade": false,
     "grade_id": "cell-fea0b667160a75ef",
     "locked": true,
     "schema_version": 3,
     "solution": false,
     "task": false
    }
   },
   "outputs": [],
   "source": [
    "'''\n",
    "Section 4.2: Working with remotes\n",
    "'''"
   ]
  },
  {
   "cell_type": "code",
   "execution_count": 136,
   "id": "db1b57ad-baba-493c-bd8d-eee1f77d7094",
   "metadata": {},
   "outputs": [],
   "source": [
    "'''\n",
    "5. Add and manage remotes\n",
    "'''\n",
    "\n",
    "# TODO: Enter commands for git remote\n",
    "!git remote add origin git@github.com:natekim27/git-workflow.git\n",
    "remote_v_output = !git remote -v\n",
    "\n",
    "# TODO: Insert your repo URL here for the autograder test\n",
    "repo_url = \"git@github.com:natekim27/git-workflow.git\""
   ]
  },
  {
   "cell_type": "code",
   "execution_count": 137,
   "id": "bc2411e1-c712-49da-b640-cf222c029724",
   "metadata": {
    "nbgrader": {
     "grade": true,
     "grade_id": "cell-4bfad76d2ca25c38",
     "locked": true,
     "points": 5,
     "schema_version": 3,
     "solution": false,
     "task": false
    }
   },
   "outputs": [],
   "source": [
    "'''\n",
    "5. Autograder Test\n",
    "'''\n",
    "\n",
    "expected_strings = [\"origin\\t\" + repo_url + \" (fetch)\", \"origin\\t\"+ repo_url + \" (push)\"]\n",
    "assert(all(any(expected_string in line for line in remote_v_output) for expected_string in expected_strings))"
   ]
  },
  {
   "cell_type": "code",
   "execution_count": 139,
   "id": "1d09ab3e-83f6-46c2-80a2-d9a7753c4e6a",
   "metadata": {},
   "outputs": [
    {
     "name": "stdout",
     "output_type": "stream",
     "text": [
      "Enumerating objects: 4, done.\n",
      "Counting objects: 100% (4/4), done.\n",
      "Compressing objects: 100% (4/4), done.\n",
      "Writing objects: 100% (4/4), 426 bytes | 213.00 KiB/s, done.\n",
      "Total 4 (delta 0), reused 0 (delta 0), pack-reused 0\n",
      "To github.com:natekim27/git-workflow.git\n",
      " * [new branch]      master -> master\n",
      "Branch 'master' set up to track remote branch 'master' from 'origin'.\n"
     ]
    }
   ],
   "source": [
    "'''\n",
    "6. Upload to the remote repo\n",
    "'''\n",
    "\n",
    "# TODO: Enter command for git push\n",
    "!git push -u origin master"
   ]
  },
  {
   "cell_type": "code",
   "execution_count": 140,
   "id": "081a7bb8-701d-4d69-b4b0-0183ed8279fb",
   "metadata": {
    "nbgrader": {
     "grade": true,
     "grade_id": "cell-9bb07b0e1db8593c",
     "locked": true,
     "points": 5,
     "schema_version": 3,
     "solution": false,
     "task": false
    }
   },
   "outputs": [],
   "source": [
    "'''\n",
    "6. Autograder Test\n",
    "'''\n",
    "\n",
    "status_output = !git status\n",
    "expected_strings = [\"Your branch is up to date with 'origin/master'.\", 'nothing to commit, working tree clean']\n",
    "assert(all(any(expected_string in line for line in status_output) for expected_string in expected_strings))\n",
    "\n",
    "log_output = !git log origin/master..master\n",
    "assert(log_output == [])\n",
    "\n",
    "!git fetch origin\n",
    "compare_output = !git rev-parse HEAD\n",
    "remote_head = !git rev-parse origin/master\n",
    "assert(compare_output[0] == remote_head[0])"
   ]
  },
  {
   "cell_type": "code",
   "execution_count": null,
   "id": "9f25aeca-0454-4492-94fb-678379135fdd",
   "metadata": {
    "nbgrader": {
     "grade": false,
     "grade_id": "cell-7c02d8c90b95d4ea",
     "locked": true,
     "schema_version": 3,
     "solution": false,
     "task": false
    }
   },
   "outputs": [],
   "source": [
    "'''\n",
    "Section 4.3: Downloading a repo\n",
    "'''"
   ]
  },
  {
   "cell_type": "code",
   "execution_count": 141,
   "id": "7c27e21f-5ca1-498c-bde9-9cbf831c8b03",
   "metadata": {
    "nbgrader": {
     "grade": false,
     "grade_id": "cell-029383cb944fbfb2",
     "locked": true,
     "schema_version": 3,
     "solution": false,
     "task": false
    }
   },
   "outputs": [],
   "source": [
    "repo_dir = os.path.expanduser(\"~/somewhere-else\")\n",
    "\n",
    "# Clean up any previous test runs\n",
    "if os.path.exists(repo_dir):\n",
    "    shutil.rmtree(repo_dir)"
   ]
  },
  {
   "cell_type": "code",
   "execution_count": 142,
   "id": "a7251dc1-e7b6-4195-8390-f9972048c9f2",
   "metadata": {},
   "outputs": [
    {
     "name": "stdout",
     "output_type": "stream",
     "text": [
      "/home/nkim337/somewhere-else\n",
      "Cloning into 'git-workflow'...\n",
      "remote: Enumerating objects: 4, done.\u001b[K\n",
      "remote: Counting objects: 100% (4/4), done.\u001b[K\n",
      "remote: Compressing objects: 100% (4/4), done.\u001b[K\n",
      "remote: Total 4 (delta 0), reused 4 (delta 0), pack-reused 0 (from 0)\u001b[K\n",
      "Receiving objects: 100% (4/4), done.\n"
     ]
    }
   ],
   "source": [
    "'''\n",
    "7. Download a repo\n",
    "'''\n",
    "\n",
    "# TODO: Enter commands for git clone\n",
    "!mkdir ~/somewhere-else\n",
    "%cd ~/somewhere-else\n",
    "!git clone git@github.com:natekim27/git-workflow.git"
   ]
  },
  {
   "cell_type": "code",
   "execution_count": 143,
   "id": "5a83cb35-084d-4558-aca6-8df8a986dfba",
   "metadata": {
    "nbgrader": {
     "grade": true,
     "grade_id": "cell-26c08752fb7b47d1",
     "locked": true,
     "points": 5,
     "schema_version": 3,
     "solution": false,
     "task": false
    }
   },
   "outputs": [],
   "source": [
    "'''\n",
    "7. Autograder Test\n",
    "'''\n",
    "\n",
    "try:\n",
    "    assert(os.path.isdir(os.path.join(repo_dir, \"git-workflow/.git\")))\n",
    "except AssertionError as e:\n",
    "    # Clean up the test directory\n",
    "    if os.path.exists(repo_dir):\n",
    "        shutil.rmtree(repo_dir)\n",
    "    print(f\"Error: {e}\")"
   ]
  },
  {
   "cell_type": "code",
   "execution_count": null,
   "id": "0a9a4fc1-3604-4703-8648-3cfd2dc2bdf4",
   "metadata": {
    "nbgrader": {
     "grade": false,
     "grade_id": "cell-a0e6b007c5e705bb",
     "locked": true,
     "schema_version": 3,
     "solution": false,
     "task": false
    }
   },
   "outputs": [],
   "source": [
    "'''\n",
    "Section 4.4: Adding more changes\n",
    "'''"
   ]
  },
  {
   "cell_type": "code",
   "execution_count": 144,
   "id": "73fed30c-5041-43e4-91b5-1c01a2223d7c",
   "metadata": {
    "nbgrader": {
     "grade": false,
     "grade_id": "cell-2e272dc6b79a3246",
     "locked": true,
     "schema_version": 3,
     "solution": false,
     "task": false
    }
   },
   "outputs": [
    {
     "name": "stdout",
     "output_type": "stream",
     "text": [
      "/home/nkim337/git-workflow\n"
     ]
    }
   ],
   "source": [
    "%cd ~/git-workflow\n",
    "\n",
    "expected_content = \"\"\"import math\n",
    "\n",
    "def my_abs(x):\n",
    "    try:\n",
    "        if x < 0:\n",
    "            return -x\n",
    "        else:\n",
    "            return x\n",
    "    except TypeError:\n",
    "        return math.nan\n",
    "\"\"\"\n",
    "file_path = os.path.expanduser(\"~/git-workflow/my_abs.py\")\n",
    "current_content = ''\n",
    "if os.path.exists(file_path):\n",
    "    with open(file_path, 'r') as file:\n",
    "        current_content = file.read()\n",
    "\n",
    "if current_content != expected_content:\n",
    "    with open(file_path, 'w') as file:\n",
    "        file.write(expected_content)"
   ]
  },
  {
   "cell_type": "code",
   "execution_count": 145,
   "id": "1cdf5fc9-6bf1-417d-b5d3-e4e0508aacf4",
   "metadata": {},
   "outputs": [],
   "source": [
    "'''\n",
    "8. Show changes in modified files\n",
    "'''\n",
    "\n",
    "# TODO: Enter command for git diff\n",
    "diff_output = !git diff"
   ]
  },
  {
   "cell_type": "code",
   "execution_count": 146,
   "id": "3df08bfe-344e-43f9-a410-5ee4da612b6f",
   "metadata": {
    "nbgrader": {
     "grade": true,
     "grade_id": "cell-a6db745920e36531",
     "locked": true,
     "points": 5,
     "schema_version": 3,
     "solution": false,
     "task": false
    }
   },
   "outputs": [],
   "source": [
    "'''\n",
    "8. Autograder Test\n",
    "'''\n",
    "\n",
    "expected_strings = ['diff --git a/my_abs.py b/my_abs.py',\n",
    "                    '--- a/my_abs.py',\n",
    "                    '+++ b/my_abs.py',\n",
    "                    '+import math', '+',\n",
    "                    ' def my_abs(x):',\n",
    "                    '-    if x < 0:',\n",
    "                    '-        return -x',\n",
    "                    '-    else:',\n",
    "                    '-        return x',\n",
    "                    '+    try:',\n",
    "                    '+        if x < 0:',\n",
    "                    '+            return -x',\n",
    "                    '+        else:',\n",
    "                    '+            return x',\n",
    "                    '+    except TypeError:',\n",
    "                    '+        return math.nan']\n",
    "\n",
    "assert(all(any(expected_string in line for line in diff_output) for expected_string in expected_strings))"
   ]
  },
  {
   "cell_type": "code",
   "execution_count": 147,
   "id": "f579fda2-8cdd-488c-ae3a-01c774659319",
   "metadata": {},
   "outputs": [
    {
     "name": "stdout",
     "output_type": "stream",
     "text": [
      "[master 101d6db] Added try except\n",
      " Committer: Nathaniel E Kim <nkim337@horizons-research.cc.gatech.edu>\n",
      "Your name and email address were configured automatically based\n",
      "on your username and hostname. Please check that they are accurate.\n",
      "You can suppress this message by setting them explicitly. Run the\n",
      "following command and follow the instructions in your editor to edit\n",
      "your configuration file:\n",
      "\n",
      "    git config --global --edit\n",
      "\n",
      "After doing this, you may fix the identity used for this commit with:\n",
      "\n",
      "    git commit --amend --reset-author\n",
      "\n",
      " 1 file changed, 9 insertions(+), 4 deletions(-)\n",
      "Enumerating objects: 5, done.\n",
      "Counting objects: 100% (5/5), done.\n",
      "Compressing objects: 100% (3/3), done.\n",
      "Writing objects: 100% (3/3), 398 bytes | 199.00 KiB/s, done.\n",
      "Total 3 (delta 0), reused 0 (delta 0), pack-reused 0\n",
      "To github.com:natekim27/git-workflow.git\n",
      "   a3f7f30..101d6db  master -> master\n"
     ]
    }
   ],
   "source": [
    "'''\n",
    "9. Staging and committing & Pushing to remote\n",
    "'''\n",
    "\n",
    "# TODO: Enter commands for git commit and git push\n",
    "!git commit -am \"Added try except\"\n",
    "!git push"
   ]
  },
  {
   "cell_type": "code",
   "execution_count": 148,
   "id": "60dee9bc-4e21-4736-9419-23caf83ac334",
   "metadata": {
    "nbgrader": {
     "grade": true,
     "grade_id": "cell-d45b92f7fda30b83",
     "locked": true,
     "points": 5,
     "schema_version": 3,
     "solution": false,
     "task": false
    }
   },
   "outputs": [],
   "source": [
    "'''\n",
    "9. Autograder Test\n",
    "'''\n",
    "\n",
    "status_output = !git status\n",
    "expected_strings = [\"Your branch is up to date with 'origin/master'.\", 'nothing to commit, working tree clean']\n",
    "assert(all(any(expected_string in line for line in status_output) for expected_string in expected_strings))\n",
    "\n",
    "log_output = !git log origin/master..master\n",
    "assert(log_output == [])\n",
    "\n",
    "!git fetch origin\n",
    "compare_output = !git rev-parse HEAD\n",
    "remote_head = !git rev-parse origin/master\n",
    "assert(compare_output[0] == remote_head[0])"
   ]
  },
  {
   "cell_type": "code",
   "execution_count": null,
   "id": "7f697753-f86f-47ad-8187-edaa0e1c7989",
   "metadata": {
    "nbgrader": {
     "grade": false,
     "grade_id": "cell-58d124eb9d69fee2",
     "locked": true,
     "schema_version": 3,
     "solution": false,
     "task": false
    }
   },
   "outputs": [],
   "source": [
    "'''\n",
    "Section 4.5: Getting new changes from the remote\n",
    "'''"
   ]
  },
  {
   "cell_type": "code",
   "execution_count": 149,
   "id": "2de81d0a-f802-458b-9745-e6c2071d1601",
   "metadata": {
    "nbgrader": {
     "grade": false,
     "grade_id": "cell-42bffe5d567b74e6",
     "locked": true,
     "schema_version": 3,
     "solution": false,
     "task": false
    }
   },
   "outputs": [
    {
     "name": "stdout",
     "output_type": "stream",
     "text": [
      "/home/nkim337/somewhere-else/git-workflow\n"
     ]
    }
   ],
   "source": [
    "%cd ~/somewhere-else/git-workflow"
   ]
  },
  {
   "cell_type": "code",
   "execution_count": 150,
   "id": "fa0f2fe2-8d4b-44c4-b506-e09a4aa518c2",
   "metadata": {},
   "outputs": [
    {
     "name": "stdout",
     "output_type": "stream",
     "text": [
      "remote: Enumerating objects: 5, done.\u001b[K\n",
      "remote: Counting objects: 100% (5/5), done.\u001b[K\n",
      "remote: Compressing objects: 100% (3/3), done.\u001b[K\n",
      "remote: Total 3 (delta 0), reused 3 (delta 0), pack-reused 0 (from 0)\u001b[K\n",
      "Unpacking objects: 100% (3/3), 378 bytes | 189.00 KiB/s, done.\n",
      "From github.com:natekim27/git-workflow\n",
      "   a3f7f30..101d6db  master     -> origin/master\n",
      "Updating a3f7f30..101d6db\n",
      "Fast-forward\n",
      " my_abs.py | 13 \u001b[32m+++++++++\u001b[m\u001b[31m----\u001b[m\n",
      " 1 file changed, 9 insertions(+), 4 deletions(-)\n"
     ]
    }
   ],
   "source": [
    "'''\n",
    "10. Download changes from the remote\n",
    "'''\n",
    "\n",
    "# TODO: Enter command for git pull\n",
    "!git pull"
   ]
  },
  {
   "cell_type": "code",
   "execution_count": 151,
   "id": "27aea0cd-962a-4f92-9c67-97da052b1cc9",
   "metadata": {
    "nbgrader": {
     "grade": true,
     "grade_id": "cell-cb804cc59c6840ea",
     "locked": true,
     "points": 5,
     "schema_version": 3,
     "solution": false,
     "task": false
    }
   },
   "outputs": [],
   "source": [
    "'''\n",
    "10. Autograder Test\n",
    "'''\n",
    "\n",
    "cat_output = !cat my_abs.py\n",
    "\n",
    "expected_strings = ['import math',\n",
    "                    'def my_abs(x):',\n",
    "                    '    try:',\n",
    "                    '        if x < 0:',\n",
    "                    '            return -x',\n",
    "                    '        else:',\n",
    "                    '            return x',\n",
    "                    '    except TypeError:',\n",
    "                    '        return math.nan']\n",
    "\n",
    "assert(all(any(expected_string in line for line in cat_output) for expected_string in expected_strings))"
   ]
  },
  {
   "cell_type": "code",
   "execution_count": null,
   "id": "75146b6d-bab7-48ee-b81e-271c5d6a9b57",
   "metadata": {},
   "outputs": [],
   "source": []
  }
 ],
 "metadata": {
  "kernelspec": {
   "display_name": "Python 3 (ipykernel)",
   "language": "python",
   "name": "python3"
  },
  "language_info": {
   "codemirror_mode": {
    "name": "ipython",
    "version": 3
   },
   "file_extension": ".py",
   "mimetype": "text/x-python",
   "name": "python",
   "nbconvert_exporter": "python",
   "pygments_lexer": "ipython3",
   "version": "3.10.12"
  }
 },
 "nbformat": 4,
 "nbformat_minor": 5
}
